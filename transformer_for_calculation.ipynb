{
 "cells": [
  {
   "cell_type": "code",
   "execution_count": 1,
   "id": "d24deb45-3d1a-4994-93f0-bd6ef4762eb2",
   "metadata": {},
   "outputs": [
    {
     "name": "stdout",
     "output_type": "stream",
     "text": [
      "Hello world!\n"
     ]
    }
   ],
   "source": [
    "print('Hello world!')"
   ]
  },
  {
   "cell_type": "markdown",
   "id": "6f12f951",
   "metadata": {},
   "source": [
    "### Experimental Setting"
   ]
  },
  {
   "cell_type": "code",
   "execution_count": 2,
   "id": "d128c980",
   "metadata": {},
   "outputs": [],
   "source": [
    "REVERSE_INPUT = True\n",
    "REVERSE_OUTPUT = True\n",
    "OPERATOR = '+'\n",
    "NUM1_RANGE = (0,999)\n",
    "NUM2_RANGE = (0,999)\n",
    "TRAINING_SAMPLE_SIZE =10000\n",
    "TEST_SAMPLE_SIZE = 100\n",
    "TRAINING_EPOCH = 50"
   ]
  },
  {
   "cell_type": "markdown",
   "id": "d1cceda4",
   "metadata": {},
   "source": [
    "### Transformer for Calculation"
   ]
  },
  {
   "cell_type": "code",
   "execution_count": 3,
   "id": "6c4307be-af65-4d83-a36c-fd6eb0d462b6",
   "metadata": {},
   "outputs": [],
   "source": [
    "import numpy as np\n",
    "import matplotlib.pyplot as plt\n",
    "import time\n",
    "import random\n",
    "import os\n",
    "from tqdm import tqdm\n",
    "\n",
    "import torch\n",
    "import torch.nn as nn\n",
    "import torch.optim as optim\n",
    "from torch.nn import functional as F\n",
    "from torch.utils.data import DataLoader, Dataset"
   ]
  },
  {
   "cell_type": "code",
   "execution_count": 4,
   "id": "f994d176",
   "metadata": {},
   "outputs": [],
   "source": [
    "random.seed(12345)\n",
    "np.random.seed(12345)\n",
    "torch.manual_seed(12345)\n",
    "torch.cuda.manual_seed_all(12345)"
   ]
  },
  {
   "cell_type": "code",
   "execution_count": 5,
   "id": "b098a17a-7070-43cb-8f75-c71eba570c75",
   "metadata": {},
   "outputs": [
    {
     "name": "stdout",
     "output_type": "stream",
     "text": [
      "Using device: cuda\n"
     ]
    }
   ],
   "source": [
    "device = torch.device(\"cuda\" if torch.cuda.is_available() else \"cpu\")\n",
    "print(f\"Using device: {device}\")"
   ]
  },
  {
   "cell_type": "code",
   "execution_count": 6,
   "id": "da3d7d7d-af2e-4d6a-8dc7-6e7923a0a268",
   "metadata": {},
   "outputs": [],
   "source": [
    "# Dataset Class\n",
    "class AdditionDataset(Dataset):\n",
    "    def __init__(self, num_samples):\n",
    "        self.samples = [self.generate_sample() for _ in range(num_samples)]\n",
    "\n",
    "    def __len__(self):\n",
    "        return len(self.samples)\n",
    "\n",
    "    def __getitem__(self, idx):\n",
    "        return self.samples[idx]\n",
    "    \n",
    "    @staticmethod\n",
    "    def generate_sample(operator=OPERATOR, reverse_in=REVERSE_INPUT, reverse_out=REVERSE_OUTPUT):\n",
    "        num1 = random.randint(NUM1_RANGE[0], NUM1_RANGE[1])\n",
    "        num2 = random.randint(NUM2_RANGE[0], NUM2_RANGE[1])\n",
    "        result = eval(f'{num1}{operator}{num2}')\n",
    "\n",
    "        if reverse_in:\n",
    "            num1 = str(num1)[::-1]\n",
    "            num2 = str(num2)[::-1]\n",
    "        else:\n",
    "            num1 = str(num1)\n",
    "            num2 = str(num2)\n",
    "\n",
    "        if reverse_out:\n",
    "            result = str(result)[::-1]\n",
    "        else:\n",
    "            result = str(result)\n",
    "\n",
    "        return num1+operator+num2+'='+result"
   ]
  },
  {
   "cell_type": "code",
   "execution_count": 7,
   "id": "bd32a61f",
   "metadata": {},
   "outputs": [],
   "source": [
    "# Hyperparameter\n",
    "MAX_LEN = 16\n",
    "EMBED_SIZE = 384 #256\n",
    "NUM_HEADS = 6 #8\n",
    "NUM_LAYERS = 3 #6 #3\n",
    "DROPOUT = 0 #0.1\n",
    "LEARNING_RATE = 1e-6 #1e-3\n",
    "EPOCHS = TRAINING_EPOCH"
   ]
  },
  {
   "cell_type": "code",
   "execution_count": 8,
   "id": "381dab4f",
   "metadata": {},
   "outputs": [],
   "source": [
    "# TODO: delete\n",
    "n_embd = EMBED_SIZE\n",
    "block_size = MAX_LEN\n",
    "n_layer = NUM_LAYERS\n",
    "dropout = DROPOUT"
   ]
  },
  {
   "cell_type": "code",
   "execution_count": 9,
   "id": "8452a32c",
   "metadata": {},
   "outputs": [],
   "source": [
    "# Tokenization\n",
    "ONEHOT_IDX = {'0': 0, '1': 1, '2': 2, '3': 3, '4': 4, '5': 5, '6': 6, '7': 7, '8': 8, '9': 9, OPERATOR: 10, '=': 11}\n",
    "TOKENS = ''.join(ONEHOT_IDX.keys())\n",
    "VOCAB_SIZE = len(TOKENS)\n",
    "\n",
    "def char_to_idx(char):\n",
    "    return ONEHOT_IDX[char]\n",
    "\n",
    "def idx_to_char(idx):\n",
    "    return TOKENS[idx]"
   ]
  },
  {
   "cell_type": "code",
   "execution_count": 10,
   "id": "611c27c8",
   "metadata": {},
   "outputs": [],
   "source": [
    "class Head(nn.Module):\n",
    "    \"\"\" one head of self-attention \"\"\"\n",
    "\n",
    "    def __init__(self, head_size):\n",
    "        super().__init__()\n",
    "        self.key = nn.Linear(n_embd, head_size, bias=False)\n",
    "        self.query = nn.Linear(n_embd, head_size, bias=False)\n",
    "        self.value = nn.Linear(n_embd, head_size, bias=False)\n",
    "        self.register_buffer('tril', torch.tril(torch.ones(block_size, block_size)))\n",
    "\n",
    "        self.dropout = nn.Dropout(dropout)\n",
    "\n",
    "    def forward(self, x):\n",
    "        # input of size (batch, time-step, channels)\n",
    "        # output of size (batch, time-step, head size)\n",
    "        B,T,C = x.shape\n",
    "        k = self.key(x)   # (B,T,hs)\n",
    "        q = self.query(x) # (B,T,hs)\n",
    "        # compute attention scores (\"affinities\")\n",
    "        wei = q @ k.transpose(-2,-1) * k.shape[-1]**-0.5 # (B, T, hs) @ (B, hs, T) -> (B, T, T)\n",
    "        wei = wei.masked_fill(self.tril[:T, :T] == 0, float('-inf')) # (B, T, T)\n",
    "        wei = F.softmax(wei, dim=-1) # (B, T, T)\n",
    "        wei = self.dropout(wei)\n",
    "        # perform the weighted aggregation of the values\n",
    "        v = self.value(x) # (B,T,hs)\n",
    "        out = wei @ v # (B, T, T) @ (B, T, hs) -> (B, T, hs)\n",
    "        return out"
   ]
  },
  {
   "cell_type": "code",
   "execution_count": 11,
   "id": "3a72ca74",
   "metadata": {},
   "outputs": [],
   "source": [
    "class MultiHeadAttention(nn.Module):\n",
    "    \"\"\" multiple heads of self-attention in parallel \"\"\"\n",
    "\n",
    "    def __init__(self, num_heads, head_size):\n",
    "        super().__init__()\n",
    "        self.heads = nn.ModuleList([Head(head_size) for _ in range(num_heads)])\n",
    "        self.proj = nn.Linear(head_size * num_heads, n_embd)\n",
    "        self.dropout = nn.Dropout(dropout)\n",
    "\n",
    "    def forward(self, x):\n",
    "        out = torch.cat([h(x) for h in self.heads], dim=-1)\n",
    "        out = self.dropout(self.proj(out))\n",
    "        return out"
   ]
  },
  {
   "cell_type": "code",
   "execution_count": 12,
   "id": "e1b8eaab",
   "metadata": {},
   "outputs": [],
   "source": [
    "class FeedFoward(nn.Module):\n",
    "    \"\"\" a simple linear layer followed by a non-linearity \"\"\"\n",
    "\n",
    "    def __init__(self, n_embd):\n",
    "        super().__init__()\n",
    "        self.net = nn.Sequential(\n",
    "            nn.Linear(n_embd, 4 * n_embd),\n",
    "            nn.ReLU(),\n",
    "            nn.Linear(4 * n_embd, n_embd),\n",
    "            nn.Dropout(dropout),\n",
    "        )\n",
    "\n",
    "    def forward(self, x):\n",
    "        return self.net(x)"
   ]
  },
  {
   "cell_type": "code",
   "execution_count": 13,
   "id": "1cc62376",
   "metadata": {},
   "outputs": [],
   "source": [
    "class Block(nn.Module):\n",
    "    \"\"\" Transformer block: communication followed by computation \"\"\"\n",
    "\n",
    "    def __init__(self, n_embd, n_head):\n",
    "        # n_embd: embedding dimension, n_head: the number of heads we'd like\n",
    "        super().__init__()\n",
    "        head_size = n_embd // n_head\n",
    "        self.sa = MultiHeadAttention(n_head, head_size)\n",
    "        self.ffwd = FeedFoward(n_embd)\n",
    "        self.ln1 = nn.LayerNorm(n_embd)\n",
    "        self.ln2 = nn.LayerNorm(n_embd)\n",
    "\n",
    "    def forward(self, x):\n",
    "        x = x + self.sa(self.ln1(x))\n",
    "        x = x + self.ffwd(self.ln2(x))\n",
    "        return x"
   ]
  },
  {
   "cell_type": "code",
   "execution_count": 14,
   "id": "a09dee84-ec8a-4084-9c96-c04e956cc133",
   "metadata": {},
   "outputs": [],
   "source": [
    "# Model definition\n",
    "class TransformerDecoderModel(nn.Module):\n",
    "    def __init__(self, vocab_size, embed_size, max_len, num_heads, num_layers, dropout=0.1):\n",
    "        super().__init__()\n",
    "        # each token directly reads off the logits for the next token from a lookup table\n",
    "        self.token_embedding_table = nn.Embedding(vocab_size, embed_size)\n",
    "        self.position_embedding_table = nn.Embedding(max_len, embed_size)\n",
    "        self.blocks = nn.Sequential(*[Block(embed_size, n_head=num_heads) for _ in range(num_layers)])\n",
    "        self.ln_f = nn.LayerNorm(embed_size) # final layer norm\n",
    "        self.lm_head = nn.Linear(embed_size, vocab_size)\n",
    "\n",
    "    def forward(self, idx):\n",
    "        B, T = idx.shape\n",
    "\n",
    "        # idx and targets are both (B,T) tensor of integers\n",
    "        tok_emb = self.token_embedding_table(idx) # (B,T,C)\n",
    "        pos_emb = self.position_embedding_table(torch.arange(T, device=device)) # (T,C)\n",
    "        x = tok_emb + pos_emb # (B,T,C)\n",
    "        x = self.blocks(x) # (B,T,C)\n",
    "        x = self.ln_f(x) # (B,T,C)\n",
    "        logits = self.lm_head(x) # (B,T,vocab_size)\n",
    "        return logits\n"
   ]
  },
  {
   "cell_type": "code",
   "execution_count": 15,
   "id": "de8bcc6b-e41e-43f7-92de-49bb549d010d",
   "metadata": {},
   "outputs": [],
   "source": [
    "# Visualization\n",
    "def vis_pca(data, labels, title='', show=False):\n",
    "    \n",
    "    from sklearn.decomposition import PCA\n",
    "    import matplotlib.pyplot as plt\n",
    "    \n",
    "    pca = PCA(n_components=8)\n",
    "    transformed_list = pca.fit_transform(data.cpu().detach().numpy())  # (label cnt, pc cnt)\n",
    "\n",
    "    plt.figure(figsize=(14, 14))\n",
    "\n",
    "    pc_axes = [[0,1],[2,3],[4,5],[6,7]]\n",
    "    for plot_id, (pcx, pcy) in enumerate(pc_axes):\n",
    "        for point_id, transformed in enumerate(transformed_list):\n",
    "            plt.subplot(2, 2, plot_id+1)  # plt.subplot(row, col, i)\n",
    "            plt.xlabel(f'PC{pcx+1} ({pca.explained_variance_ratio_[pcx]*100:.1f}%)')\n",
    "            plt.ylabel(f'PC{pcy+1} ({pca.explained_variance_ratio_[pcy]*100:.1f}%)')\n",
    "            plt.scatter(transformed[pcx], transformed[pcy], alpha=0.25)\n",
    "            plt.text(transformed[pcx], transformed[pcy], f\"'{labels[point_id]}'\")\n",
    "            \n",
    "    plt.suptitle(title)\n",
    "\n",
    "    if show:\n",
    "        plt.show()\n",
    "    else:\n",
    "        if not os.path.exists('emb_vis'): os.makedirs('emb_vis')\n",
    "        plt.savefig(f'emb_vis/pca_{time.strftime(\"%Y%m%d-%H%M%S\")}.png', bbox_inches='tight')\n",
    "        plt.close()\n",
    "\n",
    "# vis_pca(model.token_emb(torch.tensor([char_to_idx(token) for token in TOKENS]).to(device)), TOKENS, title='Test', show=True)"
   ]
  },
  {
   "cell_type": "code",
   "execution_count": 16,
   "id": "dafab7b8-ef80-477b-8898-f3d8581f94f1",
   "metadata": {},
   "outputs": [
    {
     "name": "stderr",
     "output_type": "stream",
     "text": [
      "e:\\arithmeticGPT-simple\\.venv\\lib\\site-packages\\tqdm\\auto.py:21: TqdmWarning: IProgress not found. Please update jupyter and ipywidgets. See https://ipywidgets.readthedocs.io/en/stable/user_install.html\n",
      "  from .autonotebook import tqdm as notebook_tqdm\n"
     ]
    }
   ],
   "source": [
    "model = TransformerDecoderModel(\n",
    "    vocab_size=VOCAB_SIZE,\n",
    "    embed_size=EMBED_SIZE,\n",
    "    max_len=MAX_LEN, \n",
    "    num_heads=NUM_HEADS, \n",
    "    num_layers=NUM_LAYERS, \n",
    "    dropout=DROPOUT,\n",
    "    )\n",
    "optimizer = optim.Adam(model.parameters(), lr=LEARNING_RATE)"
   ]
  },
  {
   "cell_type": "code",
   "execution_count": 17,
   "id": "56850ae5-3aa4-44ef-bd9e-9ecc82d0a6b7",
   "metadata": {},
   "outputs": [],
   "source": [
    "train_dataset = AdditionDataset(num_samples=TRAINING_SAMPLE_SIZE)\n",
    "train_loader = DataLoader(train_dataset, batch_size=1)"
   ]
  },
  {
   "cell_type": "code",
   "execution_count": 18,
   "id": "5d7456c0-271d-46ef-bcb8-2c691e54da08",
   "metadata": {},
   "outputs": [],
   "source": [
    "model = model.to(device)"
   ]
  },
  {
   "cell_type": "code",
   "execution_count": 19,
   "id": "672d3c38",
   "metadata": {},
   "outputs": [],
   "source": [
    "PCA_TITLE_PREFIX = \"TOP-8 Embedding PCA\""
   ]
  },
  {
   "cell_type": "code",
   "execution_count": 20,
   "id": "f468a805",
   "metadata": {},
   "outputs": [],
   "source": [
    "emb_func = model.token_embedding_table"
   ]
  },
  {
   "cell_type": "code",
   "execution_count": 21,
   "id": "fac8685d-1170-480f-a000-05461788e4b7",
   "metadata": {},
   "outputs": [],
   "source": [
    "data = emb_func(torch.tensor([char_to_idx(token) for token in TOKENS]).to(device))\n",
    "vis_pca(data, TOKENS, title=f'{PCA_TITLE_PREFIX} (Epoch:0, Loss:N/A)')"
   ]
  },
  {
   "cell_type": "code",
   "execution_count": 22,
   "id": "51b083d3-e420-445d-acb6-4379cd189344",
   "metadata": {},
   "outputs": [
    {
     "name": "stderr",
     "output_type": "stream",
     "text": [
      "100%|██████████| 10000/10000 [03:05<00:00, 53.86it/s]\n"
     ]
    },
    {
     "name": "stdout",
     "output_type": "stream",
     "text": [
      "Epoch 1, Loss: 1.784134452879429\n"
     ]
    },
    {
     "name": "stderr",
     "output_type": "stream",
     "text": [
      "100%|██████████| 10000/10000 [03:31<00:00, 47.19it/s]\n"
     ]
    },
    {
     "name": "stdout",
     "output_type": "stream",
     "text": [
      "Epoch 2, Loss: 1.7507156111359596\n"
     ]
    },
    {
     "name": "stderr",
     "output_type": "stream",
     "text": [
      "100%|██████████| 10000/10000 [03:35<00:00, 46.35it/s]\n"
     ]
    },
    {
     "name": "stdout",
     "output_type": "stream",
     "text": [
      "Epoch 3, Loss: 1.748005974817276\n"
     ]
    },
    {
     "name": "stderr",
     "output_type": "stream",
     "text": [
      "100%|██████████| 10000/10000 [03:39<00:00, 45.49it/s]\n"
     ]
    },
    {
     "name": "stdout",
     "output_type": "stream",
     "text": [
      "Epoch 4, Loss: 1.7469298564314841\n"
     ]
    },
    {
     "name": "stderr",
     "output_type": "stream",
     "text": [
      "100%|██████████| 10000/10000 [03:40<00:00, 45.30it/s]\n"
     ]
    },
    {
     "name": "stdout",
     "output_type": "stream",
     "text": [
      "Epoch 5, Loss: 1.7462207366347313\n"
     ]
    },
    {
     "name": "stderr",
     "output_type": "stream",
     "text": [
      "100%|██████████| 10000/10000 [03:41<00:00, 45.06it/s]\n"
     ]
    },
    {
     "name": "stdout",
     "output_type": "stream",
     "text": [
      "Epoch 6, Loss: 1.7456130874752998\n"
     ]
    },
    {
     "name": "stderr",
     "output_type": "stream",
     "text": [
      "100%|██████████| 10000/10000 [03:41<00:00, 45.12it/s]\n"
     ]
    },
    {
     "name": "stdout",
     "output_type": "stream",
     "text": [
      "Epoch 7, Loss: 1.7450065529108048\n"
     ]
    },
    {
     "name": "stderr",
     "output_type": "stream",
     "text": [
      "100%|██████████| 10000/10000 [03:41<00:00, 45.19it/s]\n"
     ]
    },
    {
     "name": "stdout",
     "output_type": "stream",
     "text": [
      "Epoch 8, Loss: 1.7443235303878784\n"
     ]
    },
    {
     "name": "stderr",
     "output_type": "stream",
     "text": [
      "100%|██████████| 10000/10000 [03:40<00:00, 45.35it/s]\n"
     ]
    },
    {
     "name": "stdout",
     "output_type": "stream",
     "text": [
      "Epoch 9, Loss: 1.7434484099268914\n"
     ]
    },
    {
     "name": "stderr",
     "output_type": "stream",
     "text": [
      "100%|██████████| 10000/10000 [03:33<00:00, 46.78it/s]\n"
     ]
    },
    {
     "name": "stdout",
     "output_type": "stream",
     "text": [
      "Epoch 10, Loss: 1.742143963265419\n"
     ]
    },
    {
     "name": "stderr",
     "output_type": "stream",
     "text": [
      "100%|██████████| 10000/10000 [03:33<00:00, 46.91it/s]\n"
     ]
    },
    {
     "name": "stdout",
     "output_type": "stream",
     "text": [
      "Epoch 11, Loss: 1.7399068315386772\n"
     ]
    },
    {
     "name": "stderr",
     "output_type": "stream",
     "text": [
      "100%|██████████| 10000/10000 [03:35<00:00, 46.51it/s]\n"
     ]
    },
    {
     "name": "stdout",
     "output_type": "stream",
     "text": [
      "Epoch 12, Loss: 1.735873226606846\n"
     ]
    },
    {
     "name": "stderr",
     "output_type": "stream",
     "text": [
      "100%|██████████| 10000/10000 [03:30<00:00, 47.52it/s]\n"
     ]
    },
    {
     "name": "stdout",
     "output_type": "stream",
     "text": [
      "Epoch 13, Loss: 1.7286134745955468\n"
     ]
    },
    {
     "name": "stderr",
     "output_type": "stream",
     "text": [
      "100%|██████████| 10000/10000 [03:33<00:00, 46.87it/s]\n"
     ]
    },
    {
     "name": "stdout",
     "output_type": "stream",
     "text": [
      "Epoch 14, Loss: 1.7135644323468209\n"
     ]
    },
    {
     "name": "stderr",
     "output_type": "stream",
     "text": [
      " 22%|██▏       | 2190/10000 [00:41<02:29, 52.14it/s]\n"
     ]
    },
    {
     "ename": "KeyboardInterrupt",
     "evalue": "",
     "output_type": "error",
     "traceback": [
      "\u001b[1;31m---------------------------------------------------------------------------\u001b[0m",
      "\u001b[1;31mKeyboardInterrupt\u001b[0m                         Traceback (most recent call last)",
      "Cell \u001b[1;32mIn[22], line 27\u001b[0m\n\u001b[0;32m     24\u001b[0m rhs_pred \u001b[38;5;241m=\u001b[39m torch\u001b[38;5;241m.\u001b[39mcat((lhs, pred[eqi:]), dim\u001b[38;5;241m=\u001b[39m\u001b[38;5;241m0\u001b[39m)  \u001b[38;5;66;03m# (seq_len, VOCAB_SIZE)\u001b[39;00m\n\u001b[0;32m     25\u001b[0m loss \u001b[38;5;241m=\u001b[39m F\u001b[38;5;241m.\u001b[39mcross_entropy(rhs_pred, true)  \u001b[38;5;66;03m# Compare RHS\u001b[39;00m\n\u001b[1;32m---> 27\u001b[0m \u001b[43mloss\u001b[49m\u001b[38;5;241;43m.\u001b[39;49m\u001b[43mbackward\u001b[49m\u001b[43m(\u001b[49m\u001b[43m)\u001b[49m\n\u001b[0;32m     28\u001b[0m optimizer\u001b[38;5;241m.\u001b[39mstep()\n\u001b[0;32m     30\u001b[0m epoch_loss \u001b[38;5;241m+\u001b[39m\u001b[38;5;241m=\u001b[39m loss\u001b[38;5;241m.\u001b[39mitem()\u001b[38;5;241m/\u001b[39m\u001b[38;5;28mlen\u001b[39m(batch)\n",
      "File \u001b[1;32me:\\arithmeticGPT-simple\\.venv\\lib\\site-packages\\torch\\_tensor.py:492\u001b[0m, in \u001b[0;36mTensor.backward\u001b[1;34m(self, gradient, retain_graph, create_graph, inputs)\u001b[0m\n\u001b[0;32m    482\u001b[0m \u001b[38;5;28;01mif\u001b[39;00m has_torch_function_unary(\u001b[38;5;28mself\u001b[39m):\n\u001b[0;32m    483\u001b[0m     \u001b[38;5;28;01mreturn\u001b[39;00m handle_torch_function(\n\u001b[0;32m    484\u001b[0m         Tensor\u001b[38;5;241m.\u001b[39mbackward,\n\u001b[0;32m    485\u001b[0m         (\u001b[38;5;28mself\u001b[39m,),\n\u001b[1;32m   (...)\u001b[0m\n\u001b[0;32m    490\u001b[0m         inputs\u001b[38;5;241m=\u001b[39minputs,\n\u001b[0;32m    491\u001b[0m     )\n\u001b[1;32m--> 492\u001b[0m \u001b[43mtorch\u001b[49m\u001b[38;5;241;43m.\u001b[39;49m\u001b[43mautograd\u001b[49m\u001b[38;5;241;43m.\u001b[39;49m\u001b[43mbackward\u001b[49m\u001b[43m(\u001b[49m\n\u001b[0;32m    493\u001b[0m \u001b[43m    \u001b[49m\u001b[38;5;28;43mself\u001b[39;49m\u001b[43m,\u001b[49m\u001b[43m \u001b[49m\u001b[43mgradient\u001b[49m\u001b[43m,\u001b[49m\u001b[43m \u001b[49m\u001b[43mretain_graph\u001b[49m\u001b[43m,\u001b[49m\u001b[43m \u001b[49m\u001b[43mcreate_graph\u001b[49m\u001b[43m,\u001b[49m\u001b[43m \u001b[49m\u001b[43minputs\u001b[49m\u001b[38;5;241;43m=\u001b[39;49m\u001b[43minputs\u001b[49m\n\u001b[0;32m    494\u001b[0m \u001b[43m\u001b[49m\u001b[43m)\u001b[49m\n",
      "File \u001b[1;32me:\\arithmeticGPT-simple\\.venv\\lib\\site-packages\\torch\\autograd\\__init__.py:251\u001b[0m, in \u001b[0;36mbackward\u001b[1;34m(tensors, grad_tensors, retain_graph, create_graph, grad_variables, inputs)\u001b[0m\n\u001b[0;32m    246\u001b[0m     retain_graph \u001b[38;5;241m=\u001b[39m create_graph\n\u001b[0;32m    248\u001b[0m \u001b[38;5;66;03m# The reason we repeat the same comment below is that\u001b[39;00m\n\u001b[0;32m    249\u001b[0m \u001b[38;5;66;03m# some Python versions print out the first line of a multi-line function\u001b[39;00m\n\u001b[0;32m    250\u001b[0m \u001b[38;5;66;03m# calls in the traceback and some print out the last line\u001b[39;00m\n\u001b[1;32m--> 251\u001b[0m \u001b[43mVariable\u001b[49m\u001b[38;5;241;43m.\u001b[39;49m\u001b[43m_execution_engine\u001b[49m\u001b[38;5;241;43m.\u001b[39;49m\u001b[43mrun_backward\u001b[49m\u001b[43m(\u001b[49m\u001b[43m  \u001b[49m\u001b[38;5;66;43;03m# Calls into the C++ engine to run the backward pass\u001b[39;49;00m\n\u001b[0;32m    252\u001b[0m \u001b[43m    \u001b[49m\u001b[43mtensors\u001b[49m\u001b[43m,\u001b[49m\n\u001b[0;32m    253\u001b[0m \u001b[43m    \u001b[49m\u001b[43mgrad_tensors_\u001b[49m\u001b[43m,\u001b[49m\n\u001b[0;32m    254\u001b[0m \u001b[43m    \u001b[49m\u001b[43mretain_graph\u001b[49m\u001b[43m,\u001b[49m\n\u001b[0;32m    255\u001b[0m \u001b[43m    \u001b[49m\u001b[43mcreate_graph\u001b[49m\u001b[43m,\u001b[49m\n\u001b[0;32m    256\u001b[0m \u001b[43m    \u001b[49m\u001b[43minputs\u001b[49m\u001b[43m,\u001b[49m\n\u001b[0;32m    257\u001b[0m \u001b[43m    \u001b[49m\u001b[43mallow_unreachable\u001b[49m\u001b[38;5;241;43m=\u001b[39;49m\u001b[38;5;28;43;01mTrue\u001b[39;49;00m\u001b[43m,\u001b[49m\n\u001b[0;32m    258\u001b[0m \u001b[43m    \u001b[49m\u001b[43maccumulate_grad\u001b[49m\u001b[38;5;241;43m=\u001b[39;49m\u001b[38;5;28;43;01mTrue\u001b[39;49;00m\u001b[43m,\u001b[49m\n\u001b[0;32m    259\u001b[0m \u001b[43m\u001b[49m\u001b[43m)\u001b[49m\n",
      "\u001b[1;31mKeyboardInterrupt\u001b[0m: "
     ]
    }
   ],
   "source": [
    "# Train\n",
    "model.train()\n",
    "losses = []\n",
    "for epoch in range(EPOCHS):\n",
    "    epoch_loss = 0\n",
    "    for batch in tqdm(train_loader):\n",
    "        for data in batch:\n",
    "            input_tensor = torch.tensor([char_to_idx(char) for char in data[:-1]], dtype=torch.long).unsqueeze(0).to(device)\n",
    "            target_tensor = torch.tensor([char_to_idx(char) for char in data[1:]], dtype=torch.long).unsqueeze(0).to(device)\n",
    "\n",
    "            optimizer.zero_grad()\n",
    "            output = model(input_tensor)  # (batch=1, seq_len) -> (batch=1, seq_len, VOCAB_SIZE)\n",
    "\n",
    "            output_onehot = np.argmax(output.cpu().detach(), axis=2)  # (batch=1, seq_len)\n",
    "            \n",
    "            pred = output.view(-1, VOCAB_SIZE)  # (seq_len, VOCAB_SIZE)\n",
    "            true = target_tensor.view(-1)  # (seq_len)\n",
    "            # loss = F.cross_entropy(pred, true)  # Compare all (inefficient)\n",
    "            \n",
    "            eqi = data[:-1].index('=')\n",
    "            lhs = torch.zeros_like(pred[:eqi])\n",
    "            for i in range(eqi):\n",
    "                lhs[i][true[i]] = 1\n",
    "            rhs_pred = torch.cat((lhs, pred[eqi:]), dim=0)  # (seq_len, VOCAB_SIZE)\n",
    "            loss = F.cross_entropy(rhs_pred, true)  # Compare RHS\n",
    "            \n",
    "            loss.backward()\n",
    "            optimizer.step()\n",
    "\n",
    "            epoch_loss += loss.item()/len(batch)\n",
    "    losses.append(epoch_loss/len(train_loader))\n",
    "    print(f\"Epoch {epoch+1}, Loss: {losses[-1]}\")\n",
    "    \n",
    "    data = emb_func(torch.tensor([char_to_idx(token) for token in TOKENS]).to(device))\n",
    "    vis_pca(data, TOKENS, title=f'{PCA_TITLE_PREFIX} (Epoch:{epoch+1}, Loss:{losses[-1]:.2f})')\n",
    "\n",
    "plt.title('Loss'); plt.plot(losses)"
   ]
  },
  {
   "cell_type": "code",
   "execution_count": null,
   "id": "fb516ab7-ed61-4f80-b9d4-a3756898761e",
   "metadata": {},
   "outputs": [
    {
     "name": "stdout",
     "output_type": "stream",
     "text": [
      "sentence:  885+685=4711\n",
      "target_char:  ['4', '7', '1', '1']\n",
      "output_char:  ['0', '6', '1', '1']\n",
      "sentence:  265+055=2111\n",
      "target_char:  ['2', '1', '1', '1']\n",
      "output_char:  ['3', '3', '8', '1']\n",
      "sentence:  308+855=1631\n",
      "target_char:  ['1', '6', '3', '1']\n",
      "output_char:  ['8', '8', '9', '1']\n",
      "sentence:  931+83=771\n",
      "target_char:  ['7', '7', '1']\n",
      "output_char:  ['9', '9', '7']\n",
      "sentence:  457+475=8231\n",
      "target_char:  ['8', '2', '3', '1']\n",
      "output_char:  ['1', '8', '8', '1']\n",
      "sentence:  497+488=8761\n",
      "target_char:  ['8', '7', '6', '1']\n",
      "output_char:  ['8', '8', '4', '1']\n",
      "sentence:  153+02=173\n",
      "target_char:  ['1', '7', '3']\n",
      "output_char:  ['9', '7', '2']\n",
      "sentence:  477+462=8301\n",
      "target_char:  ['8', '3', '0', '1']\n",
      "output_char:  ['1', '8', '8', '1']\n",
      "sentence:  195+035=1211\n",
      "target_char:  ['1', '2', '1', '1']\n",
      "output_char:  ['3', '4', '8', '1']\n",
      "sentence:  609+604=2131\n",
      "target_char:  ['2', '1', '3', '1']\n",
      "output_char:  ['9', '9', '1', '1']\n",
      "sentence:  548+007=5451\n",
      "target_char:  ['5', '4', '5', '1']\n",
      "output_char:  ['3', '8', '0', '1']\n",
      "sentence:  296+851=058\n",
      "target_char:  ['0', '5', '8']\n",
      "output_char:  ['9', '6', '5']\n",
      "sentence:  284+626=8011\n",
      "target_char:  ['8', '0', '1', '1']\n",
      "output_char:  ['9', '8', '1', '1']\n",
      "sentence:  95+215=175\n",
      "target_char:  ['1', '7', '5']\n",
      "output_char:  ['9', '1', '2']\n",
      "sentence:  261+208=469\n",
      "target_char:  ['4', '6', '9']\n",
      "output_char:  ['9', '6', '9']\n",
      "sentence:  707+156=8531\n",
      "target_char:  ['8', '5', '3', '1']\n",
      "output_char:  ['1', '8', '5', '1']\n",
      "sentence:  814+107=9111\n",
      "target_char:  ['9', '1', '1', '1']\n",
      "output_char:  ['9', '1', '9', '1']\n",
      "sentence:  434+392=727\n",
      "target_char:  ['7', '2', '7']\n",
      "output_char:  ['3', '7', '8']\n",
      "sentence:  707+739=4461\n",
      "target_char:  ['4', '4', '6', '1']\n",
      "output_char:  ['3', '3', '1', '1']\n",
      "sentence:  046+763=7001\n",
      "target_char:  ['7', '0', '0', '1']\n",
      "output_char:  ['1', '7', '1', '1']\n",
      "sentence:  776+136=8031\n",
      "target_char:  ['8', '0', '3', '1']\n",
      "output_char:  ['1', '6', '1', '1']\n",
      "sentence:  206+143=349\n",
      "target_char:  ['3', '4', '9']\n",
      "output_char:  ['1', '6', '6']\n",
      "sentence:  376+178=4451\n",
      "target_char:  ['4', '4', '5', '1']\n",
      "output_char:  ['3', '6', '6', '1']\n",
      "sentence:  52+747=277\n",
      "target_char:  ['2', '7', '7']\n",
      "output_char:  ['6', '7', '8']\n",
      "sentence:  9+985=895\n",
      "target_char:  ['8', '9', '5']\n",
      "output_char:  ['9', '6', '6']\n",
      "sentence:  712+359=0711\n",
      "target_char:  ['0', '7', '1', '1']\n",
      "output_char:  ['3', '6', '9', '1']\n",
      "sentence:  439+415=8441\n",
      "target_char:  ['8', '4', '4', '1']\n",
      "output_char:  ['1', '8', '6', '1']\n",
      "sentence:  573+253=727\n",
      "target_char:  ['7', '2', '7']\n",
      "output_char:  ['3', '7', '8']\n",
      "sentence:  962+3=272\n",
      "target_char:  ['2', '7', '2']\n",
      "output_char:  ['9', '3', '9']\n",
      "sentence:  033+448=4711\n",
      "target_char:  ['4', '7', '1', '1']\n",
      "output_char:  ['1', '7', '7', '1']\n",
      "sentence:  052+429=4711\n",
      "target_char:  ['4', '7', '1', '1']\n",
      "output_char:  ['2', '3', '1', '1']\n",
      "sentence:  392+873=176\n",
      "target_char:  ['1', '7', '6']\n",
      "output_char:  ['9', '3', '7']\n",
      "sentence:  901+807=718\n",
      "target_char:  ['7', '1', '8']\n",
      "output_char:  ['9', '9', '9']\n",
      "sentence:  287+695=8731\n",
      "target_char:  ['8', '7', '3', '1']\n",
      "output_char:  ['9', '8', '9', '1']\n",
      "sentence:  183+054=138\n",
      "target_char:  ['1', '3', '8']\n",
      "output_char:  ['3', '7', '0']\n",
      "sentence:  878+621=4001\n",
      "target_char:  ['4', '0', '0', '1']\n",
      "output_char:  ['9', '5', '1', '1']\n",
      "sentence:  9+184=094\n",
      "target_char:  ['0', '9', '4']\n",
      "output_char:  ['9', '0', '1']\n",
      "sentence:  113+017=1201\n",
      "target_char:  ['1', '2', '0', '1']\n",
      "output_char:  ['3', '3', '3', '1']\n",
      "sentence:  389+315=6941\n",
      "target_char:  ['6', '9', '4', '1']\n",
      "output_char:  ['3', '3', '3', '1']\n",
      "sentence:  098+889=8781\n",
      "target_char:  ['8', '7', '8', '1']\n",
      "output_char:  ['8', '9', '1', '1']\n",
      "sentence:  904+499=3041\n",
      "target_char:  ['3', '0', '4', '1']\n",
      "output_char:  ['8', '9', '1', '1']\n",
      "sentence:  378+909=2871\n",
      "target_char:  ['2', '8', '7', '1']\n",
      "output_char:  ['0', '9', '8', '1']\n",
      "sentence:  639+066=6951\n",
      "target_char:  ['6', '9', '5', '1']\n",
      "output_char:  ['9', '3', '9', '1']\n",
      "sentence:  823+989=7131\n",
      "target_char:  ['7', '1', '3', '1']\n",
      "output_char:  ['9', '9', '9', '1']\n",
      "sentence:  817+841=668\n",
      "target_char:  ['6', '6', '8']\n",
      "output_char:  ['9', '8', '9']\n",
      "sentence:  221+964=195\n",
      "target_char:  ['1', '9', '5']\n",
      "output_char:  ['1', '9', '9']\n",
      "sentence:  746+485=1321\n",
      "target_char:  ['1', '3', '2', '1']\n",
      "output_char:  ['1', '8', '8', '1']\n",
      "sentence:  277+008=2751\n",
      "target_char:  ['2', '7', '5', '1']\n",
      "output_char:  ['9', '9', '9', '1']\n",
      "sentence:  385+006=3811\n",
      "target_char:  ['3', '8', '1', '1']\n",
      "output_char:  ['3', '6', '1', '1']\n",
      "sentence:  865+402=277\n",
      "target_char:  ['2', '7', '7']\n",
      "output_char:  ['2', '6', '9']\n",
      "sentence:  034+198=1231\n",
      "target_char:  ['1', '2', '3', '1']\n",
      "output_char:  ['1', '8', '8', '1']\n",
      "sentence:  225+915=1401\n",
      "target_char:  ['1', '4', '0', '1']\n",
      "output_char:  ['1', '3', '6', '1']\n",
      "sentence:  651+856=418\n",
      "target_char:  ['4', '1', '8']\n",
      "output_char:  ['1', '5', '8']\n",
      "sentence:  496+01=407\n",
      "target_char:  ['4', '0', '7']\n",
      "output_char:  ['9', '1', '6']\n",
      "sentence:  59+237=728\n",
      "target_char:  ['7', '2', '8']\n",
      "output_char:  ['6', '2', '3']\n",
      "sentence:  72+545=275\n",
      "target_char:  ['2', '7', '5']\n",
      "output_char:  ['4', '1', '8']\n",
      "sentence:  006+046=0421\n",
      "target_char:  ['0', '4', '2', '1']\n",
      "output_char:  ['3', '6', '1', '1']\n",
      "sentence:  087+974=9521\n",
      "target_char:  ['9', '5', '2', '1']\n",
      "output_char:  ['3', '9', '1', '1']\n",
      "sentence:  337+066=3931\n",
      "target_char:  ['3', '9', '3', '1']\n",
      "output_char:  ['3', '3', '9', '1']\n",
      "sentence:  051+684=636\n",
      "target_char:  ['6', '3', '6']\n",
      "output_char:  ['1', '1', '8']\n",
      "sentence:  254+959=1141\n",
      "target_char:  ['1', '1', '4', '1']\n",
      "output_char:  ['1', '8', '8', '1']\n",
      "sentence:  214+438=6421\n",
      "target_char:  ['6', '4', '2', '1']\n",
      "output_char:  ['9', '4', '6', '1']\n",
      "sentence:  613+31=923\n",
      "target_char:  ['9', '2', '3']\n",
      "output_char:  ['9', '1', '3']\n",
      "sentence:  239+834=0731\n",
      "target_char:  ['0', '7', '3', '1']\n",
      "output_char:  ['9', '7', '1', '1']\n",
      "sentence:  906+823=739\n",
      "target_char:  ['7', '3', '9']\n",
      "output_char:  ['9', '7', '8']\n",
      "sentence:  472+897=2701\n",
      "target_char:  ['2', '7', '0', '1']\n",
      "output_char:  ['8', '9', '9', '1']\n",
      "sentence:  156+723=879\n",
      "target_char:  ['8', '7', '9']\n",
      "output_char:  ['3', '2', '4']\n",
      "sentence:  029+853=8721\n",
      "target_char:  ['8', '7', '2', '1']\n",
      "output_char:  ['9', '9', '1', '1']\n",
      "sentence:  168+769=8281\n",
      "target_char:  ['8', '2', '8', '1']\n",
      "output_char:  ['6', '8', '8', '1']\n",
      "sentence:  58+275=756\n",
      "target_char:  ['7', '5', '6']\n",
      "output_char:  ['2', '2', '6']\n",
      "sentence:  478+143=5121\n",
      "target_char:  ['5', '1', '2', '1']\n",
      "output_char:  ['1', '8', '8', '1']\n",
      "sentence:  198+442=5311\n",
      "target_char:  ['5', '3', '1', '1']\n",
      "output_char:  ['8', '8', '8', '1']\n",
      "sentence:  038+9=938\n",
      "target_char:  ['9', '3', '8']\n",
      "output_char:  ['9', '4', '1']\n",
      "sentence:  112+924=046\n",
      "target_char:  ['0', '4', '6']\n",
      "output_char:  ['9', '2', '6']\n",
      "sentence:  502+461=963\n",
      "target_char:  ['9', '6', '3']\n",
      "output_char:  ['2', '1', '2']\n",
      "sentence:  367+913=2801\n",
      "target_char:  ['2', '8', '0', '1']\n",
      "output_char:  ['3', '3', '8', '1']\n",
      "sentence:  189+634=7141\n",
      "target_char:  ['7', '1', '4', '1']\n",
      "output_char:  ['9', '7', '8', '1']\n",
      "sentence:  493+339=7231\n",
      "target_char:  ['7', '2', '3', '1']\n",
      "output_char:  ['3', '7', '7', '1']\n",
      "sentence:  46+826=296\n",
      "target_char:  ['2', '9', '6']\n",
      "output_char:  ['6', '7', '7']\n",
      "sentence:  12+796=817\n",
      "target_char:  ['8', '1', '7']\n",
      "output_char:  ['9', '8', '8']\n",
      "sentence:  609+409=0181\n",
      "target_char:  ['0', '1', '8', '1']\n",
      "output_char:  ['9', '9', '1', '1']\n",
      "sentence:  96+898=769\n",
      "target_char:  ['7', '6', '9']\n",
      "output_char:  ['9', '9', '8']\n",
      "sentence:  456+337=7831\n",
      "target_char:  ['7', '8', '3', '1']\n",
      "output_char:  ['3', '7', '8', '1']\n",
      "sentence:  392+915=218\n",
      "target_char:  ['2', '1', '8']\n",
      "output_char:  ['3', '9', '7']\n",
      "sentence:  935+133=078\n",
      "target_char:  ['0', '7', '8']\n",
      "output_char:  ['2', '6', '1']\n",
      "sentence:  963+953=827\n",
      "target_char:  ['8', '2', '7']\n",
      "output_char:  ['0', '9', '8']\n",
      "sentence:  842+994=747\n",
      "target_char:  ['7', '4', '7']\n",
      "output_char:  ['9', '9', '6']\n",
      "sentence:  136+402=538\n",
      "target_char:  ['5', '3', '8']\n",
      "output_char:  ['9', '3', '4']\n",
      "sentence:  568+434=9921\n",
      "target_char:  ['9', '9', '2', '1']\n",
      "output_char:  ['2', '1', '9', '1']\n",
      "sentence:  947+869=7171\n",
      "target_char:  ['7', '1', '7', '1']\n",
      "output_char:  ['8', '8', '8', '1']\n",
      "sentence:  536+235=7611\n",
      "target_char:  ['7', '6', '1', '1']\n",
      "output_char:  ['3', '7', '2', '1']\n",
      "sentence:  035+385=3111\n",
      "target_char:  ['3', '1', '1', '1']\n",
      "output_char:  ['3', '6', '7', '1']\n",
      "sentence:  694+528=1231\n",
      "target_char:  ['1', '2', '3', '1']\n",
      "output_char:  ['5', '8', '8', '1']\n",
      "sentence:  815+759=5741\n",
      "target_char:  ['5', '7', '4', '1']\n",
      "output_char:  ['5', '6', '4', '1']\n",
      "sentence:  419+855=2741\n",
      "target_char:  ['2', '7', '4', '1']\n",
      "output_char:  ['1', '9', '1', '1']\n",
      "sentence:  466+877=2441\n",
      "target_char:  ['2', '4', '4', '1']\n",
      "output_char:  ['1', '6', '0', '1']\n",
      "sentence:  457+452=8001\n",
      "target_char:  ['8', '0', '0', '1']\n",
      "output_char:  ['8', '8', '1', '1']\n",
      "sentence:  849+298=0481\n",
      "target_char:  ['0', '4', '8', '1']\n",
      "output_char:  ['9', '0', '1', '1']\n",
      "sentence:  677+887=4651\n",
      "target_char:  ['4', '6', '5', '1']\n",
      "output_char:  ['8', '6', '9', '1']\n",
      "sentence:  327+515=8321\n",
      "target_char:  ['8', '3', '2', '1']\n",
      "output_char:  ['3', '8', '3', '1']\n"
     ]
    }
   ],
   "source": [
    "test_dataset = AdditionDataset(num_samples=TEST_SAMPLE_SIZE)\n",
    "test_loader = DataLoader(test_dataset, batch_size=1)\n",
    "\n",
    "def evaluate_model(model, data):\n",
    "    model.eval()  # 모델을 평가 모드로 설정\n",
    "    \n",
    "    pred_total = pred_correct = 0\n",
    "    with torch.no_grad():\n",
    "        for batch in test_loader:\n",
    "            for data in batch:\n",
    "                input_tensor = torch.tensor([char_to_idx(char) for char in data[:-1]], dtype=torch.long).unsqueeze(0).to(device)\n",
    "                target_tensor = torch.tensor([char_to_idx(char) for char in data[1:]], dtype=torch.long).unsqueeze(0).to(device)\n",
    "    \n",
    "                output = model(input_tensor)\n",
    "\n",
    "                output_onehot = np.argmax(output.cpu().detach(), axis=2)\n",
    "                eqi = data[:-1].index('=')\n",
    "                pred_total += len(target_tensor[0][eqi:])\n",
    "                pred_correct += sum(1 for i, j in zip(target_tensor[0][eqi:], output_onehot[0][eqi:]) if i == j)\n",
    "                print('sentence: ', data)\n",
    "                print('target_char: ', [idx_to_char(i) for i in target_tensor[0][eqi:]])\n",
    "                print('output_char: ', [idx_to_char(i) for i in output_onehot[0][eqi:]])\n",
    "\n",
    "    return {'accuracy': pred_correct/pred_total}\n",
    "\n",
    "accuracy = evaluate_model(model, test_dataset)['accuracy']"
   ]
  },
  {
   "cell_type": "code",
   "execution_count": null,
   "id": "4ffe4ce5-4391-4466-94c7-3427b827d11d",
   "metadata": {},
   "outputs": [
    {
     "name": "stdout",
     "output_type": "stream",
     "text": [
      "Accuracy:  0.27624309392265195\n"
     ]
    }
   ],
   "source": [
    "print(\"Accuracy: \", accuracy)"
   ]
  },
  {
   "cell_type": "code",
   "execution_count": null,
   "id": "1bb164fa",
   "metadata": {},
   "outputs": [],
   "source": [
    "# Write experimental results\n",
    "if not os.path.exists('emb_vis'): os.makedirs('emb_vis')\n",
    "filename=f'exp_res/{accuracy*100:.0f}-InRev{REVERSE_INPUT}-OutRev{REVERSE_OUTPUT}-{NUM1_RANGE}-{NUM2_RANGE}-Train{TRAINING_SAMPLE_SIZE}-Test{TEST_SAMPLE_SIZE}-Epoch{TRAINING_EPOCH}-{time.strftime(\"%Y%m%d-%H%M%S\")}.txt'\n",
    "with open(filename, 'w') as f:\n",
    "    f.write(f'Accuracy: {accuracy}\\n')\n",
    "    f.write(f'Loss: {losses}\\n')"
   ]
  },
  {
   "cell_type": "code",
   "execution_count": null,
   "id": "504502a9",
   "metadata": {},
   "outputs": [
    {
     "data": {
      "image/png": "[encoded data removed]",
      "text/plain": [
       "<Figure size 1400x1400 with 4 Axes>"
      ]
     },
     "metadata": {},
     "output_type": "display_data"
    }
   ],
   "source": [
    "vis_pca(data, TOKENS, title=f'log: {filename}\\n\\n{PCA_TITLE_PREFIX} (Test Accuracy: {accuracy*100:.2f}%)', show=True)"
   ]
  },
  {
   "cell_type": "code",
   "execution_count": null,
   "id": "3095785a",
   "metadata": {},
   "outputs": [],
   "source": []
  },
  {
   "cell_type": "code",
   "execution_count": null,
   "id": "fd987e11",
   "metadata": {},
   "outputs": [],
   "source": []
  }
 ],
 "metadata": {
  "kernelspec": {
   "display_name": "Python 3 (ipykernel)",
   "language": "python",
   "name": "python3"
  },
  "language_info": {
   "codemirror_mode": {
    "name": "ipython",
    "version": 3
   },
   "file_extension": ".py",
   "mimetype": "text/x-python",
   "name": "python",
   "nbconvert_exporter": "python",
   "pygments_lexer": "ipython3",
   "version": "3.8.10"
  }
 },
 "nbformat": 4,
 "nbformat_minor": 5
}
