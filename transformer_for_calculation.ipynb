{
 "cells": [
  {
   "cell_type": "code",
   "execution_count": 1,
   "id": "d24deb45-3d1a-4994-93f0-bd6ef4762eb2",
   "metadata": {},
   "outputs": [
    {
     "name": "stdout",
     "output_type": "stream",
     "text": [
      "Hello world!\n"
     ]
    }
   ],
   "source": [
    "print('Hello world!')"
   ]
  },
  {
   "cell_type": "markdown",
   "id": "6f12f951",
   "metadata": {},
   "source": [
    "### Experimental Setting"
   ]
  },
  {
   "cell_type": "code",
   "execution_count": 2,
   "id": "d128c980",
   "metadata": {},
   "outputs": [],
   "source": [
    "REVERSE_INPUT = True\n",
    "REVERSE_OUTPUT = True\n",
    "OPERATOR = '+'\n",
    "NUM1_RANGE = (10,99)\n",
    "NUM2_RANGE = (10,99)\n",
    "TRAINING_SAMPLE_SIZE = 1000\n",
    "TEST_SAMPLE_SIZE = 100\n",
    "TRAINING_EPOCH = 50"
   ]
  },
  {
   "cell_type": "markdown",
   "id": "d1cceda4",
   "metadata": {},
   "source": [
    "### Transformer for Calculation"
   ]
  },
  {
   "cell_type": "code",
   "execution_count": 3,
   "id": "6c4307be-af65-4d83-a36c-fd6eb0d462b6",
   "metadata": {},
   "outputs": [],
   "source": [
    "import numpy as np\n",
    "import matplotlib.pyplot as plt\n",
    "import time\n",
    "import random\n",
    "from tqdm import tqdm\n",
    "\n",
    "import torch\n",
    "import torch.nn as nn\n",
    "import torch.optim as optim\n",
    "from torch.nn import functional as F\n",
    "from torch.utils.data import DataLoader, Dataset"
   ]
  },
  {
   "cell_type": "code",
   "execution_count": 4,
   "id": "f994d176",
   "metadata": {},
   "outputs": [],
   "source": [
    "random.seed(12345)\n",
    "np.random.seed(12345)\n",
    "torch.manual_seed(12345)\n",
    "torch.cuda.manual_seed_all(12345)"
   ]
  },
  {
   "cell_type": "code",
   "execution_count": 5,
   "id": "b098a17a-7070-43cb-8f75-c71eba570c75",
   "metadata": {},
   "outputs": [
    {
     "name": "stdout",
     "output_type": "stream",
     "text": [
      "Using device: cuda\n"
     ]
    }
   ],
   "source": [
    "device = torch.device(\"cuda\" if torch.cuda.is_available() else \"cpu\")\n",
    "print(f\"Using device: {device}\")"
   ]
  },
  {
   "cell_type": "code",
   "execution_count": 6,
   "id": "da3d7d7d-af2e-4d6a-8dc7-6e7923a0a268",
   "metadata": {},
   "outputs": [],
   "source": [
    "# Dataset Class\n",
    "class AdditionDataset(Dataset):\n",
    "    def __init__(self, num_samples):\n",
    "        self.samples = [self.generate_sample() for _ in range(num_samples)]\n",
    "\n",
    "    def __len__(self):\n",
    "        return len(self.samples)\n",
    "\n",
    "    def __getitem__(self, idx):\n",
    "        return self.samples[idx]\n",
    "    \n",
    "    @staticmethod\n",
    "    def generate_sample(operator=OPERATOR, reverse_in=REVERSE_INPUT, reverse_out=REVERSE_OUTPUT):\n",
    "        num1 = random.randint(NUM1_RANGE[0], NUM1_RANGE[1])\n",
    "        num2 = random.randint(NUM2_RANGE[0], NUM2_RANGE[1])\n",
    "        result = eval(f'{num1}{operator}{num2}')\n",
    "\n",
    "        if reverse_in:\n",
    "            num1 = str(num1)[::-1]\n",
    "            num2 = str(num2)[::-1]\n",
    "        else:\n",
    "            num1 = str(num1)\n",
    "            num2 = str(num2)\n",
    "\n",
    "        if reverse_out:\n",
    "            result = str(result)[::-1]\n",
    "        else:\n",
    "            result = str(result)\n",
    "\n",
    "        return num1+operator+num2+'='+result"
   ]
  },
  {
   "cell_type": "code",
   "execution_count": 7,
   "id": "bd32a61f",
   "metadata": {},
   "outputs": [],
   "source": [
    "# Hyperparameter\n",
    "MAX_LEN = 16\n",
    "EMBED_SIZE = 384 #256\n",
    "NUM_HEADS = 6 #8\n",
    "NUM_LAYERS = 6 #3\n",
    "DROPOUT = 0 #0.1\n",
    "LEARNING_RATE = 1e-6 #1e-3\n",
    "EPOCHS = TRAINING_EPOCH"
   ]
  },
  {
   "cell_type": "code",
   "execution_count": 8,
   "id": "8452a32c",
   "metadata": {},
   "outputs": [],
   "source": [
    "# Tokenization\n",
    "ONEHOT_IDX = {'0': 0, '1': 1, '2': 2, '3': 3, '4': 4, '5': 5, '6': 6, '7': 7, '8': 8, '9': 9, OPERATOR: 10, '=': 11}\n",
    "TOKENS = ''.join(ONEHOT_IDX.keys())\n",
    "VOCAB_SIZE = len(TOKENS)\n",
    "\n",
    "def char_to_idx(char):\n",
    "    return ONEHOT_IDX[char]\n",
    "\n",
    "def idx_to_char(idx):\n",
    "    return TOKENS[idx]"
   ]
  },
  {
   "cell_type": "code",
   "execution_count": 9,
   "id": "a09dee84-ec8a-4084-9c96-c04e956cc133",
   "metadata": {},
   "outputs": [],
   "source": [
    "# Model definition\n",
    "class TransformerDecoderModel(nn.Module):\n",
    "    def __init__(self, vocab_size, embed_size, max_len, num_heads, num_layers, dropout=0.1):\n",
    "        super(TransformerDecoderModel, self).__init__()\n",
    "        self.token_emb = nn.Embedding(vocab_size, embed_size)\n",
    "        self.pos_enc = nn.Embedding(max_len, embed_size)\n",
    "\n",
    "        decoder_layer = nn.TransformerDecoderLayer(\n",
    "            d_model=embed_size, \n",
    "            nhead=num_heads, \n",
    "            bias=False,\n",
    "            activation='gelu',\n",
    "            batch_first=True,)\n",
    "        \n",
    "        self.transformer_decoder = nn.TransformerDecoder(decoder_layer, num_layers=num_layers)\n",
    "        self.fc_out = nn.Linear(embed_size, vocab_size, bias=False)\n",
    "        self.dropout = nn.Dropout(dropout)\n",
    "        self.pos = torch.arange(0, max_len, dtype=torch.long, device=device).unsqueeze(0) # shape (1, t)\n",
    "\n",
    "    def forward(self, src):\n",
    "        batch_size, seq_len = src.shape\n",
    "        tok_emb = self.token_emb(src)  # (batch=1, seq_len, emb_dim)\n",
    "        pos_emb = self.pos_enc(self.pos)[:,:seq_len,:]\n",
    "        x = self.dropout(tok_emb + pos_emb)\n",
    "        memory = torch.zeros_like(x)  # No encoder output\n",
    "        output = self.transformer_decoder(x, memory)\n",
    "        return self.fc_out(output)"
   ]
  },
  {
   "cell_type": "code",
   "execution_count": 10,
   "id": "de8bcc6b-e41e-43f7-92de-49bb549d010d",
   "metadata": {},
   "outputs": [],
   "source": [
    "# Visualization\n",
    "def vis_pca(data, labels, title='', show=False):\n",
    "    \n",
    "    from sklearn.decomposition import PCA\n",
    "    import matplotlib.pyplot as plt\n",
    "    \n",
    "    pca = PCA(n_components=4)\n",
    "    transformed_list = pca.fit_transform(data.cpu().detach().numpy())  # (label cnt, pc cnt)\n",
    "\n",
    "    plt.figure(figsize=(14, 6))\n",
    "\n",
    "    pc_axes = [[0,1],[2,3]]\n",
    "    for plot_id, (pcx, pcy) in enumerate(pc_axes):\n",
    "        for point_id, transformed in enumerate(transformed_list):\n",
    "            plt.subplot(1, len(pc_axes), plot_id+1)  # plt.subplot(row, col, i)\n",
    "            plt.xlabel(f'PC{pcx+1} ({pca.explained_variance_ratio_[pcx]*100:.1f}%)')\n",
    "            plt.ylabel(f'PC{pcy+1} ({pca.explained_variance_ratio_[pcy]*100:.1f}%)')\n",
    "            plt.scatter(transformed[pcx], transformed[pcy], alpha=0.25)\n",
    "            plt.text(transformed[pcx], transformed[pcy], f\"'{labels[point_id]}'\")\n",
    "            \n",
    "    plt.suptitle(title)\n",
    "\n",
    "    if show:\n",
    "        plt.show()\n",
    "    else:\n",
    "        plt.savefig(f'emb_vis/pca_{time.strftime(\"%Y%m%d-%H%M%S\")}.png',\n",
    "                    bbox_inches='tight')\n",
    "        plt.close()\n",
    "\n",
    "# vis_pca(model.token_emb(torch.tensor([char_to_idx(token) for token in TOKENS]).to(device)), TOKENS, title='Test', show=True)"
   ]
  },
  {
   "cell_type": "code",
   "execution_count": 11,
   "id": "dafab7b8-ef80-477b-8898-f3d8581f94f1",
   "metadata": {},
   "outputs": [
    {
     "name": "stderr",
     "output_type": "stream",
     "text": [
      "e:\\teaching_arithmetic_replication\\.venv\\lib\\site-packages\\tqdm\\auto.py:21: TqdmWarning: IProgress not found. Please update jupyter and ipywidgets. See https://ipywidgets.readthedocs.io/en/stable/user_install.html\n",
      "  from .autonotebook import tqdm as notebook_tqdm\n"
     ]
    }
   ],
   "source": [
    "model = TransformerDecoderModel(\n",
    "    vocab_size=VOCAB_SIZE,\n",
    "    embed_size=EMBED_SIZE,\n",
    "    max_len=MAX_LEN, \n",
    "    num_heads=NUM_HEADS, \n",
    "    num_layers=NUM_LAYERS, \n",
    "    dropout=DROPOUT,\n",
    "    )\n",
    "optimizer = optim.Adam(model.parameters(), lr=LEARNING_RATE)"
   ]
  },
  {
   "cell_type": "code",
   "execution_count": 12,
   "id": "56850ae5-3aa4-44ef-bd9e-9ecc82d0a6b7",
   "metadata": {},
   "outputs": [],
   "source": [
    "train_dataset = AdditionDataset(num_samples=TRAINING_SAMPLE_SIZE)\n",
    "train_loader = DataLoader(train_dataset, batch_size=1)"
   ]
  },
  {
   "cell_type": "code",
   "execution_count": 13,
   "id": "5d7456c0-271d-46ef-bcb8-2c691e54da08",
   "metadata": {},
   "outputs": [],
   "source": [
    "model = model.to(device)"
   ]
  },
  {
   "cell_type": "code",
   "execution_count": 14,
   "id": "fac8685d-1170-480f-a000-05461788e4b7",
   "metadata": {},
   "outputs": [],
   "source": [
    "data = model.token_emb(torch.tensor([char_to_idx(token) for token in TOKENS]).to(device))\n",
    "vis_pca(data, TOKENS, title=f'Embedding PCA (Epoch:0, Loss:N/A)')"
   ]
  },
  {
   "cell_type": "code",
   "execution_count": 15,
   "id": "51b083d3-e420-445d-acb6-4379cd189344",
   "metadata": {},
   "outputs": [
    {
     "name": "stderr",
     "output_type": "stream",
     "text": [
      "100%|██████████| 1000/1000 [00:14<00:00, 67.04it/s]\n"
     ]
    },
    {
     "name": "stdout",
     "output_type": "stream",
     "text": [
      "Epoch 1, Loss: 1.7587646411657334\n"
     ]
    },
    {
     "name": "stderr",
     "output_type": "stream",
     "text": [
      "100%|██████████| 1000/1000 [00:14<00:00, 70.34it/s]\n"
     ]
    },
    {
     "name": "stdout",
     "output_type": "stream",
     "text": [
      "Epoch 2, Loss: 1.640316593170166\n"
     ]
    },
    {
     "name": "stderr",
     "output_type": "stream",
     "text": [
      "100%|██████████| 1000/1000 [00:14<00:00, 69.60it/s]\n"
     ]
    },
    {
     "name": "stdout",
     "output_type": "stream",
     "text": [
      "Epoch 3, Loss: 1.5131506589651107\n"
     ]
    },
    {
     "name": "stderr",
     "output_type": "stream",
     "text": [
      "100%|██████████| 1000/1000 [00:13<00:00, 75.60it/s]\n"
     ]
    },
    {
     "name": "stdout",
     "output_type": "stream",
     "text": [
      "Epoch 4, Loss: 1.3713338575363159\n"
     ]
    },
    {
     "name": "stderr",
     "output_type": "stream",
     "text": [
      "100%|██████████| 1000/1000 [00:13<00:00, 76.80it/s]\n"
     ]
    },
    {
     "name": "stdout",
     "output_type": "stream",
     "text": [
      "Epoch 5, Loss: 1.288937857747078\n"
     ]
    },
    {
     "name": "stderr",
     "output_type": "stream",
     "text": [
      "100%|██████████| 1000/1000 [00:14<00:00, 68.75it/s]\n"
     ]
    },
    {
     "name": "stdout",
     "output_type": "stream",
     "text": [
      "Epoch 6, Loss: 1.246444532752037\n"
     ]
    },
    {
     "name": "stderr",
     "output_type": "stream",
     "text": [
      "100%|██████████| 1000/1000 [00:14<00:00, 70.30it/s]\n"
     ]
    },
    {
     "name": "stdout",
     "output_type": "stream",
     "text": [
      "Epoch 7, Loss: 1.2257932698726655\n"
     ]
    },
    {
     "name": "stderr",
     "output_type": "stream",
     "text": [
      "100%|██████████| 1000/1000 [00:13<00:00, 74.92it/s]\n"
     ]
    },
    {
     "name": "stdout",
     "output_type": "stream",
     "text": [
      "Epoch 8, Loss: 1.2134910196065902\n"
     ]
    },
    {
     "name": "stderr",
     "output_type": "stream",
     "text": [
      "100%|██████████| 1000/1000 [00:14<00:00, 67.61it/s]\n"
     ]
    },
    {
     "name": "stdout",
     "output_type": "stream",
     "text": [
      "Epoch 9, Loss: 1.205794312596321\n"
     ]
    },
    {
     "name": "stderr",
     "output_type": "stream",
     "text": [
      "100%|██████████| 1000/1000 [00:14<00:00, 71.00it/s]\n"
     ]
    },
    {
     "name": "stdout",
     "output_type": "stream",
     "text": [
      "Epoch 10, Loss: 1.1989661345481872\n"
     ]
    },
    {
     "name": "stderr",
     "output_type": "stream",
     "text": [
      "100%|██████████| 1000/1000 [00:14<00:00, 67.83it/s]\n"
     ]
    },
    {
     "name": "stdout",
     "output_type": "stream",
     "text": [
      "Epoch 11, Loss: 1.1938193373680115\n"
     ]
    },
    {
     "name": "stderr",
     "output_type": "stream",
     "text": [
      "100%|██████████| 1000/1000 [00:14<00:00, 67.53it/s]\n"
     ]
    },
    {
     "name": "stdout",
     "output_type": "stream",
     "text": [
      "Epoch 12, Loss: 1.1895059435367583\n"
     ]
    },
    {
     "name": "stderr",
     "output_type": "stream",
     "text": [
      "100%|██████████| 1000/1000 [00:14<00:00, 67.39it/s]\n"
     ]
    },
    {
     "name": "stdout",
     "output_type": "stream",
     "text": [
      "Epoch 13, Loss: 1.184920717716217\n"
     ]
    },
    {
     "name": "stderr",
     "output_type": "stream",
     "text": [
      "100%|██████████| 1000/1000 [00:14<00:00, 67.28it/s]\n"
     ]
    },
    {
     "name": "stdout",
     "output_type": "stream",
     "text": [
      "Epoch 14, Loss: 1.181243527173996\n"
     ]
    },
    {
     "name": "stderr",
     "output_type": "stream",
     "text": [
      "100%|██████████| 1000/1000 [00:14<00:00, 66.74it/s]\n"
     ]
    },
    {
     "name": "stdout",
     "output_type": "stream",
     "text": [
      "Epoch 15, Loss: 1.1783225679397582\n"
     ]
    },
    {
     "name": "stderr",
     "output_type": "stream",
     "text": [
      "100%|██████████| 1000/1000 [00:14<00:00, 67.01it/s]\n"
     ]
    },
    {
     "name": "stdout",
     "output_type": "stream",
     "text": [
      "Epoch 16, Loss: 1.1734744931459427\n"
     ]
    },
    {
     "name": "stderr",
     "output_type": "stream",
     "text": [
      "100%|██████████| 1000/1000 [00:14<00:00, 68.35it/s]\n"
     ]
    },
    {
     "name": "stdout",
     "output_type": "stream",
     "text": [
      "Epoch 17, Loss: 1.1701558355093002\n"
     ]
    },
    {
     "name": "stderr",
     "output_type": "stream",
     "text": [
      "100%|██████████| 1000/1000 [00:14<00:00, 67.05it/s]\n"
     ]
    },
    {
     "name": "stdout",
     "output_type": "stream",
     "text": [
      "Epoch 18, Loss: 1.1650976384878158\n"
     ]
    },
    {
     "name": "stderr",
     "output_type": "stream",
     "text": [
      "100%|██████████| 1000/1000 [00:14<00:00, 66.71it/s]\n"
     ]
    },
    {
     "name": "stdout",
     "output_type": "stream",
     "text": [
      "Epoch 19, Loss: 1.1613991205692291\n"
     ]
    },
    {
     "name": "stderr",
     "output_type": "stream",
     "text": [
      "100%|██████████| 1000/1000 [00:14<00:00, 68.12it/s]\n"
     ]
    },
    {
     "name": "stdout",
     "output_type": "stream",
     "text": [
      "Epoch 20, Loss: 1.1571264600753783\n"
     ]
    },
    {
     "name": "stderr",
     "output_type": "stream",
     "text": [
      "100%|██████████| 1000/1000 [00:14<00:00, 68.30it/s]\n"
     ]
    },
    {
     "name": "stdout",
     "output_type": "stream",
     "text": [
      "Epoch 21, Loss: 1.1532712078094483\n"
     ]
    },
    {
     "name": "stderr",
     "output_type": "stream",
     "text": [
      "100%|██████████| 1000/1000 [00:14<00:00, 67.64it/s]\n"
     ]
    },
    {
     "name": "stdout",
     "output_type": "stream",
     "text": [
      "Epoch 22, Loss: 1.1498520185947418\n"
     ]
    },
    {
     "name": "stderr",
     "output_type": "stream",
     "text": [
      "100%|██████████| 1000/1000 [00:15<00:00, 65.15it/s]\n"
     ]
    },
    {
     "name": "stdout",
     "output_type": "stream",
     "text": [
      "Epoch 23, Loss: 1.1466343392133713\n"
     ]
    },
    {
     "name": "stderr",
     "output_type": "stream",
     "text": [
      "100%|██████████| 1000/1000 [00:14<00:00, 67.83it/s]\n"
     ]
    },
    {
     "name": "stdout",
     "output_type": "stream",
     "text": [
      "Epoch 24, Loss: 1.1418007692098617\n"
     ]
    },
    {
     "name": "stderr",
     "output_type": "stream",
     "text": [
      "100%|██████████| 1000/1000 [00:14<00:00, 70.23it/s]\n"
     ]
    },
    {
     "name": "stdout",
     "output_type": "stream",
     "text": [
      "Epoch 25, Loss: 1.1393555042743684\n"
     ]
    },
    {
     "name": "stderr",
     "output_type": "stream",
     "text": [
      "100%|██████████| 1000/1000 [00:14<00:00, 68.11it/s]\n"
     ]
    },
    {
     "name": "stdout",
     "output_type": "stream",
     "text": [
      "Epoch 26, Loss: 1.1378810567855835\n"
     ]
    },
    {
     "name": "stderr",
     "output_type": "stream",
     "text": [
      "100%|██████████| 1000/1000 [00:15<00:00, 66.14it/s]\n"
     ]
    },
    {
     "name": "stdout",
     "output_type": "stream",
     "text": [
      "Epoch 27, Loss: 1.135499820113182\n"
     ]
    },
    {
     "name": "stderr",
     "output_type": "stream",
     "text": [
      "100%|██████████| 1000/1000 [00:15<00:00, 65.05it/s]\n"
     ]
    },
    {
     "name": "stdout",
     "output_type": "stream",
     "text": [
      "Epoch 28, Loss: 1.1306691443920136\n"
     ]
    },
    {
     "name": "stderr",
     "output_type": "stream",
     "text": [
      "100%|██████████| 1000/1000 [00:15<00:00, 63.16it/s]\n"
     ]
    },
    {
     "name": "stdout",
     "output_type": "stream",
     "text": [
      "Epoch 29, Loss: 1.1292192652225495\n"
     ]
    },
    {
     "name": "stderr",
     "output_type": "stream",
     "text": [
      "100%|██████████| 1000/1000 [00:15<00:00, 65.30it/s]\n"
     ]
    },
    {
     "name": "stdout",
     "output_type": "stream",
     "text": [
      "Epoch 30, Loss: 1.1275717259645461\n"
     ]
    },
    {
     "name": "stderr",
     "output_type": "stream",
     "text": [
      "100%|██████████| 1000/1000 [00:14<00:00, 66.82it/s]\n"
     ]
    },
    {
     "name": "stdout",
     "output_type": "stream",
     "text": [
      "Epoch 31, Loss: 1.1263776700496673\n"
     ]
    },
    {
     "name": "stderr",
     "output_type": "stream",
     "text": [
      "100%|██████████| 1000/1000 [00:14<00:00, 68.99it/s]\n"
     ]
    },
    {
     "name": "stdout",
     "output_type": "stream",
     "text": [
      "Epoch 32, Loss: 1.1236043428182603\n"
     ]
    },
    {
     "name": "stderr",
     "output_type": "stream",
     "text": [
      "100%|██████████| 1000/1000 [00:14<00:00, 68.91it/s]\n"
     ]
    },
    {
     "name": "stdout",
     "output_type": "stream",
     "text": [
      "Epoch 33, Loss: 1.1223269646167755\n"
     ]
    },
    {
     "name": "stderr",
     "output_type": "stream",
     "text": [
      "100%|██████████| 1000/1000 [00:15<00:00, 66.05it/s]\n"
     ]
    },
    {
     "name": "stdout",
     "output_type": "stream",
     "text": [
      "Epoch 34, Loss: 1.1208117064237595\n"
     ]
    },
    {
     "name": "stderr",
     "output_type": "stream",
     "text": [
      "100%|██████████| 1000/1000 [00:15<00:00, 62.73it/s]\n"
     ]
    },
    {
     "name": "stdout",
     "output_type": "stream",
     "text": [
      "Epoch 35, Loss: 1.1180231816768647\n"
     ]
    },
    {
     "name": "stderr",
     "output_type": "stream",
     "text": [
      "100%|██████████| 1000/1000 [00:15<00:00, 62.99it/s]\n"
     ]
    },
    {
     "name": "stdout",
     "output_type": "stream",
     "text": [
      "Epoch 36, Loss: 1.1171390427350998\n"
     ]
    },
    {
     "name": "stderr",
     "output_type": "stream",
     "text": [
      "100%|██████████| 1000/1000 [00:14<00:00, 68.48it/s]\n"
     ]
    },
    {
     "name": "stdout",
     "output_type": "stream",
     "text": [
      "Epoch 37, Loss: 1.1146519755125046\n"
     ]
    },
    {
     "name": "stderr",
     "output_type": "stream",
     "text": [
      "100%|██████████| 1000/1000 [00:15<00:00, 65.68it/s]\n"
     ]
    },
    {
     "name": "stdout",
     "output_type": "stream",
     "text": [
      "Epoch 38, Loss: 1.1142978391647338\n"
     ]
    },
    {
     "name": "stderr",
     "output_type": "stream",
     "text": [
      "100%|██████████| 1000/1000 [00:15<00:00, 63.91it/s]\n"
     ]
    },
    {
     "name": "stdout",
     "output_type": "stream",
     "text": [
      "Epoch 39, Loss: 1.1125837470293045\n"
     ]
    },
    {
     "name": "stderr",
     "output_type": "stream",
     "text": [
      "100%|██████████| 1000/1000 [00:14<00:00, 69.84it/s]\n"
     ]
    },
    {
     "name": "stdout",
     "output_type": "stream",
     "text": [
      "Epoch 40, Loss: 1.11255275785923\n"
     ]
    },
    {
     "name": "stderr",
     "output_type": "stream",
     "text": [
      "100%|██████████| 1000/1000 [00:15<00:00, 65.85it/s]\n"
     ]
    },
    {
     "name": "stdout",
     "output_type": "stream",
     "text": [
      "Epoch 41, Loss: 1.1091127178668976\n"
     ]
    },
    {
     "name": "stderr",
     "output_type": "stream",
     "text": [
      "100%|██████████| 1000/1000 [00:15<00:00, 65.39it/s]\n"
     ]
    },
    {
     "name": "stdout",
     "output_type": "stream",
     "text": [
      "Epoch 42, Loss: 1.1091351079940797\n"
     ]
    },
    {
     "name": "stderr",
     "output_type": "stream",
     "text": [
      "100%|██████████| 1000/1000 [00:13<00:00, 71.59it/s]\n"
     ]
    },
    {
     "name": "stdout",
     "output_type": "stream",
     "text": [
      "Epoch 43, Loss: 1.1060748648643495\n"
     ]
    },
    {
     "name": "stderr",
     "output_type": "stream",
     "text": [
      "100%|██████████| 1000/1000 [00:13<00:00, 71.44it/s]\n"
     ]
    },
    {
     "name": "stdout",
     "output_type": "stream",
     "text": [
      "Epoch 44, Loss: 1.1055972456932068\n"
     ]
    },
    {
     "name": "stderr",
     "output_type": "stream",
     "text": [
      "100%|██████████| 1000/1000 [00:13<00:00, 71.69it/s]\n"
     ]
    },
    {
     "name": "stdout",
     "output_type": "stream",
     "text": [
      "Epoch 45, Loss: 1.1046586307287216\n"
     ]
    },
    {
     "name": "stderr",
     "output_type": "stream",
     "text": [
      "100%|██████████| 1000/1000 [00:13<00:00, 71.78it/s]\n"
     ]
    },
    {
     "name": "stdout",
     "output_type": "stream",
     "text": [
      "Epoch 46, Loss: 1.1043783348798752\n"
     ]
    },
    {
     "name": "stderr",
     "output_type": "stream",
     "text": [
      "100%|██████████| 1000/1000 [00:14<00:00, 68.34it/s]\n"
     ]
    },
    {
     "name": "stdout",
     "output_type": "stream",
     "text": [
      "Epoch 47, Loss: 1.1028002392053604\n"
     ]
    },
    {
     "name": "stderr",
     "output_type": "stream",
     "text": [
      "100%|██████████| 1000/1000 [00:15<00:00, 66.38it/s]\n"
     ]
    },
    {
     "name": "stdout",
     "output_type": "stream",
     "text": [
      "Epoch 48, Loss: 1.101094707250595\n"
     ]
    },
    {
     "name": "stderr",
     "output_type": "stream",
     "text": [
      "100%|██████████| 1000/1000 [00:14<00:00, 66.92it/s]\n"
     ]
    },
    {
     "name": "stdout",
     "output_type": "stream",
     "text": [
      "Epoch 49, Loss: 1.1003235824108124\n"
     ]
    },
    {
     "name": "stderr",
     "output_type": "stream",
     "text": [
      "100%|██████████| 1000/1000 [00:14<00:00, 70.81it/s]\n"
     ]
    },
    {
     "name": "stdout",
     "output_type": "stream",
     "text": [
      "Epoch 50, Loss: 1.0987818796634674\n"
     ]
    },
    {
     "data": {
      "text/plain": [
       "[<matplotlib.lines.Line2D at 0x1c672e8f070>]"
      ]
     },
     "execution_count": 15,
     "metadata": {},
     "output_type": "execute_result"
    },
    {
     "data": {
      "image/png": "[encoded data removed]",
      "text/plain": [
       "<Figure size 640x480 with 1 Axes>"
      ]
     },
     "metadata": {},
     "output_type": "display_data"
    }
   ],
   "source": [
    "# Train\n",
    "model.train()\n",
    "losses = []\n",
    "for epoch in range(EPOCHS):\n",
    "    epoch_loss = 0\n",
    "    for batch in tqdm(train_loader):\n",
    "        for data in batch:\n",
    "            input_tensor = torch.tensor([char_to_idx(char) for char in data[:-1]], dtype=torch.long).unsqueeze(0).to(device)\n",
    "            target_tensor = torch.tensor([char_to_idx(char) for char in data[1:]], dtype=torch.long).unsqueeze(0).to(device)\n",
    "\n",
    "            optimizer.zero_grad()\n",
    "            output = model(input_tensor)  # (batch=1, seq_len) -> (batch=1, seq_len, VOCAB_SIZE)\n",
    "\n",
    "            output_onehot = np.argmax(output.cpu().detach(), axis=2)  # (batch=1, seq_len)\n",
    "            \n",
    "            pred = output.view(-1, VOCAB_SIZE)  # (seq_len, VOCAB_SIZE)\n",
    "            true = target_tensor.view(-1)  # (seq_len)\n",
    "            # loss = F.cross_entropy(pred, true)  # Compare all (inefficient)\n",
    "            \n",
    "            eqi = data[:-1].index('=')\n",
    "            lhs = torch.zeros_like(pred[:eqi])\n",
    "            for i in range(eqi):\n",
    "                lhs[i][true[i]] = 1\n",
    "            rhs_pred = torch.cat((lhs, pred[eqi:]), dim=0)  # (seq_len, VOCAB_SIZE)\n",
    "            loss = F.cross_entropy(rhs_pred, true)  # Compare RHS\n",
    "            \n",
    "            loss.backward()\n",
    "            optimizer.step()\n",
    "\n",
    "            epoch_loss += loss.item()\n",
    "    losses.append(epoch_loss/len(train_loader))\n",
    "    print(f\"Epoch {epoch+1}, Loss: {losses[-1]}\")\n",
    "    \n",
    "    data = model.token_emb(torch.tensor([char_to_idx(token) for token in TOKENS]).to(device))\n",
    "    vis_pca(data, TOKENS, title=f'Embedding PCA (Epoch:{epoch+1}, Loss:{losses[-1]:.2f})')\n",
    "\n",
    "plt.title('Loss'); plt.plot(losses)"
   ]
  },
  {
   "cell_type": "code",
   "execution_count": 16,
   "id": "1d300403",
   "metadata": {},
   "outputs": [
    {
     "data": {
      "image/png": "[encoded data removed]",
      "text/plain": [
       "<Figure size 1400x600 with 2 Axes>"
      ]
     },
     "metadata": {},
     "output_type": "display_data"
    }
   ],
   "source": [
    "vis_pca(data, TOKENS, title=f'Embedding PCA (Epoch:{epoch+1}, Loss:{losses[-1]:.2f})', show=True)"
   ]
  },
  {
   "cell_type": "code",
   "execution_count": 17,
   "id": "fb516ab7-ed61-4f80-b9d4-a3756898761e",
   "metadata": {},
   "outputs": [
    {
     "name": "stdout",
     "output_type": "stream",
     "text": [
      "sentence:  97+54=421\n",
      "target_char:  ['4', '2', '1']\n",
      "output_char:  ['4', '2', '1']\n",
      "sentence:  65+74=301\n",
      "target_char:  ['3', '0', '1']\n",
      "output_char:  ['3', '0', '1']\n",
      "sentence:  18+05=131\n",
      "target_char:  ['1', '3', '1']\n",
      "output_char:  ['1', '3', '1']\n",
      "sentence:  67+27=841\n",
      "target_char:  ['8', '4', '1']\n",
      "output_char:  ['8', '4', '1']\n",
      "sentence:  44+95=301\n",
      "target_char:  ['3', '0', '1']\n",
      "output_char:  ['3', '0', '1']\n",
      "sentence:  35+78=041\n",
      "target_char:  ['0', '4', '1']\n",
      "output_char:  ['0', '4', '1']\n",
      "sentence:  61+21=82\n",
      "target_char:  ['8', '2']\n",
      "output_char:  ['8', '2']\n",
      "sentence:  78+08=761\n",
      "target_char:  ['7', '6', '1']\n",
      "output_char:  ['7', '6', '1']\n",
      "sentence:  86+05=811\n",
      "target_char:  ['8', '1', '1']\n",
      "output_char:  ['8', '1', '1']\n",
      "sentence:  76+24=901\n",
      "target_char:  ['9', '0', '1']\n",
      "output_char:  ['9', '0', '1']\n",
      "sentence:  43+04=47\n",
      "target_char:  ['4', '7']\n",
      "output_char:  ['4', '7']\n",
      "sentence:  79+97=671\n",
      "target_char:  ['6', '7', '1']\n",
      "output_char:  ['6', '7', '1']\n",
      "sentence:  64+17=711\n",
      "target_char:  ['7', '1', '1']\n",
      "output_char:  ['7', '1', '1']\n",
      "sentence:  22+62=84\n",
      "target_char:  ['8', '4']\n",
      "output_char:  ['8', '5']\n",
      "sentence:  16+56=621\n",
      "target_char:  ['6', '2', '1']\n",
      "output_char:  ['6', '2', '1']\n",
      "sentence:  04+23=27\n",
      "target_char:  ['2', '7']\n",
      "output_char:  ['2', '7']\n",
      "sentence:  97+39=271\n",
      "target_char:  ['2', '7', '1']\n",
      "output_char:  ['2', '7', '1']\n",
      "sentence:  66+13=79\n",
      "target_char:  ['7', '9']\n",
      "output_char:  ['7', '9']\n",
      "sentence:  89+36=161\n",
      "target_char:  ['1', '6', '1']\n",
      "output_char:  ['1', '6', '1']\n",
      "sentence:  84+57=321\n",
      "target_char:  ['3', '2', '1']\n",
      "output_char:  ['3', '2', '1']\n",
      "sentence:  51+69=111\n",
      "target_char:  ['1', '1', '1']\n",
      "output_char:  ['1', '1', '1']\n",
      "sentence:  04+32=36\n",
      "target_char:  ['3', '6']\n",
      "output_char:  ['3', '7']\n",
      "sentence:  51+76=28\n",
      "target_char:  ['2', '8']\n",
      "output_char:  ['2', '8']\n",
      "sentence:  05+99=941\n",
      "target_char:  ['9', '4', '1']\n",
      "output_char:  ['9', '4', '1']\n",
      "sentence:  49+05=441\n",
      "target_char:  ['4', '4', '1']\n",
      "output_char:  ['4', '4', '1']\n",
      "sentence:  99+16=061\n",
      "target_char:  ['0', '6', '1']\n",
      "output_char:  ['0', '6', '1']\n",
      "sentence:  51+35=86\n",
      "target_char:  ['8', '6']\n",
      "output_char:  ['8', '6']\n",
      "sentence:  99+29=191\n",
      "target_char:  ['1', '9', '1']\n",
      "output_char:  ['1', '9', '1']\n",
      "sentence:  09+06=051\n",
      "target_char:  ['0', '5', '1']\n",
      "output_char:  ['0', '5', '1']\n",
      "sentence:  06+72=78\n",
      "target_char:  ['7', '8']\n",
      "output_char:  ['7', '8']\n",
      "sentence:  05+12=17\n",
      "target_char:  ['1', '7']\n",
      "output_char:  ['1', '7']\n",
      "sentence:  63+19=721\n",
      "target_char:  ['7', '2', '1']\n",
      "output_char:  ['7', '2', '1']\n",
      "sentence:  94+46=311\n",
      "target_char:  ['3', '1', '1']\n",
      "output_char:  ['3', '1', '1']\n",
      "sentence:  89+75=551\n",
      "target_char:  ['5', '5', '1']\n",
      "output_char:  ['5', '5', '1']\n",
      "sentence:  92+43=36\n",
      "target_char:  ['3', '6']\n",
      "output_char:  ['3', '5']\n",
      "sentence:  63+66=201\n",
      "target_char:  ['2', '0', '1']\n",
      "output_char:  ['2', '0', '1']\n",
      "sentence:  24+88=031\n",
      "target_char:  ['0', '3', '1']\n",
      "output_char:  ['0', '3', '1']\n",
      "sentence:  11+64=75\n",
      "target_char:  ['7', '5']\n",
      "output_char:  ['7', '6']\n",
      "sentence:  81+27=09\n",
      "target_char:  ['0', '9']\n",
      "output_char:  ['0', '9']\n",
      "sentence:  91+87=79\n",
      "target_char:  ['7', '9']\n",
      "output_char:  ['7', '9']\n",
      "sentence:  06+52=58\n",
      "target_char:  ['5', '8']\n",
      "output_char:  ['5', '8']\n",
      "sentence:  64+32=96\n",
      "target_char:  ['9', '6']\n",
      "output_char:  ['9', '6']\n",
      "sentence:  71+86=58\n",
      "target_char:  ['5', '8']\n",
      "output_char:  ['5', '8']\n",
      "sentence:  22+85=08\n",
      "target_char:  ['0', '8']\n",
      "output_char:  ['0', '9']\n",
      "sentence:  89+47=271\n",
      "target_char:  ['2', '7', '1']\n",
      "output_char:  ['2', '7', '1']\n",
      "sentence:  02+88=801\n",
      "target_char:  ['8', '0', '1']\n",
      "output_char:  ['8', '0', '1']\n",
      "sentence:  11+55=66\n",
      "target_char:  ['6', '6']\n",
      "output_char:  ['6', '6']\n",
      "sentence:  58+16=641\n",
      "target_char:  ['6', '4', '1']\n",
      "output_char:  ['6', '4', '1']\n",
      "sentence:  96+09=951\n",
      "target_char:  ['9', '5', '1']\n",
      "output_char:  ['9', '5', '1']\n",
      "sentence:  16+04=101\n",
      "target_char:  ['1', '0', '1']\n",
      "output_char:  ['1', '0', '1']\n",
      "sentence:  48+62=011\n",
      "target_char:  ['0', '1', '1']\n",
      "output_char:  ['0', '1', '1']\n",
      "sentence:  49+39=781\n",
      "target_char:  ['7', '8', '1']\n",
      "output_char:  ['7', '8', '1']\n",
      "sentence:  92+49=321\n",
      "target_char:  ['3', '2', '1']\n",
      "output_char:  ['3', '2', '1']\n",
      "sentence:  15+07=121\n",
      "target_char:  ['1', '2', '1']\n",
      "output_char:  ['1', '2', '1']\n",
      "sentence:  79+09=781\n",
      "target_char:  ['7', '8', '1']\n",
      "output_char:  ['7', '8', '1']\n",
      "sentence:  94+43=38\n",
      "target_char:  ['3', '8']\n",
      "output_char:  ['3', '9']\n",
      "sentence:  28+51=79\n",
      "target_char:  ['7', '9']\n",
      "output_char:  ['7', '5']\n",
      "sentence:  81+69=411\n",
      "target_char:  ['4', '1', '1']\n",
      "output_char:  ['4', '1', '1']\n",
      "sentence:  92+07=99\n",
      "target_char:  ['9', '9']\n",
      "output_char:  ['9', '9']\n",
      "sentence:  41+01=42\n",
      "target_char:  ['4', '2']\n",
      "output_char:  ['4', '2']\n",
      "sentence:  72+75=48\n",
      "target_char:  ['4', '8']\n",
      "output_char:  ['4', '8']\n",
      "sentence:  68+25=831\n",
      "target_char:  ['8', '3', '1']\n",
      "output_char:  ['8', '3', '1']\n",
      "sentence:  68+99=581\n",
      "target_char:  ['5', '8', '1']\n",
      "output_char:  ['5', '8', '1']\n",
      "sentence:  87+91=79\n",
      "target_char:  ['7', '9']\n",
      "output_char:  ['7', '9']\n",
      "sentence:  11+72=83\n",
      "target_char:  ['8', '3']\n",
      "output_char:  ['8', '3']\n",
      "sentence:  23+84=08\n",
      "target_char:  ['0', '8']\n",
      "output_char:  ['0', '9']\n",
      "sentence:  28+32=501\n",
      "target_char:  ['5', '0', '1']\n",
      "output_char:  ['5', '0', '1']\n",
      "sentence:  55+91=47\n",
      "target_char:  ['4', '7']\n",
      "output_char:  ['4', '7']\n",
      "sentence:  64+22=86\n",
      "target_char:  ['8', '6']\n",
      "output_char:  ['8', '6']\n",
      "sentence:  34+59=831\n",
      "target_char:  ['8', '3', '1']\n",
      "output_char:  ['8', '3', '1']\n",
      "sentence:  61+21=82\n",
      "target_char:  ['8', '2']\n",
      "output_char:  ['8', '2']\n",
      "sentence:  32+84=17\n",
      "target_char:  ['1', '7']\n",
      "output_char:  ['1', '7']\n",
      "sentence:  16+39=451\n",
      "target_char:  ['4', '5', '1']\n",
      "output_char:  ['4', '5', '1']\n",
      "sentence:  46+31=77\n",
      "target_char:  ['7', '7']\n",
      "output_char:  ['7', '7']\n",
      "sentence:  32+31=63\n",
      "target_char:  ['6', '3']\n",
      "output_char:  ['6', '3']\n",
      "sentence:  71+89=511\n",
      "target_char:  ['5', '1', '1']\n",
      "output_char:  ['5', '1', '1']\n",
      "sentence:  66+49=061\n",
      "target_char:  ['0', '6', '1']\n",
      "output_char:  ['0', '6', '1']\n",
      "sentence:  64+84=49\n",
      "target_char:  ['4', '9']\n",
      "output_char:  ['4', '8']\n",
      "sentence:  24+49=631\n",
      "target_char:  ['6', '3', '1']\n",
      "output_char:  ['6', '3', '1']\n",
      "sentence:  49+33=721\n",
      "target_char:  ['7', '2', '1']\n",
      "output_char:  ['7', '2', '1']\n",
      "sentence:  93+74=68\n",
      "target_char:  ['6', '8']\n",
      "output_char:  ['6', '9']\n",
      "sentence:  08+58=561\n",
      "target_char:  ['5', '6', '1']\n",
      "output_char:  ['5', '6', '1']\n",
      "sentence:  76+54=211\n",
      "target_char:  ['2', '1', '1']\n",
      "output_char:  ['2', '1', '1']\n",
      "sentence:  43+71=15\n",
      "target_char:  ['1', '5']\n",
      "output_char:  ['1', '5']\n",
      "sentence:  25+84=001\n",
      "target_char:  ['0', '0', '1']\n",
      "output_char:  ['0', '0', '1']\n",
      "sentence:  53+28=711\n",
      "target_char:  ['7', '1', '1']\n",
      "output_char:  ['7', '1', '1']\n",
      "sentence:  81+88=601\n",
      "target_char:  ['6', '0', '1']\n",
      "output_char:  ['6', '0', '1']\n",
      "sentence:  96+12=09\n",
      "target_char:  ['0', '9']\n",
      "output_char:  ['0', '9']\n",
      "sentence:  57+77=251\n",
      "target_char:  ['2', '5', '1']\n",
      "output_char:  ['2', '5', '1']\n",
      "sentence:  25+16=311\n",
      "target_char:  ['3', '1', '1']\n",
      "output_char:  ['3', '1', '1']\n",
      "sentence:  61+95=57\n",
      "target_char:  ['5', '7']\n",
      "output_char:  ['5', '6']\n",
      "sentence:  37+05=321\n",
      "target_char:  ['3', '2', '1']\n",
      "output_char:  ['3', '2', '1']\n",
      "sentence:  05+72=77\n",
      "target_char:  ['7', '7']\n",
      "output_char:  ['7', '7']\n",
      "sentence:  78+45=141\n",
      "target_char:  ['1', '4', '1']\n",
      "output_char:  ['1', '4', '1']\n",
      "sentence:  89+75=551\n",
      "target_char:  ['5', '5', '1']\n",
      "output_char:  ['5', '5', '1']\n",
      "sentence:  15+99=051\n",
      "target_char:  ['0', '5', '1']\n",
      "output_char:  ['0', '5', '1']\n",
      "sentence:  01+69=601\n",
      "target_char:  ['6', '0', '1']\n",
      "output_char:  ['6', '0', '1']\n",
      "sentence:  92+76=69\n",
      "target_char:  ['6', '9']\n",
      "output_char:  ['6', '9']\n",
      "sentence:  92+77=601\n",
      "target_char:  ['6', '0', '1']\n",
      "output_char:  ['6', '0', '1']\n",
      "sentence:  97+32=201\n",
      "target_char:  ['2', '0', '1']\n",
      "output_char:  ['2', '0', '1']\n"
     ]
    }
   ],
   "source": [
    "test_dataset = AdditionDataset(num_samples=TEST_SAMPLE_SIZE)\n",
    "test_loader = DataLoader(test_dataset, batch_size=1)\n",
    "\n",
    "def evaluate_model(model, data):\n",
    "    model.eval()  # 모델을 평가 모드로 설정\n",
    "    \n",
    "    pred_total = pred_correct = 0\n",
    "    with torch.no_grad():\n",
    "        for batch in test_loader:\n",
    "            for data in batch:\n",
    "                input_tensor = torch.tensor([char_to_idx(char) for char in data[:-1]], dtype=torch.long).unsqueeze(0).to(device)\n",
    "                target_tensor = torch.tensor([char_to_idx(char) for char in data[1:]], dtype=torch.long).unsqueeze(0).to(device)\n",
    "    \n",
    "                output = model(input_tensor)\n",
    "\n",
    "                output_onehot = np.argmax(output.cpu().detach(), axis=2)\n",
    "                eqi = data[:-1].index('=')\n",
    "                pred_total += len(target_tensor[0][eqi:])\n",
    "                pred_correct += sum(1 for i, j in zip(target_tensor[0][eqi:], output_onehot[0][eqi:]) if i == j)\n",
    "                print('sentence: ', data)\n",
    "                print('target_char: ', [idx_to_char(i) for i in target_tensor[0][eqi:]])\n",
    "                print('output_char: ', [idx_to_char(i) for i in output_onehot[0][eqi:]])\n",
    "\n",
    "    return {'accuracy': pred_correct/pred_total}\n",
    "\n",
    "accuracy = evaluate_model(model, test_dataset)['accuracy']"
   ]
  },
  {
   "cell_type": "code",
   "execution_count": 18,
   "id": "4ffe4ce5-4391-4466-94c7-3427b827d11d",
   "metadata": {},
   "outputs": [
    {
     "name": "stdout",
     "output_type": "stream",
     "text": [
      "Accuracy:  0.9576923076923077\n"
     ]
    }
   ],
   "source": [
    "print(\"Accuracy: \", accuracy)"
   ]
  },
  {
   "cell_type": "code",
   "execution_count": null,
   "id": "01d47a08",
   "metadata": {},
   "outputs": [],
   "source": []
  }
 ],
 "metadata": {
  "kernelspec": {
   "display_name": "Python 3 (ipykernel)",
   "language": "python",
   "name": "python3"
  },
  "language_info": {
   "codemirror_mode": {
    "name": "ipython",
    "version": 3
   },
   "file_extension": ".py",
   "mimetype": "text/x-python",
   "name": "python",
   "nbconvert_exporter": "python",
   "pygments_lexer": "ipython3",
   "version": "3.8.10"
  }
 },
 "nbformat": 4,
 "nbformat_minor": 5
}
