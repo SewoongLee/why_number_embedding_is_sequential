{
 "cells": [
  {
   "cell_type": "code",
   "execution_count": 1,
   "id": "d24deb45-3d1a-4994-93f0-bd6ef4762eb2",
   "metadata": {},
   "outputs": [
    {
     "name": "stdout",
     "output_type": "stream",
     "text": [
      "Hello world!\n"
     ]
    }
   ],
   "source": [
    "print('Hello world!')"
   ]
  },
  {
   "cell_type": "markdown",
   "id": "6f12f951",
   "metadata": {},
   "source": [
    "### Experimental Setting"
   ]
  },
  {
   "cell_type": "code",
   "execution_count": 2,
   "id": "d128c980",
   "metadata": {},
   "outputs": [],
   "source": [
    "REVERSE_INPUT = True\n",
    "REVERSE_OUTPUT = True\n",
    "OPERATOR = '+'\n",
    "NUM1_RANGE = (10,99)\n",
    "NUM2_RANGE = (10,99)\n",
    "TRAINING_SAMPLE_SIZE = 100\n",
    "TEST_SAMPLE_SIZE = 10\n",
    "TRAINING_EPOCH = 50"
   ]
  },
  {
   "cell_type": "markdown",
   "id": "d1cceda4",
   "metadata": {},
   "source": [
    "### Transformer for Calculation"
   ]
  },
  {
   "cell_type": "code",
   "execution_count": 3,
   "id": "6c4307be-af65-4d83-a36c-fd6eb0d462b6",
   "metadata": {},
   "outputs": [],
   "source": [
    "import numpy as np\n",
    "import matplotlib.pyplot as plt\n",
    "import time\n",
    "import random\n",
    "from tqdm import tqdm\n",
    "\n",
    "import torch\n",
    "import torch.nn as nn\n",
    "import torch.optim as optim\n",
    "from torch.nn import functional as F\n",
    "from torch.utils.data import DataLoader, Dataset"
   ]
  },
  {
   "cell_type": "code",
   "execution_count": 4,
   "id": "f994d176",
   "metadata": {},
   "outputs": [],
   "source": [
    "random.seed(12345)\n",
    "np.random.seed(12345)\n",
    "torch.manual_seed(12345)\n",
    "torch.cuda.manual_seed_all(12345)"
   ]
  },
  {
   "cell_type": "code",
   "execution_count": 5,
   "id": "b098a17a-7070-43cb-8f75-c71eba570c75",
   "metadata": {},
   "outputs": [
    {
     "name": "stdout",
     "output_type": "stream",
     "text": [
      "Using device: cuda\n"
     ]
    }
   ],
   "source": [
    "device = torch.device(\"cuda\" if torch.cuda.is_available() else \"cpu\")\n",
    "print(f\"Using device: {device}\")"
   ]
  },
  {
   "cell_type": "code",
   "execution_count": 6,
   "id": "da3d7d7d-af2e-4d6a-8dc7-6e7923a0a268",
   "metadata": {},
   "outputs": [],
   "source": [
    "# Dataset Class\n",
    "class AdditionDataset(Dataset):\n",
    "    def __init__(self, num_samples):\n",
    "        self.samples = [self.generate_sample() for _ in range(num_samples)]\n",
    "\n",
    "    def __len__(self):\n",
    "        return len(self.samples)\n",
    "\n",
    "    def __getitem__(self, idx):\n",
    "        return self.samples[idx]\n",
    "    \n",
    "    @staticmethod\n",
    "    def generate_sample(operator=OPERATOR, reverse_in=REVERSE_INPUT, reverse_out=REVERSE_OUTPUT):\n",
    "        num1 = random.randint(NUM1_RANGE[0], NUM1_RANGE[1])\n",
    "        num2 = random.randint(NUM2_RANGE[0], NUM2_RANGE[1])\n",
    "        result = eval(f'{num1}{operator}{num2}')\n",
    "\n",
    "        if reverse_in:\n",
    "            num1 = str(num1)[::-1]\n",
    "            num2 = str(num2)[::-1]\n",
    "        else:\n",
    "            num1 = str(num1)\n",
    "            num2 = str(num2)\n",
    "\n",
    "        if reverse_out:\n",
    "            result = str(result)[::-1]\n",
    "        else:\n",
    "            result = str(result)\n",
    "\n",
    "        return num1+operator+num2+'='+result"
   ]
  },
  {
   "cell_type": "code",
   "execution_count": 7,
   "id": "bd32a61f",
   "metadata": {},
   "outputs": [],
   "source": [
    "# Hyperparameter\n",
    "MAX_LEN = 16\n",
    "EMBED_SIZE = 384 #256\n",
    "NUM_HEADS = 6 #8\n",
    "NUM_LAYERS = 3 #6 #3\n",
    "DROPOUT = 0 #0.1\n",
    "LEARNING_RATE = 1e-6 #1e-3\n",
    "EPOCHS = TRAINING_EPOCH"
   ]
  },
  {
   "cell_type": "code",
   "execution_count": 8,
   "id": "8452a32c",
   "metadata": {},
   "outputs": [],
   "source": [
    "# Tokenization\n",
    "ONEHOT_IDX = {'0': 0, '1': 1, '2': 2, '3': 3, '4': 4, '5': 5, '6': 6, '7': 7, '8': 8, '9': 9, OPERATOR: 10, '=': 11}\n",
    "TOKENS = ''.join(ONEHOT_IDX.keys())\n",
    "VOCAB_SIZE = len(TOKENS)\n",
    "\n",
    "def char_to_idx(char):\n",
    "    return ONEHOT_IDX[char]\n",
    "\n",
    "def idx_to_char(idx):\n",
    "    return TOKENS[idx]"
   ]
  },
  {
   "cell_type": "code",
   "execution_count": 9,
   "id": "a09dee84-ec8a-4084-9c96-c04e956cc133",
   "metadata": {},
   "outputs": [],
   "source": [
    "# Model definition\n",
    "class TransformerDecoderModel(nn.Module):\n",
    "    def __init__(self, vocab_size, embed_size, max_len, num_heads, num_layers, dropout=0.1):\n",
    "        super(TransformerDecoderModel, self).__init__()\n",
    "        self.token_emb = nn.Embedding(vocab_size, embed_size)\n",
    "        self.pos_enc = nn.Embedding(max_len, embed_size)\n",
    "\n",
    "        decoder_layer = nn.TransformerDecoderLayer(\n",
    "            d_model=embed_size, \n",
    "            nhead=num_heads, \n",
    "            bias=False,\n",
    "            activation='gelu',\n",
    "            batch_first=True,)\n",
    "        \n",
    "        self.transformer_decoder = nn.TransformerDecoder(decoder_layer, num_layers=num_layers)\n",
    "        self.fc_out = nn.Linear(embed_size, vocab_size, bias=False)\n",
    "        self.dropout = nn.Dropout(dropout)\n",
    "        self.pos = torch.arange(0, max_len, dtype=torch.long, device=device).unsqueeze(0) # shape (1, t)\n",
    "\n",
    "    def forward(self, src):\n",
    "        batch_size, seq_len = src.shape\n",
    "        tok_emb = self.token_emb(src)  # (batch=1, seq_len, emb_dim)\n",
    "        pos_emb = self.pos_enc(self.pos)[:,:seq_len,:]\n",
    "        x = self.dropout(tok_emb + pos_emb)\n",
    "        memory = torch.zeros_like(x)  # No encoder output\n",
    "        output = self.transformer_decoder(x, memory)\n",
    "        return self.fc_out(output)"
   ]
  },
  {
   "cell_type": "code",
   "execution_count": 10,
   "id": "de8bcc6b-e41e-43f7-92de-49bb549d010d",
   "metadata": {},
   "outputs": [],
   "source": [
    "# Visualization\n",
    "def vis_pca(data, labels, title='', show=False):\n",
    "    \n",
    "    from sklearn.decomposition import PCA\n",
    "    import matplotlib.pyplot as plt\n",
    "    \n",
    "    pca = PCA(n_components=8)\n",
    "    transformed_list = pca.fit_transform(data.cpu().detach().numpy())  # (label cnt, pc cnt)\n",
    "\n",
    "    plt.figure(figsize=(14, 14))\n",
    "\n",
    "    pc_axes = [[0,1],[2,3],[4,5],[6,7]]\n",
    "    for plot_id, (pcx, pcy) in enumerate(pc_axes):\n",
    "        for point_id, transformed in enumerate(transformed_list):\n",
    "            plt.subplot(2, 2, plot_id+1)  # plt.subplot(row, col, i)\n",
    "            plt.xlabel(f'PC{pcx+1} ({pca.explained_variance_ratio_[pcx]*100:.1f}%)')\n",
    "            plt.ylabel(f'PC{pcy+1} ({pca.explained_variance_ratio_[pcy]*100:.1f}%)')\n",
    "            plt.scatter(transformed[pcx], transformed[pcy], alpha=0.25)\n",
    "            plt.text(transformed[pcx], transformed[pcy], f\"'{labels[point_id]}'\")\n",
    "            \n",
    "    plt.suptitle(title)\n",
    "\n",
    "    if show:\n",
    "        plt.show()\n",
    "    else:\n",
    "        plt.savefig(f'emb_vis/pca_{time.strftime(\"%Y%m%d-%H%M%S\")}.png',\n",
    "                    bbox_inches='tight')\n",
    "        plt.close()\n",
    "\n",
    "# vis_pca(model.token_emb(torch.tensor([char_to_idx(token) for token in TOKENS]).to(device)), TOKENS, title='Test', show=True)"
   ]
  },
  {
   "cell_type": "code",
   "execution_count": 11,
   "id": "dafab7b8-ef80-477b-8898-f3d8581f94f1",
   "metadata": {},
   "outputs": [
    {
     "name": "stderr",
     "output_type": "stream",
     "text": [
      "e:\\teaching_arithmetic_replication\\.venv\\lib\\site-packages\\tqdm\\auto.py:21: TqdmWarning: IProgress not found. Please update jupyter and ipywidgets. See https://ipywidgets.readthedocs.io/en/stable/user_install.html\n",
      "  from .autonotebook import tqdm as notebook_tqdm\n"
     ]
    }
   ],
   "source": [
    "model = TransformerDecoderModel(\n",
    "    vocab_size=VOCAB_SIZE,\n",
    "    embed_size=EMBED_SIZE,\n",
    "    max_len=MAX_LEN, \n",
    "    num_heads=NUM_HEADS, \n",
    "    num_layers=NUM_LAYERS, \n",
    "    dropout=DROPOUT,\n",
    "    )\n",
    "optimizer = optim.Adam(model.parameters(), lr=LEARNING_RATE)"
   ]
  },
  {
   "cell_type": "code",
   "execution_count": 12,
   "id": "56850ae5-3aa4-44ef-bd9e-9ecc82d0a6b7",
   "metadata": {},
   "outputs": [],
   "source": [
    "train_dataset = AdditionDataset(num_samples=TRAINING_SAMPLE_SIZE)\n",
    "train_loader = DataLoader(train_dataset, batch_size=1)"
   ]
  },
  {
   "cell_type": "code",
   "execution_count": 13,
   "id": "5d7456c0-271d-46ef-bcb8-2c691e54da08",
   "metadata": {},
   "outputs": [],
   "source": [
    "model = model.to(device)"
   ]
  },
  {
   "cell_type": "code",
   "execution_count": 14,
   "id": "672d3c38",
   "metadata": {},
   "outputs": [],
   "source": [
    "PCA_TITLE_PREFIX = \"TOP-8 Embedding PCA\""
   ]
  },
  {
   "cell_type": "code",
   "execution_count": 15,
   "id": "fac8685d-1170-480f-a000-05461788e4b7",
   "metadata": {},
   "outputs": [],
   "source": [
    "data = model.token_emb(torch.tensor([char_to_idx(token) for token in TOKENS]).to(device))\n",
    "vis_pca(data, TOKENS, title=f'{PCA_TITLE_PREFIX} (Epoch:0, Loss:N/A)')"
   ]
  },
  {
   "cell_type": "code",
   "execution_count": 16,
   "id": "51b083d3-e420-445d-acb6-4379cd189344",
   "metadata": {},
   "outputs": [
    {
     "name": "stderr",
     "output_type": "stream",
     "text": [
      "100%|██████████| 100/100 [00:01<00:00, 54.60it/s]\n"
     ]
    },
    {
     "name": "stdout",
     "output_type": "stream",
     "text": [
      "Epoch 1, Loss: 1.909373733997345\n"
     ]
    },
    {
     "name": "stderr",
     "output_type": "stream",
     "text": [
      "100%|██████████| 100/100 [00:00<00:00, 116.40it/s]\n"
     ]
    },
    {
     "name": "stdout",
     "output_type": "stream",
     "text": [
      "Epoch 2, Loss: 1.8618055176734924\n"
     ]
    },
    {
     "name": "stderr",
     "output_type": "stream",
     "text": [
      "100%|██████████| 100/100 [00:00<00:00, 101.38it/s]\n"
     ]
    },
    {
     "name": "stdout",
     "output_type": "stream",
     "text": [
      "Epoch 3, Loss: 1.8285589170455934\n"
     ]
    },
    {
     "name": "stderr",
     "output_type": "stream",
     "text": [
      "100%|██████████| 100/100 [00:00<00:00, 112.04it/s]\n"
     ]
    },
    {
     "name": "stdout",
     "output_type": "stream",
     "text": [
      "Epoch 4, Loss: 1.7965000748634339\n"
     ]
    },
    {
     "name": "stderr",
     "output_type": "stream",
     "text": [
      "100%|██████████| 100/100 [00:00<00:00, 104.09it/s]\n"
     ]
    },
    {
     "name": "stdout",
     "output_type": "stream",
     "text": [
      "Epoch 5, Loss: 1.7802261626720428\n"
     ]
    },
    {
     "name": "stderr",
     "output_type": "stream",
     "text": [
      "100%|██████████| 100/100 [00:00<00:00, 112.04it/s]\n"
     ]
    },
    {
     "name": "stdout",
     "output_type": "stream",
     "text": [
      "Epoch 6, Loss: 1.7653986167907716\n"
     ]
    },
    {
     "name": "stderr",
     "output_type": "stream",
     "text": [
      "100%|██████████| 100/100 [00:00<00:00, 111.10it/s]\n"
     ]
    },
    {
     "name": "stdout",
     "output_type": "stream",
     "text": [
      "Epoch 7, Loss: 1.7474633932113648\n"
     ]
    },
    {
     "name": "stderr",
     "output_type": "stream",
     "text": [
      "100%|██████████| 100/100 [00:00<00:00, 110.46it/s]\n"
     ]
    },
    {
     "name": "stdout",
     "output_type": "stream",
     "text": [
      "Epoch 8, Loss: 1.7321090400218964\n"
     ]
    },
    {
     "name": "stderr",
     "output_type": "stream",
     "text": [
      "100%|██████████| 100/100 [00:00<00:00, 121.14it/s]\n"
     ]
    },
    {
     "name": "stdout",
     "output_type": "stream",
     "text": [
      "Epoch 9, Loss: 1.723429310321808\n"
     ]
    },
    {
     "name": "stderr",
     "output_type": "stream",
     "text": [
      "100%|██████████| 100/100 [00:00<00:00, 110.39it/s]\n"
     ]
    },
    {
     "name": "stdout",
     "output_type": "stream",
     "text": [
      "Epoch 10, Loss: 1.709659411907196\n"
     ]
    },
    {
     "name": "stderr",
     "output_type": "stream",
     "text": [
      "100%|██████████| 100/100 [00:00<00:00, 103.94it/s]\n"
     ]
    },
    {
     "name": "stdout",
     "output_type": "stream",
     "text": [
      "Epoch 11, Loss: 1.703817913532257\n"
     ]
    },
    {
     "name": "stderr",
     "output_type": "stream",
     "text": [
      "100%|██████████| 100/100 [00:00<00:00, 118.12it/s]\n"
     ]
    },
    {
     "name": "stdout",
     "output_type": "stream",
     "text": [
      "Epoch 12, Loss: 1.6947401809692382\n"
     ]
    },
    {
     "name": "stderr",
     "output_type": "stream",
     "text": [
      "100%|██████████| 100/100 [00:00<00:00, 112.48it/s]\n"
     ]
    },
    {
     "name": "stdout",
     "output_type": "stream",
     "text": [
      "Epoch 13, Loss: 1.685101602077484\n"
     ]
    },
    {
     "name": "stderr",
     "output_type": "stream",
     "text": [
      "100%|██████████| 100/100 [00:00<00:00, 113.42it/s]\n"
     ]
    },
    {
     "name": "stdout",
     "output_type": "stream",
     "text": [
      "Epoch 14, Loss: 1.6771631276607513\n"
     ]
    },
    {
     "name": "stderr",
     "output_type": "stream",
     "text": [
      "100%|██████████| 100/100 [00:00<00:00, 101.02it/s]\n"
     ]
    },
    {
     "name": "stdout",
     "output_type": "stream",
     "text": [
      "Epoch 15, Loss: 1.6742226362228394\n"
     ]
    },
    {
     "name": "stderr",
     "output_type": "stream",
     "text": [
      "100%|██████████| 100/100 [00:00<00:00, 113.06it/s]\n"
     ]
    },
    {
     "name": "stdout",
     "output_type": "stream",
     "text": [
      "Epoch 16, Loss: 1.6628162801265716\n"
     ]
    },
    {
     "name": "stderr",
     "output_type": "stream",
     "text": [
      "100%|██████████| 100/100 [00:00<00:00, 109.86it/s]\n"
     ]
    },
    {
     "name": "stdout",
     "output_type": "stream",
     "text": [
      "Epoch 17, Loss: 1.659080902338028\n"
     ]
    },
    {
     "name": "stderr",
     "output_type": "stream",
     "text": [
      "100%|██████████| 100/100 [00:00<00:00, 106.50it/s]\n"
     ]
    },
    {
     "name": "stdout",
     "output_type": "stream",
     "text": [
      "Epoch 18, Loss: 1.6523110461235047\n"
     ]
    },
    {
     "name": "stderr",
     "output_type": "stream",
     "text": [
      "100%|██████████| 100/100 [00:00<00:00, 100.51it/s]\n"
     ]
    },
    {
     "name": "stdout",
     "output_type": "stream",
     "text": [
      "Epoch 19, Loss: 1.6429736948013305\n"
     ]
    },
    {
     "name": "stderr",
     "output_type": "stream",
     "text": [
      "100%|██████████| 100/100 [00:00<00:00, 111.28it/s]\n"
     ]
    },
    {
     "name": "stdout",
     "output_type": "stream",
     "text": [
      "Epoch 20, Loss: 1.6382826232910157\n"
     ]
    },
    {
     "name": "stderr",
     "output_type": "stream",
     "text": [
      "100%|██████████| 100/100 [00:00<00:00, 116.08it/s]\n"
     ]
    },
    {
     "name": "stdout",
     "output_type": "stream",
     "text": [
      "Epoch 21, Loss: 1.6301558029651642\n"
     ]
    },
    {
     "name": "stderr",
     "output_type": "stream",
     "text": [
      "100%|██████████| 100/100 [00:00<00:00, 109.81it/s]\n"
     ]
    },
    {
     "name": "stdout",
     "output_type": "stream",
     "text": [
      "Epoch 22, Loss: 1.6204243946075438\n"
     ]
    },
    {
     "name": "stderr",
     "output_type": "stream",
     "text": [
      "100%|██████████| 100/100 [00:00<00:00, 108.02it/s]\n"
     ]
    },
    {
     "name": "stdout",
     "output_type": "stream",
     "text": [
      "Epoch 23, Loss: 1.6122491264343262\n"
     ]
    },
    {
     "name": "stderr",
     "output_type": "stream",
     "text": [
      "100%|██████████| 100/100 [00:00<00:00, 100.99it/s]\n"
     ]
    },
    {
     "name": "stdout",
     "output_type": "stream",
     "text": [
      "Epoch 24, Loss: 1.605628035068512\n"
     ]
    },
    {
     "name": "stderr",
     "output_type": "stream",
     "text": [
      "100%|██████████| 100/100 [00:00<00:00, 105.91it/s]\n"
     ]
    },
    {
     "name": "stdout",
     "output_type": "stream",
     "text": [
      "Epoch 25, Loss: 1.6001717627048493\n"
     ]
    },
    {
     "name": "stderr",
     "output_type": "stream",
     "text": [
      "100%|██████████| 100/100 [00:00<00:00, 107.80it/s]\n"
     ]
    },
    {
     "name": "stdout",
     "output_type": "stream",
     "text": [
      "Epoch 26, Loss: 1.5879671037197114\n"
     ]
    },
    {
     "name": "stderr",
     "output_type": "stream",
     "text": [
      "100%|██████████| 100/100 [00:00<00:00, 102.80it/s]\n"
     ]
    },
    {
     "name": "stdout",
     "output_type": "stream",
     "text": [
      "Epoch 27, Loss: 1.578506165742874\n"
     ]
    },
    {
     "name": "stderr",
     "output_type": "stream",
     "text": [
      "100%|██████████| 100/100 [00:01<00:00, 93.09it/s]\n"
     ]
    },
    {
     "name": "stdout",
     "output_type": "stream",
     "text": [
      "Epoch 28, Loss: 1.5676890695095063\n"
     ]
    },
    {
     "name": "stderr",
     "output_type": "stream",
     "text": [
      "100%|██████████| 100/100 [00:01<00:00, 97.41it/s]\n"
     ]
    },
    {
     "name": "stdout",
     "output_type": "stream",
     "text": [
      "Epoch 29, Loss: 1.5613005030155183\n"
     ]
    },
    {
     "name": "stderr",
     "output_type": "stream",
     "text": [
      "100%|██████████| 100/100 [00:00<00:00, 107.93it/s]\n"
     ]
    },
    {
     "name": "stdout",
     "output_type": "stream",
     "text": [
      "Epoch 30, Loss: 1.5483782505989074\n"
     ]
    },
    {
     "name": "stderr",
     "output_type": "stream",
     "text": [
      "100%|██████████| 100/100 [00:01<00:00, 94.55it/s]\n"
     ]
    },
    {
     "name": "stdout",
     "output_type": "stream",
     "text": [
      "Epoch 31, Loss: 1.5421829664707183\n"
     ]
    },
    {
     "name": "stderr",
     "output_type": "stream",
     "text": [
      "100%|██████████| 100/100 [00:01<00:00, 95.03it/s]\n"
     ]
    },
    {
     "name": "stdout",
     "output_type": "stream",
     "text": [
      "Epoch 32, Loss: 1.5312910878658295\n"
     ]
    },
    {
     "name": "stderr",
     "output_type": "stream",
     "text": [
      "100%|██████████| 100/100 [00:01<00:00, 95.91it/s]\n"
     ]
    },
    {
     "name": "stdout",
     "output_type": "stream",
     "text": [
      "Epoch 33, Loss: 1.5210846734046937\n"
     ]
    },
    {
     "name": "stderr",
     "output_type": "stream",
     "text": [
      "100%|██████████| 100/100 [00:00<00:00, 105.64it/s]\n"
     ]
    },
    {
     "name": "stdout",
     "output_type": "stream",
     "text": [
      "Epoch 34, Loss: 1.508996970653534\n"
     ]
    },
    {
     "name": "stderr",
     "output_type": "stream",
     "text": [
      "100%|██████████| 100/100 [00:00<00:00, 106.64it/s]\n"
     ]
    },
    {
     "name": "stdout",
     "output_type": "stream",
     "text": [
      "Epoch 35, Loss: 1.494481770992279\n"
     ]
    },
    {
     "name": "stderr",
     "output_type": "stream",
     "text": [
      "100%|██████████| 100/100 [00:01<00:00, 94.80it/s]\n"
     ]
    },
    {
     "name": "stdout",
     "output_type": "stream",
     "text": [
      "Epoch 36, Loss: 1.4872120761871337\n"
     ]
    },
    {
     "name": "stderr",
     "output_type": "stream",
     "text": [
      "100%|██████████| 100/100 [00:00<00:00, 101.91it/s]\n"
     ]
    },
    {
     "name": "stdout",
     "output_type": "stream",
     "text": [
      "Epoch 37, Loss: 1.4740814805030822\n"
     ]
    },
    {
     "name": "stderr",
     "output_type": "stream",
     "text": [
      "100%|██████████| 100/100 [00:01<00:00, 96.24it/s]\n"
     ]
    },
    {
     "name": "stdout",
     "output_type": "stream",
     "text": [
      "Epoch 38, Loss: 1.465728600025177\n"
     ]
    },
    {
     "name": "stderr",
     "output_type": "stream",
     "text": [
      "100%|██████████| 100/100 [00:01<00:00, 99.71it/s]\n"
     ]
    },
    {
     "name": "stdout",
     "output_type": "stream",
     "text": [
      "Epoch 39, Loss: 1.4543693840503693\n"
     ]
    },
    {
     "name": "stderr",
     "output_type": "stream",
     "text": [
      "100%|██████████| 100/100 [00:00<00:00, 106.43it/s]\n"
     ]
    },
    {
     "name": "stdout",
     "output_type": "stream",
     "text": [
      "Epoch 40, Loss: 1.4397561502456666\n"
     ]
    },
    {
     "name": "stderr",
     "output_type": "stream",
     "text": [
      "100%|██████████| 100/100 [00:00<00:00, 107.28it/s]\n"
     ]
    },
    {
     "name": "stdout",
     "output_type": "stream",
     "text": [
      "Epoch 41, Loss: 1.4330081236362457\n"
     ]
    },
    {
     "name": "stderr",
     "output_type": "stream",
     "text": [
      "100%|██████████| 100/100 [00:00<00:00, 107.43it/s]\n"
     ]
    },
    {
     "name": "stdout",
     "output_type": "stream",
     "text": [
      "Epoch 42, Loss: 1.4211716043949127\n"
     ]
    },
    {
     "name": "stderr",
     "output_type": "stream",
     "text": [
      "100%|██████████| 100/100 [00:00<00:00, 107.46it/s]\n"
     ]
    },
    {
     "name": "stdout",
     "output_type": "stream",
     "text": [
      "Epoch 43, Loss: 1.411518405675888\n"
     ]
    },
    {
     "name": "stderr",
     "output_type": "stream",
     "text": [
      "100%|██████████| 100/100 [00:01<00:00, 96.15it/s]\n"
     ]
    },
    {
     "name": "stdout",
     "output_type": "stream",
     "text": [
      "Epoch 44, Loss: 1.3960870051383971\n"
     ]
    },
    {
     "name": "stderr",
     "output_type": "stream",
     "text": [
      "100%|██████████| 100/100 [00:00<00:00, 112.21it/s]\n"
     ]
    },
    {
     "name": "stdout",
     "output_type": "stream",
     "text": [
      "Epoch 45, Loss: 1.3919534945487977\n"
     ]
    },
    {
     "name": "stderr",
     "output_type": "stream",
     "text": [
      "100%|██████████| 100/100 [00:00<00:00, 100.36it/s]\n"
     ]
    },
    {
     "name": "stdout",
     "output_type": "stream",
     "text": [
      "Epoch 46, Loss: 1.379759089946747\n"
     ]
    },
    {
     "name": "stderr",
     "output_type": "stream",
     "text": [
      "100%|██████████| 100/100 [00:00<00:00, 104.98it/s]\n"
     ]
    },
    {
     "name": "stdout",
     "output_type": "stream",
     "text": [
      "Epoch 47, Loss: 1.3724954748153686\n"
     ]
    },
    {
     "name": "stderr",
     "output_type": "stream",
     "text": [
      "100%|██████████| 100/100 [00:00<00:00, 128.78it/s]\n"
     ]
    },
    {
     "name": "stdout",
     "output_type": "stream",
     "text": [
      "Epoch 48, Loss: 1.362641041278839\n"
     ]
    },
    {
     "name": "stderr",
     "output_type": "stream",
     "text": [
      "100%|██████████| 100/100 [00:00<00:00, 118.47it/s]\n"
     ]
    },
    {
     "name": "stdout",
     "output_type": "stream",
     "text": [
      "Epoch 49, Loss: 1.3573599922657014\n"
     ]
    },
    {
     "name": "stderr",
     "output_type": "stream",
     "text": [
      "100%|██████████| 100/100 [00:00<00:00, 128.64it/s]\n"
     ]
    },
    {
     "name": "stdout",
     "output_type": "stream",
     "text": [
      "Epoch 50, Loss: 1.3446239233016968\n"
     ]
    },
    {
     "data": {
      "text/plain": [
       "[<matplotlib.lines.Line2D at 0x214fc69f850>]"
      ]
     },
     "execution_count": 16,
     "metadata": {},
     "output_type": "execute_result"
    },
    {
     "data": {
      "image/png": "[encoded data removed]",
      "text/plain": [
       "<Figure size 640x480 with 1 Axes>"
      ]
     },
     "metadata": {},
     "output_type": "display_data"
    }
   ],
   "source": [
    "# Train\n",
    "model.train()\n",
    "losses = []\n",
    "for epoch in range(EPOCHS):\n",
    "    epoch_loss = 0\n",
    "    for batch in tqdm(train_loader):\n",
    "        for data in batch:\n",
    "            input_tensor = torch.tensor([char_to_idx(char) for char in data[:-1]], dtype=torch.long).unsqueeze(0).to(device)\n",
    "            target_tensor = torch.tensor([char_to_idx(char) for char in data[1:]], dtype=torch.long).unsqueeze(0).to(device)\n",
    "\n",
    "            optimizer.zero_grad()\n",
    "            output = model(input_tensor)  # (batch=1, seq_len) -> (batch=1, seq_len, VOCAB_SIZE)\n",
    "\n",
    "            output_onehot = np.argmax(output.cpu().detach(), axis=2)  # (batch=1, seq_len)\n",
    "            \n",
    "            pred = output.view(-1, VOCAB_SIZE)  # (seq_len, VOCAB_SIZE)\n",
    "            true = target_tensor.view(-1)  # (seq_len)\n",
    "            # loss = F.cross_entropy(pred, true)  # Compare all (inefficient)\n",
    "            \n",
    "            eqi = data[:-1].index('=')\n",
    "            lhs = torch.zeros_like(pred[:eqi])\n",
    "            for i in range(eqi):\n",
    "                lhs[i][true[i]] = 1\n",
    "            rhs_pred = torch.cat((lhs, pred[eqi:]), dim=0)  # (seq_len, VOCAB_SIZE)\n",
    "            loss = F.cross_entropy(rhs_pred, true)  # Compare RHS\n",
    "            \n",
    "            loss.backward()\n",
    "            optimizer.step()\n",
    "\n",
    "            epoch_loss += loss.item()/len(batch)\n",
    "    losses.append(epoch_loss/len(train_loader))\n",
    "    print(f\"Epoch {epoch+1}, Loss: {losses[-1]}\")\n",
    "    \n",
    "    data = model.token_emb(torch.tensor([char_to_idx(token) for token in TOKENS]).to(device))\n",
    "    vis_pca(data, TOKENS, title=f'{PCA_TITLE_PREFIX} (Epoch:{epoch+1}, Loss:{losses[-1]:.2f})')\n",
    "\n",
    "plt.title('Loss'); plt.plot(losses)"
   ]
  },
  {
   "cell_type": "code",
   "execution_count": null,
   "id": "1d300403",
   "metadata": {},
   "outputs": [],
   "source": []
  },
  {
   "cell_type": "code",
   "execution_count": 17,
   "id": "fb516ab7-ed61-4f80-b9d4-a3756898761e",
   "metadata": {},
   "outputs": [
    {
     "name": "stdout",
     "output_type": "stream",
     "text": [
      "sentence:  94+76=611\n",
      "target_char:  ['6', '1', '1']\n",
      "output_char:  ['6', '1', '1']\n",
      "sentence:  88+34=131\n",
      "target_char:  ['1', '3', '1']\n",
      "output_char:  ['1', '4', '1']\n",
      "sentence:  94+37=221\n",
      "target_char:  ['2', '2', '1']\n",
      "output_char:  ['2', '2', '1']\n",
      "sentence:  17+61=78\n",
      "target_char:  ['7', '8']\n",
      "output_char:  ['7', '7']\n",
      "sentence:  34+76=011\n",
      "target_char:  ['0', '1', '1']\n",
      "output_char:  ['0', '1', '1']\n",
      "sentence:  31+83=15\n",
      "target_char:  ['1', '5']\n",
      "output_char:  ['1', '9']\n",
      "sentence:  45+72=18\n",
      "target_char:  ['1', '8']\n",
      "output_char:  ['1', '9']\n",
      "sentence:  01+69=601\n",
      "target_char:  ['6', '0', '1']\n",
      "output_char:  ['6', '0', '1']\n",
      "sentence:  09+02=011\n",
      "target_char:  ['0', '1', '1']\n",
      "output_char:  ['0', '0', '1']\n",
      "sentence:  31+42=73\n",
      "target_char:  ['7', '3']\n",
      "output_char:  ['7', '4']\n"
     ]
    }
   ],
   "source": [
    "test_dataset = AdditionDataset(num_samples=TEST_SAMPLE_SIZE)\n",
    "test_loader = DataLoader(test_dataset, batch_size=1)\n",
    "\n",
    "def evaluate_model(model, data):\n",
    "    model.eval()  # 모델을 평가 모드로 설정\n",
    "    \n",
    "    pred_total = pred_correct = 0\n",
    "    with torch.no_grad():\n",
    "        for batch in test_loader:\n",
    "            for data in batch:\n",
    "                input_tensor = torch.tensor([char_to_idx(char) for char in data[:-1]], dtype=torch.long).unsqueeze(0).to(device)\n",
    "                target_tensor = torch.tensor([char_to_idx(char) for char in data[1:]], dtype=torch.long).unsqueeze(0).to(device)\n",
    "    \n",
    "                output = model(input_tensor)\n",
    "\n",
    "                output_onehot = np.argmax(output.cpu().detach(), axis=2)\n",
    "                eqi = data[:-1].index('=')\n",
    "                pred_total += len(target_tensor[0][eqi:])\n",
    "                pred_correct += sum(1 for i, j in zip(target_tensor[0][eqi:], output_onehot[0][eqi:]) if i == j)\n",
    "                print('sentence: ', data)\n",
    "                print('target_char: ', [idx_to_char(i) for i in target_tensor[0][eqi:]])\n",
    "                print('output_char: ', [idx_to_char(i) for i in output_onehot[0][eqi:]])\n",
    "\n",
    "    return {'accuracy': pred_correct/pred_total}\n",
    "\n",
    "accuracy = evaluate_model(model, test_dataset)['accuracy']"
   ]
  },
  {
   "cell_type": "code",
   "execution_count": 18,
   "id": "4ffe4ce5-4391-4466-94c7-3427b827d11d",
   "metadata": {},
   "outputs": [
    {
     "name": "stdout",
     "output_type": "stream",
     "text": [
      "Accuracy:  0.7692307692307693\n"
     ]
    }
   ],
   "source": [
    "print(\"Accuracy: \", accuracy)"
   ]
  },
  {
   "cell_type": "code",
   "execution_count": 19,
   "id": "1bb164fa",
   "metadata": {},
   "outputs": [],
   "source": [
    "# Write experimental results\n",
    "filename=f'exp_res/{accuracy*100:.0f}-InRev{REVERSE_INPUT}-OutRev{REVERSE_OUTPUT}-{NUM1_RANGE}-{NUM2_RANGE}-Train{TRAINING_SAMPLE_SIZE}-Test{TEST_SAMPLE_SIZE}-Epoch{TRAINING_EPOCH}-{time.strftime(\"%Y%m%d-%H%M%S\")}.txt'\n",
    "with open(filename, 'w') as f:\n",
    "    f.write(f'Accuracy: {accuracy}\\n')\n",
    "    f.write(f'Loss: {losses}\\n')"
   ]
  },
  {
   "cell_type": "code",
   "execution_count": 20,
   "id": "504502a9",
   "metadata": {},
   "outputs": [
    {
     "data": {
      "image/png": "[encoded data removed]",
      "text/plain": [
       "<Figure size 1400x1400 with 4 Axes>"
      ]
     },
     "metadata": {},
     "output_type": "display_data"
    }
   ],
   "source": [
    "vis_pca(data, TOKENS, title=f'log: {filename}\\n\\n{PCA_TITLE_PREFIX} (Test Accuracy: {accuracy*100:.2f}%)', show=True)"
   ]
  },
  {
   "cell_type": "code",
   "execution_count": null,
   "id": "3095785a",
   "metadata": {},
   "outputs": [],
   "source": []
  }
 ],
 "metadata": {
  "kernelspec": {
   "display_name": "Python 3 (ipykernel)",
   "language": "python",
   "name": "python3"
  },
  "language_info": {
   "codemirror_mode": {
    "name": "ipython",
    "version": 3
   },
   "file_extension": ".py",
   "mimetype": "text/x-python",
   "name": "python",
   "nbconvert_exporter": "python",
   "pygments_lexer": "ipython3",
   "version": "3.8.10"
  }
 },
 "nbformat": 4,
 "nbformat_minor": 5
}
