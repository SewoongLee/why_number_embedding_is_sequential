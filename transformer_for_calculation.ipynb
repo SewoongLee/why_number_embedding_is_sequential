{
 "cells": [
  {
   "cell_type": "code",
   "execution_count": 1,
   "id": "d24deb45-3d1a-4994-93f0-bd6ef4762eb2",
   "metadata": {},
   "outputs": [
    {
     "name": "stdout",
     "output_type": "stream",
     "text": [
      "Hello world!\n"
     ]
    }
   ],
   "source": [
    "print('Hello world!')"
   ]
  },
  {
   "cell_type": "markdown",
   "id": "6f12f951",
   "metadata": {},
   "source": [
    "### Experimental Setting"
   ]
  },
  {
   "cell_type": "code",
   "execution_count": 2,
   "id": "d128c980",
   "metadata": {},
   "outputs": [],
   "source": [
    "REVERSE_INPUT = True\n",
    "REVERSE_OUTPUT = True\n",
    "OPERATOR = '+'\n",
    "NUM1_RANGE = (0,999)\n",
    "NUM2_RANGE = (0,999)\n",
    "TRAINING_SAMPLE_SIZE =10000\n",
    "TEST_SAMPLE_SIZE = 100\n",
    "TRAINING_EPOCH = 100"
   ]
  },
  {
   "cell_type": "markdown",
   "id": "d1cceda4",
   "metadata": {},
   "source": [
    "### Transformer for Calculation"
   ]
  },
  {
   "cell_type": "code",
   "execution_count": 3,
   "id": "6c4307be-af65-4d83-a36c-fd6eb0d462b6",
   "metadata": {},
   "outputs": [],
   "source": [
    "import numpy as np\n",
    "import matplotlib.pyplot as plt\n",
    "import time\n",
    "import random\n",
    "import os\n",
    "from tqdm import tqdm\n",
    "\n",
    "import torch\n",
    "import torch.nn as nn\n",
    "import torch.optim as optim\n",
    "from torch.nn import functional as F\n",
    "from torch.utils.data import DataLoader, Dataset"
   ]
  },
  {
   "cell_type": "code",
   "execution_count": 4,
   "id": "f994d176",
   "metadata": {},
   "outputs": [],
   "source": [
    "random.seed(12345)\n",
    "np.random.seed(12345)\n",
    "torch.manual_seed(12345)\n",
    "torch.cuda.manual_seed_all(12345)"
   ]
  },
  {
   "cell_type": "code",
   "execution_count": 5,
   "id": "b098a17a-7070-43cb-8f75-c71eba570c75",
   "metadata": {},
   "outputs": [
    {
     "name": "stdout",
     "output_type": "stream",
     "text": [
      "Using device: cuda\n"
     ]
    }
   ],
   "source": [
    "device = torch.device(\"cuda\" if torch.cuda.is_available() else \"cpu\")\n",
    "print(f\"Using device: {device}\")"
   ]
  },
  {
   "cell_type": "code",
   "execution_count": 6,
   "id": "da3d7d7d-af2e-4d6a-8dc7-6e7923a0a268",
   "metadata": {},
   "outputs": [],
   "source": [
    "# Dataset Class\n",
    "class AdditionDataset(Dataset):\n",
    "    def __init__(self, num_samples):\n",
    "        self.samples = [self.generate_sample() for _ in range(num_samples)]\n",
    "\n",
    "    def __len__(self):\n",
    "        return len(self.samples)\n",
    "\n",
    "    def __getitem__(self, idx):\n",
    "        return self.samples[idx]\n",
    "    \n",
    "    @staticmethod\n",
    "    def generate_sample(operator=OPERATOR, reverse_in=REVERSE_INPUT, reverse_out=REVERSE_OUTPUT):\n",
    "        num1 = random.randint(NUM1_RANGE[0], NUM1_RANGE[1])\n",
    "        num2 = random.randint(NUM2_RANGE[0], NUM2_RANGE[1])\n",
    "        result = eval(f'{num1}{operator}{num2}')\n",
    "\n",
    "        if reverse_in:\n",
    "            num1 = str(num1)[::-1]\n",
    "            num2 = str(num2)[::-1]\n",
    "        else:\n",
    "            num1 = str(num1)\n",
    "            num2 = str(num2)\n",
    "\n",
    "        if reverse_out:\n",
    "            result = str(result)[::-1]\n",
    "        else:\n",
    "            result = str(result)\n",
    "\n",
    "        return num1+operator+num2+'='+result"
   ]
  },
  {
   "cell_type": "code",
   "execution_count": 7,
   "id": "bd32a61f",
   "metadata": {},
   "outputs": [],
   "source": [
    "# Hyperparameter\n",
    "MAX_LEN = 16\n",
    "EMBED_SIZE = 384 #256\n",
    "NUM_HEADS = 6 #8\n",
    "NUM_LAYERS = 3 #6 #3\n",
    "DROPOUT = 0 #0.1\n",
    "LEARNING_RATE = 1e-6 #1e-3\n",
    "EPOCHS = TRAINING_EPOCH"
   ]
  },
  {
   "cell_type": "code",
   "execution_count": 8,
   "id": "381dab4f",
   "metadata": {},
   "outputs": [],
   "source": [
    "# TODO: delete\n",
    "n_embd = EMBED_SIZE\n",
    "block_size = MAX_LEN\n",
    "n_layer = NUM_LAYERS\n",
    "dropout = DROPOUT"
   ]
  },
  {
   "cell_type": "code",
   "execution_count": 9,
   "id": "8452a32c",
   "metadata": {},
   "outputs": [],
   "source": [
    "# Tokenization\n",
    "ONEHOT_IDX = {'0': 0, '1': 1, '2': 2, '3': 3, '4': 4, '5': 5, '6': 6, '7': 7, '8': 8, '9': 9, OPERATOR: 10, '=': 11}\n",
    "TOKENS = ''.join(ONEHOT_IDX.keys())\n",
    "VOCAB_SIZE = len(TOKENS)\n",
    "\n",
    "def char_to_idx(char):\n",
    "    return ONEHOT_IDX[char]\n",
    "\n",
    "def idx_to_char(idx):\n",
    "    return TOKENS[idx]"
   ]
  },
  {
   "cell_type": "code",
   "execution_count": 10,
   "id": "611c27c8",
   "metadata": {},
   "outputs": [],
   "source": [
    "class Head(nn.Module):\n",
    "    \"\"\" one head of self-attention \"\"\"\n",
    "\n",
    "    def __init__(self, head_size):\n",
    "        super().__init__()\n",
    "        self.key = nn.Linear(n_embd, head_size, bias=False)\n",
    "        self.query = nn.Linear(n_embd, head_size, bias=False)\n",
    "        self.value = nn.Linear(n_embd, head_size, bias=False)\n",
    "        self.register_buffer('tril', torch.tril(torch.ones(block_size, block_size)))\n",
    "\n",
    "        self.dropout = nn.Dropout(dropout)\n",
    "\n",
    "    def forward(self, x):\n",
    "        # input of size (batch, time-step, channels)\n",
    "        # output of size (batch, time-step, head size)\n",
    "        B,T,C = x.shape\n",
    "        k = self.key(x)   # (B,T,hs)\n",
    "        q = self.query(x) # (B,T,hs)\n",
    "        # compute attention scores (\"affinities\")\n",
    "        wei = q @ k.transpose(-2,-1) * k.shape[-1]**-0.5 # (B, T, hs) @ (B, hs, T) -> (B, T, T)\n",
    "        wei = wei.masked_fill(self.tril[:T, :T] == 0, float('-inf')) # (B, T, T)\n",
    "        wei = F.softmax(wei, dim=-1) # (B, T, T)\n",
    "        wei = self.dropout(wei)\n",
    "        # perform the weighted aggregation of the values\n",
    "        v = self.value(x) # (B,T,hs)\n",
    "        out = wei @ v # (B, T, T) @ (B, T, hs) -> (B, T, hs)\n",
    "        return out"
   ]
  },
  {
   "cell_type": "code",
   "execution_count": 11,
   "id": "3a72ca74",
   "metadata": {},
   "outputs": [],
   "source": [
    "class MultiHeadAttention(nn.Module):\n",
    "    \"\"\" multiple heads of self-attention in parallel \"\"\"\n",
    "\n",
    "    def __init__(self, num_heads, head_size):\n",
    "        super().__init__()\n",
    "        self.heads = nn.ModuleList([Head(head_size) for _ in range(num_heads)])\n",
    "        self.proj = nn.Linear(head_size * num_heads, n_embd)\n",
    "        self.dropout = nn.Dropout(dropout)\n",
    "\n",
    "    def forward(self, x):\n",
    "        out = torch.cat([h(x) for h in self.heads], dim=-1)\n",
    "        out = self.dropout(self.proj(out))\n",
    "        return out"
   ]
  },
  {
   "cell_type": "code",
   "execution_count": 12,
   "id": "e1b8eaab",
   "metadata": {},
   "outputs": [],
   "source": [
    "class FeedFoward(nn.Module):\n",
    "    \"\"\" a simple linear layer followed by a non-linearity \"\"\"\n",
    "\n",
    "    def __init__(self, n_embd):\n",
    "        super().__init__()\n",
    "        self.net = nn.Sequential(\n",
    "            nn.Linear(n_embd, 4 * n_embd),\n",
    "            nn.ReLU(),\n",
    "            nn.Linear(4 * n_embd, n_embd),\n",
    "            nn.Dropout(dropout),\n",
    "        )\n",
    "\n",
    "    def forward(self, x):\n",
    "        return self.net(x)"
   ]
  },
  {
   "cell_type": "code",
   "execution_count": 13,
   "id": "1cc62376",
   "metadata": {},
   "outputs": [],
   "source": [
    "class Block(nn.Module):\n",
    "    \"\"\" Transformer block: communication followed by computation \"\"\"\n",
    "\n",
    "    def __init__(self, n_embd, n_head):\n",
    "        # n_embd: embedding dimension, n_head: the number of heads we'd like\n",
    "        super().__init__()\n",
    "        head_size = n_embd // n_head\n",
    "        self.sa = MultiHeadAttention(n_head, head_size)\n",
    "        self.ffwd = FeedFoward(n_embd)\n",
    "        self.ln1 = nn.LayerNorm(n_embd)\n",
    "        self.ln2 = nn.LayerNorm(n_embd)\n",
    "\n",
    "    def forward(self, x):\n",
    "        x = x + self.sa(self.ln1(x))\n",
    "        x = x + self.ffwd(self.ln2(x))\n",
    "        return x"
   ]
  },
  {
   "cell_type": "code",
   "execution_count": 14,
   "id": "a09dee84-ec8a-4084-9c96-c04e956cc133",
   "metadata": {},
   "outputs": [],
   "source": [
    "# Model definition\n",
    "class TransformerDecoderModel(nn.Module):\n",
    "    def __init__(self, vocab_size, embed_size, max_len, num_heads, num_layers, dropout=0.1):\n",
    "        super().__init__()\n",
    "        # each token directly reads off the logits for the next token from a lookup table\n",
    "        self.token_embedding_table = nn.Embedding(vocab_size, embed_size)\n",
    "        self.position_embedding_table = nn.Embedding(max_len, embed_size)\n",
    "        self.blocks = nn.Sequential(*[Block(embed_size, n_head=num_heads) for _ in range(num_layers)])\n",
    "        self.ln_f = nn.LayerNorm(embed_size) # final layer norm\n",
    "        self.lm_head = nn.Linear(embed_size, vocab_size)\n",
    "\n",
    "    def forward(self, idx):\n",
    "        B, T = idx.shape\n",
    "\n",
    "        # idx and targets are both (B,T) tensor of integers\n",
    "        tok_emb = self.token_embedding_table(idx) # (B,T,C)\n",
    "        pos_emb = self.position_embedding_table(torch.arange(T, device=device)) # (T,C)\n",
    "        x = tok_emb + pos_emb # (B,T,C)\n",
    "        x = self.blocks(x) # (B,T,C)\n",
    "        x = self.ln_f(x) # (B,T,C)\n",
    "        logits = self.lm_head(x) # (B,T,vocab_size)\n",
    "        return logits\n"
   ]
  },
  {
   "cell_type": "code",
   "execution_count": 15,
   "id": "de8bcc6b-e41e-43f7-92de-49bb549d010d",
   "metadata": {},
   "outputs": [],
   "source": [
    "# Visualization\n",
    "def vis_pca(data, labels, title='', show=False):\n",
    "    \n",
    "    from sklearn.decomposition import PCA\n",
    "    import matplotlib.pyplot as plt\n",
    "    \n",
    "    pca = PCA(n_components=8)\n",
    "    transformed_list = pca.fit_transform(data.cpu().detach().numpy())  # (label cnt, pc cnt)\n",
    "\n",
    "    plt.figure(figsize=(14, 14))\n",
    "\n",
    "    pc_axes = [[0,1],[2,3],[4,5],[6,7]]\n",
    "    for plot_id, (pcx, pcy) in enumerate(pc_axes):\n",
    "        for point_id, transformed in enumerate(transformed_list):\n",
    "            plt.subplot(2, 2, plot_id+1)  # plt.subplot(row, col, i)\n",
    "            plt.xlabel(f'PC{pcx+1} ({pca.explained_variance_ratio_[pcx]*100:.1f}%)')\n",
    "            plt.ylabel(f'PC{pcy+1} ({pca.explained_variance_ratio_[pcy]*100:.1f}%)')\n",
    "            plt.scatter(transformed[pcx], transformed[pcy], alpha=0.25)\n",
    "            plt.text(transformed[pcx], transformed[pcy], f\"'{labels[point_id]}'\")\n",
    "            \n",
    "    plt.suptitle(title)\n",
    "\n",
    "    if show:\n",
    "        plt.show()\n",
    "    else:\n",
    "        if not os.path.exists('emb_vis'): os.makedirs('emb_vis')\n",
    "        plt.savefig(f'emb_vis/pca_{time.strftime(\"%Y%m%d-%H%M%S\")}.png', bbox_inches='tight')\n",
    "        plt.close()\n",
    "\n",
    "# vis_pca(model.token_emb(torch.tensor([char_to_idx(token) for token in TOKENS]).to(device)), TOKENS, title='Test', show=True)"
   ]
  },
  {
   "cell_type": "code",
   "execution_count": 16,
   "id": "dafab7b8-ef80-477b-8898-f3d8581f94f1",
   "metadata": {},
   "outputs": [
    {
     "name": "stderr",
     "output_type": "stream",
     "text": [
      "e:\\arithmeticGPT-simple\\.venv\\lib\\site-packages\\tqdm\\auto.py:21: TqdmWarning: IProgress not found. Please update jupyter and ipywidgets. See https://ipywidgets.readthedocs.io/en/stable/user_install.html\n",
      "  from .autonotebook import tqdm as notebook_tqdm\n"
     ]
    }
   ],
   "source": [
    "model = TransformerDecoderModel(\n",
    "    vocab_size=VOCAB_SIZE,\n",
    "    embed_size=EMBED_SIZE,\n",
    "    max_len=MAX_LEN, \n",
    "    num_heads=NUM_HEADS, \n",
    "    num_layers=NUM_LAYERS, \n",
    "    dropout=DROPOUT,\n",
    "    )\n",
    "optimizer = optim.Adam(model.parameters(), lr=LEARNING_RATE)"
   ]
  },
  {
   "cell_type": "code",
   "execution_count": 17,
   "id": "56850ae5-3aa4-44ef-bd9e-9ecc82d0a6b7",
   "metadata": {},
   "outputs": [],
   "source": [
    "train_dataset = AdditionDataset(num_samples=TRAINING_SAMPLE_SIZE)\n",
    "train_loader = DataLoader(train_dataset, batch_size=1)"
   ]
  },
  {
   "cell_type": "code",
   "execution_count": 18,
   "id": "5d7456c0-271d-46ef-bcb8-2c691e54da08",
   "metadata": {},
   "outputs": [],
   "source": [
    "model = model.to(device)"
   ]
  },
  {
   "cell_type": "code",
   "execution_count": 19,
   "id": "672d3c38",
   "metadata": {},
   "outputs": [],
   "source": [
    "PCA_TITLE_PREFIX = \"TOP-8 Embedding PCA\""
   ]
  },
  {
   "cell_type": "code",
   "execution_count": 20,
   "id": "f468a805",
   "metadata": {},
   "outputs": [],
   "source": [
    "emb_func = model.token_embedding_table"
   ]
  },
  {
   "cell_type": "code",
   "execution_count": 21,
   "id": "fac8685d-1170-480f-a000-05461788e4b7",
   "metadata": {},
   "outputs": [],
   "source": [
    "data = emb_func(torch.tensor([char_to_idx(token) for token in TOKENS]).to(device))\n",
    "vis_pca(data, TOKENS, title=f'{PCA_TITLE_PREFIX} (Epoch:0, Loss:N/A)')"
   ]
  },
  {
   "cell_type": "code",
   "execution_count": 22,
   "id": "51b083d3-e420-445d-acb6-4379cd189344",
   "metadata": {},
   "outputs": [
    {
     "name": "stderr",
     "output_type": "stream",
     "text": [
      "100%|██████████| 10000/10000 [02:48<00:00, 59.46it/s]\n"
     ]
    },
    {
     "name": "stdout",
     "output_type": "stream",
     "text": [
      "Epoch 1, Loss: 1.784134452879429\n"
     ]
    },
    {
     "name": "stderr",
     "output_type": "stream",
     "text": [
      "100%|██████████| 10000/10000 [03:33<00:00, 46.85it/s]\n"
     ]
    },
    {
     "name": "stdout",
     "output_type": "stream",
     "text": [
      "Epoch 2, Loss: 1.7507156111359596\n"
     ]
    },
    {
     "name": "stderr",
     "output_type": "stream",
     "text": [
      "100%|██████████| 10000/10000 [03:53<00:00, 42.87it/s]\n"
     ]
    },
    {
     "name": "stdout",
     "output_type": "stream",
     "text": [
      "Epoch 3, Loss: 1.748005974817276\n"
     ]
    },
    {
     "name": "stderr",
     "output_type": "stream",
     "text": [
      "100%|██████████| 10000/10000 [03:14<00:00, 51.39it/s]\n"
     ]
    },
    {
     "name": "stdout",
     "output_type": "stream",
     "text": [
      "Epoch 4, Loss: 1.7469298564314841\n"
     ]
    },
    {
     "name": "stderr",
     "output_type": "stream",
     "text": [
      "100%|██████████| 10000/10000 [03:17<00:00, 50.52it/s]\n"
     ]
    },
    {
     "name": "stdout",
     "output_type": "stream",
     "text": [
      "Epoch 5, Loss: 1.7462207366347313\n"
     ]
    },
    {
     "name": "stderr",
     "output_type": "stream",
     "text": [
      "100%|██████████| 10000/10000 [03:14<00:00, 51.40it/s]\n"
     ]
    },
    {
     "name": "stdout",
     "output_type": "stream",
     "text": [
      "Epoch 6, Loss: 1.7456130874752998\n"
     ]
    },
    {
     "name": "stderr",
     "output_type": "stream",
     "text": [
      "100%|██████████| 10000/10000 [03:20<00:00, 49.99it/s]\n"
     ]
    },
    {
     "name": "stdout",
     "output_type": "stream",
     "text": [
      "Epoch 7, Loss: 1.7450065529108048\n"
     ]
    },
    {
     "name": "stderr",
     "output_type": "stream",
     "text": [
      "100%|██████████| 10000/10000 [03:12<00:00, 52.03it/s]\n"
     ]
    },
    {
     "name": "stdout",
     "output_type": "stream",
     "text": [
      "Epoch 8, Loss: 1.7443235303878784\n"
     ]
    },
    {
     "name": "stderr",
     "output_type": "stream",
     "text": [
      "100%|██████████| 10000/10000 [03:23<00:00, 49.15it/s]\n"
     ]
    },
    {
     "name": "stdout",
     "output_type": "stream",
     "text": [
      "Epoch 9, Loss: 1.7434484099268914\n"
     ]
    },
    {
     "name": "stderr",
     "output_type": "stream",
     "text": [
      "100%|██████████| 10000/10000 [03:41<00:00, 45.05it/s]\n"
     ]
    },
    {
     "name": "stdout",
     "output_type": "stream",
     "text": [
      "Epoch 10, Loss: 1.742143963265419\n"
     ]
    },
    {
     "name": "stderr",
     "output_type": "stream",
     "text": [
      "100%|██████████| 10000/10000 [03:50<00:00, 43.48it/s]\n"
     ]
    },
    {
     "name": "stdout",
     "output_type": "stream",
     "text": [
      "Epoch 11, Loss: 1.7399068315386772\n"
     ]
    },
    {
     "name": "stderr",
     "output_type": "stream",
     "text": [
      "100%|██████████| 10000/10000 [03:52<00:00, 43.02it/s]\n"
     ]
    },
    {
     "name": "stdout",
     "output_type": "stream",
     "text": [
      "Epoch 12, Loss: 1.735873226606846\n"
     ]
    },
    {
     "name": "stderr",
     "output_type": "stream",
     "text": [
      "100%|██████████| 10000/10000 [03:48<00:00, 43.72it/s]\n"
     ]
    },
    {
     "name": "stdout",
     "output_type": "stream",
     "text": [
      "Epoch 13, Loss: 1.7286134745955468\n"
     ]
    },
    {
     "name": "stderr",
     "output_type": "stream",
     "text": [
      "100%|██████████| 10000/10000 [03:54<00:00, 42.68it/s]\n"
     ]
    },
    {
     "name": "stdout",
     "output_type": "stream",
     "text": [
      "Epoch 14, Loss: 1.7135644323468209\n"
     ]
    },
    {
     "name": "stderr",
     "output_type": "stream",
     "text": [
      "100%|██████████| 10000/10000 [03:49<00:00, 43.53it/s]\n"
     ]
    },
    {
     "name": "stdout",
     "output_type": "stream",
     "text": [
      "Epoch 15, Loss: 1.662113416647911\n"
     ]
    },
    {
     "name": "stderr",
     "output_type": "stream",
     "text": [
      "100%|██████████| 10000/10000 [03:46<00:00, 44.08it/s]\n"
     ]
    },
    {
     "name": "stdout",
     "output_type": "stream",
     "text": [
      "Epoch 16, Loss: 1.5811435099720954\n"
     ]
    },
    {
     "name": "stderr",
     "output_type": "stream",
     "text": [
      "100%|██████████| 10000/10000 [03:52<00:00, 43.01it/s]\n"
     ]
    },
    {
     "name": "stdout",
     "output_type": "stream",
     "text": [
      "Epoch 17, Loss: 1.55469035384655\n"
     ]
    },
    {
     "name": "stderr",
     "output_type": "stream",
     "text": [
      "100%|██████████| 10000/10000 [03:42<00:00, 44.99it/s]\n"
     ]
    },
    {
     "name": "stdout",
     "output_type": "stream",
     "text": [
      "Epoch 18, Loss: 1.5418866793632506\n"
     ]
    },
    {
     "name": "stderr",
     "output_type": "stream",
     "text": [
      "100%|██████████| 10000/10000 [02:39<00:00, 62.58it/s]\n"
     ]
    },
    {
     "name": "stdout",
     "output_type": "stream",
     "text": [
      "Epoch 19, Loss: 1.5300801386594773\n"
     ]
    },
    {
     "name": "stderr",
     "output_type": "stream",
     "text": [
      "100%|██████████| 10000/10000 [02:37<00:00, 63.48it/s]\n"
     ]
    },
    {
     "name": "stdout",
     "output_type": "stream",
     "text": [
      "Epoch 20, Loss: 1.5158753320097924\n"
     ]
    },
    {
     "name": "stderr",
     "output_type": "stream",
     "text": [
      "100%|██████████| 10000/10000 [02:36<00:00, 64.01it/s]\n"
     ]
    },
    {
     "name": "stdout",
     "output_type": "stream",
     "text": [
      "Epoch 21, Loss: 1.4973592595219611\n"
     ]
    },
    {
     "name": "stderr",
     "output_type": "stream",
     "text": [
      "100%|██████████| 10000/10000 [02:35<00:00, 64.41it/s]\n"
     ]
    },
    {
     "name": "stdout",
     "output_type": "stream",
     "text": [
      "Epoch 22, Loss: 1.4739687533974648\n"
     ]
    },
    {
     "name": "stderr",
     "output_type": "stream",
     "text": [
      "100%|██████████| 10000/10000 [02:38<00:00, 63.03it/s]\n"
     ]
    },
    {
     "name": "stdout",
     "output_type": "stream",
     "text": [
      "Epoch 23, Loss: 1.446204818212986\n"
     ]
    },
    {
     "name": "stderr",
     "output_type": "stream",
     "text": [
      "100%|██████████| 10000/10000 [02:34<00:00, 64.86it/s]\n"
     ]
    },
    {
     "name": "stdout",
     "output_type": "stream",
     "text": [
      "Epoch 24, Loss: 1.4146408069610596\n"
     ]
    },
    {
     "name": "stderr",
     "output_type": "stream",
     "text": [
      "100%|██████████| 10000/10000 [02:39<00:00, 62.86it/s]\n"
     ]
    },
    {
     "name": "stdout",
     "output_type": "stream",
     "text": [
      "Epoch 25, Loss: 1.380327007639408\n"
     ]
    },
    {
     "name": "stderr",
     "output_type": "stream",
     "text": [
      "100%|██████████| 10000/10000 [02:34<00:00, 64.56it/s]\n"
     ]
    },
    {
     "name": "stdout",
     "output_type": "stream",
     "text": [
      "Epoch 26, Loss: 1.3462410897254944\n"
     ]
    },
    {
     "name": "stderr",
     "output_type": "stream",
     "text": [
      "100%|██████████| 10000/10000 [02:37<00:00, 63.65it/s]\n"
     ]
    },
    {
     "name": "stdout",
     "output_type": "stream",
     "text": [
      "Epoch 27, Loss: 1.3154439862132072\n"
     ]
    },
    {
     "name": "stderr",
     "output_type": "stream",
     "text": [
      "100%|██████████| 10000/10000 [02:38<00:00, 63.00it/s]\n"
     ]
    },
    {
     "name": "stdout",
     "output_type": "stream",
     "text": [
      "Epoch 28, Loss: 1.2894085415244103\n"
     ]
    },
    {
     "name": "stderr",
     "output_type": "stream",
     "text": [
      "100%|██████████| 10000/10000 [03:44<00:00, 44.60it/s]\n"
     ]
    },
    {
     "name": "stdout",
     "output_type": "stream",
     "text": [
      "Epoch 29, Loss: 1.268329307115078\n"
     ]
    },
    {
     "name": "stderr",
     "output_type": "stream",
     "text": [
      "100%|██████████| 10000/10000 [03:44<00:00, 44.53it/s]\n"
     ]
    },
    {
     "name": "stdout",
     "output_type": "stream",
     "text": [
      "Epoch 30, Loss: 1.2513392454504966\n"
     ]
    },
    {
     "name": "stderr",
     "output_type": "stream",
     "text": [
      "100%|██████████| 10000/10000 [03:45<00:00, 44.38it/s]\n"
     ]
    },
    {
     "name": "stdout",
     "output_type": "stream",
     "text": [
      "Epoch 31, Loss: 1.2372906426548957\n"
     ]
    },
    {
     "name": "stderr",
     "output_type": "stream",
     "text": [
      "100%|██████████| 10000/10000 [03:43<00:00, 44.67it/s]\n"
     ]
    },
    {
     "name": "stdout",
     "output_type": "stream",
     "text": [
      "Epoch 32, Loss: 1.2252002005815505\n"
     ]
    },
    {
     "name": "stderr",
     "output_type": "stream",
     "text": [
      "100%|██████████| 10000/10000 [03:47<00:00, 44.03it/s]\n"
     ]
    },
    {
     "name": "stdout",
     "output_type": "stream",
     "text": [
      "Epoch 33, Loss: 1.2143009650588035\n"
     ]
    },
    {
     "name": "stderr",
     "output_type": "stream",
     "text": [
      "100%|██████████| 10000/10000 [03:43<00:00, 44.78it/s]\n"
     ]
    },
    {
     "name": "stdout",
     "output_type": "stream",
     "text": [
      "Epoch 34, Loss: 1.2040271630883217\n"
     ]
    },
    {
     "name": "stderr",
     "output_type": "stream",
     "text": [
      "100%|██████████| 10000/10000 [03:40<00:00, 45.38it/s]\n"
     ]
    },
    {
     "name": "stdout",
     "output_type": "stream",
     "text": [
      "Epoch 35, Loss: 1.1940524875044822\n"
     ]
    },
    {
     "name": "stderr",
     "output_type": "stream",
     "text": [
      "100%|██████████| 10000/10000 [03:42<00:00, 44.91it/s]\n"
     ]
    },
    {
     "name": "stdout",
     "output_type": "stream",
     "text": [
      "Epoch 36, Loss: 1.1842287245988845\n"
     ]
    },
    {
     "name": "stderr",
     "output_type": "stream",
     "text": [
      "100%|██████████| 10000/10000 [03:01<00:00, 55.09it/s]\n"
     ]
    },
    {
     "name": "stdout",
     "output_type": "stream",
     "text": [
      "Epoch 37, Loss: 1.174467601799965\n"
     ]
    },
    {
     "name": "stderr",
     "output_type": "stream",
     "text": [
      "100%|██████████| 10000/10000 [02:55<00:00, 56.94it/s]\n"
     ]
    },
    {
     "name": "stdout",
     "output_type": "stream",
     "text": [
      "Epoch 38, Loss: 1.1647031869649886\n"
     ]
    },
    {
     "name": "stderr",
     "output_type": "stream",
     "text": [
      "100%|██████████| 10000/10000 [03:15<00:00, 51.06it/s]\n"
     ]
    },
    {
     "name": "stdout",
     "output_type": "stream",
     "text": [
      "Epoch 39, Loss: 1.1548577658653258\n"
     ]
    },
    {
     "name": "stderr",
     "output_type": "stream",
     "text": [
      "100%|██████████| 10000/10000 [03:10<00:00, 52.62it/s]\n"
     ]
    },
    {
     "name": "stdout",
     "output_type": "stream",
     "text": [
      "Epoch 40, Loss: 1.144904821586609\n"
     ]
    },
    {
     "name": "stderr",
     "output_type": "stream",
     "text": [
      "100%|██████████| 10000/10000 [03:34<00:00, 46.62it/s]\n"
     ]
    },
    {
     "name": "stdout",
     "output_type": "stream",
     "text": [
      "Epoch 41, Loss: 1.134944723033905\n"
     ]
    },
    {
     "name": "stderr",
     "output_type": "stream",
     "text": [
      "100%|██████████| 10000/10000 [03:39<00:00, 45.60it/s]\n"
     ]
    },
    {
     "name": "stdout",
     "output_type": "stream",
     "text": [
      "Epoch 42, Loss: 1.1253112665474414\n"
     ]
    },
    {
     "name": "stderr",
     "output_type": "stream",
     "text": [
      "100%|██████████| 10000/10000 [03:44<00:00, 44.48it/s]\n"
     ]
    },
    {
     "name": "stdout",
     "output_type": "stream",
     "text": [
      "Epoch 43, Loss: 1.1164917479217051\n"
     ]
    },
    {
     "name": "stderr",
     "output_type": "stream",
     "text": [
      "100%|██████████| 10000/10000 [03:38<00:00, 45.80it/s]\n"
     ]
    },
    {
     "name": "stdout",
     "output_type": "stream",
     "text": [
      "Epoch 44, Loss: 1.1088597599446774\n"
     ]
    },
    {
     "name": "stderr",
     "output_type": "stream",
     "text": [
      "100%|██████████| 10000/10000 [03:42<00:00, 44.98it/s]\n"
     ]
    },
    {
     "name": "stdout",
     "output_type": "stream",
     "text": [
      "Epoch 45, Loss: 1.1024991414129734\n"
     ]
    },
    {
     "name": "stderr",
     "output_type": "stream",
     "text": [
      "100%|██████████| 10000/10000 [04:17<00:00, 38.88it/s]\n"
     ]
    },
    {
     "name": "stdout",
     "output_type": "stream",
     "text": [
      "Epoch 46, Loss: 1.0972647211551667\n"
     ]
    },
    {
     "name": "stderr",
     "output_type": "stream",
     "text": [
      "100%|██████████| 10000/10000 [04:15<00:00, 39.08it/s]\n"
     ]
    },
    {
     "name": "stdout",
     "output_type": "stream",
     "text": [
      "Epoch 47, Loss: 1.0929297555744648\n"
     ]
    },
    {
     "name": "stderr",
     "output_type": "stream",
     "text": [
      "100%|██████████| 10000/10000 [04:17<00:00, 38.86it/s]\n"
     ]
    },
    {
     "name": "stdout",
     "output_type": "stream",
     "text": [
      "Epoch 48, Loss: 1.0892798068642617\n"
     ]
    },
    {
     "name": "stderr",
     "output_type": "stream",
     "text": [
      "100%|██████████| 10000/10000 [04:16<00:00, 38.97it/s]\n"
     ]
    },
    {
     "name": "stdout",
     "output_type": "stream",
     "text": [
      "Epoch 49, Loss: 1.0861614340424537\n"
     ]
    },
    {
     "name": "stderr",
     "output_type": "stream",
     "text": [
      "100%|██████████| 10000/10000 [04:18<00:00, 38.62it/s]\n"
     ]
    },
    {
     "name": "stdout",
     "output_type": "stream",
     "text": [
      "Epoch 50, Loss: 1.0834904191970824\n"
     ]
    },
    {
     "name": "stderr",
     "output_type": "stream",
     "text": [
      "100%|██████████| 10000/10000 [04:16<00:00, 38.93it/s]\n"
     ]
    },
    {
     "name": "stdout",
     "output_type": "stream",
     "text": [
      "Epoch 51, Loss: 1.0812008746802806\n"
     ]
    },
    {
     "name": "stderr",
     "output_type": "stream",
     "text": [
      "100%|██████████| 10000/10000 [04:18<00:00, 38.69it/s]\n"
     ]
    },
    {
     "name": "stdout",
     "output_type": "stream",
     "text": [
      "Epoch 52, Loss: 1.0792415776371955\n"
     ]
    },
    {
     "name": "stderr",
     "output_type": "stream",
     "text": [
      "100%|██████████| 10000/10000 [04:09<00:00, 40.06it/s]\n"
     ]
    },
    {
     "name": "stdout",
     "output_type": "stream",
     "text": [
      "Epoch 53, Loss: 1.0775618271946907\n"
     ]
    },
    {
     "name": "stderr",
     "output_type": "stream",
     "text": [
      "100%|██████████| 10000/10000 [02:33<00:00, 65.09it/s]\n"
     ]
    },
    {
     "name": "stdout",
     "output_type": "stream",
     "text": [
      "Epoch 54, Loss: 1.07612982391119\n"
     ]
    },
    {
     "name": "stderr",
     "output_type": "stream",
     "text": [
      "100%|██████████| 10000/10000 [02:37<00:00, 63.45it/s]\n"
     ]
    },
    {
     "name": "stdout",
     "output_type": "stream",
     "text": [
      "Epoch 55, Loss: 1.0749140394806862\n"
     ]
    },
    {
     "name": "stderr",
     "output_type": "stream",
     "text": [
      "100%|██████████| 10000/10000 [02:34<00:00, 64.83it/s]\n"
     ]
    },
    {
     "name": "stdout",
     "output_type": "stream",
     "text": [
      "Epoch 56, Loss: 1.0738851094543933\n"
     ]
    },
    {
     "name": "stderr",
     "output_type": "stream",
     "text": [
      "100%|██████████| 10000/10000 [02:36<00:00, 63.93it/s]\n"
     ]
    },
    {
     "name": "stdout",
     "output_type": "stream",
     "text": [
      "Epoch 57, Loss: 1.073018935573101\n"
     ]
    },
    {
     "name": "stderr",
     "output_type": "stream",
     "text": [
      "100%|██████████| 10000/10000 [02:35<00:00, 64.52it/s]\n"
     ]
    },
    {
     "name": "stdout",
     "output_type": "stream",
     "text": [
      "Epoch 58, Loss: 1.0722983798742294\n"
     ]
    },
    {
     "name": "stderr",
     "output_type": "stream",
     "text": [
      "100%|██████████| 10000/10000 [02:33<00:00, 64.98it/s]\n"
     ]
    },
    {
     "name": "stdout",
     "output_type": "stream",
     "text": [
      "Epoch 59, Loss: 1.0717056278407573\n"
     ]
    },
    {
     "name": "stderr",
     "output_type": "stream",
     "text": [
      "100%|██████████| 10000/10000 [02:38<00:00, 63.09it/s]\n"
     ]
    },
    {
     "name": "stdout",
     "output_type": "stream",
     "text": [
      "Epoch 60, Loss: 1.0712326110899448\n"
     ]
    },
    {
     "name": "stderr",
     "output_type": "stream",
     "text": [
      "100%|██████████| 10000/10000 [02:33<00:00, 65.15it/s]\n"
     ]
    },
    {
     "name": "stdout",
     "output_type": "stream",
     "text": [
      "Epoch 61, Loss: 1.0708610852181912\n"
     ]
    },
    {
     "name": "stderr",
     "output_type": "stream",
     "text": [
      "100%|██████████| 10000/10000 [02:38<00:00, 62.91it/s]\n"
     ]
    },
    {
     "name": "stdout",
     "output_type": "stream",
     "text": [
      "Epoch 62, Loss: 1.0705723893404007\n"
     ]
    },
    {
     "name": "stderr",
     "output_type": "stream",
     "text": [
      "100%|██████████| 10000/10000 [03:07<00:00, 53.36it/s]\n"
     ]
    },
    {
     "name": "stdout",
     "output_type": "stream",
     "text": [
      "Epoch 63, Loss: 1.0703510588169098\n"
     ]
    },
    {
     "name": "stderr",
     "output_type": "stream",
     "text": [
      "100%|██████████| 10000/10000 [04:05<00:00, 40.72it/s]\n"
     ]
    },
    {
     "name": "stdout",
     "output_type": "stream",
     "text": [
      "Epoch 64, Loss: 1.0701824509322644\n"
     ]
    },
    {
     "name": "stderr",
     "output_type": "stream",
     "text": [
      "100%|██████████| 10000/10000 [04:07<00:00, 40.33it/s]\n"
     ]
    },
    {
     "name": "stdout",
     "output_type": "stream",
     "text": [
      "Epoch 65, Loss: 1.0700557246685027\n"
     ]
    },
    {
     "name": "stderr",
     "output_type": "stream",
     "text": [
      "100%|██████████| 10000/10000 [03:58<00:00, 41.92it/s]\n"
     ]
    },
    {
     "name": "stdout",
     "output_type": "stream",
     "text": [
      "Epoch 66, Loss: 1.069961785596609\n"
     ]
    },
    {
     "name": "stderr",
     "output_type": "stream",
     "text": [
      "100%|██████████| 10000/10000 [03:56<00:00, 42.25it/s]\n"
     ]
    },
    {
     "name": "stdout",
     "output_type": "stream",
     "text": [
      "Epoch 67, Loss: 1.069892962962389\n"
     ]
    },
    {
     "name": "stderr",
     "output_type": "stream",
     "text": [
      "100%|██████████| 10000/10000 [04:04<00:00, 40.83it/s]\n"
     ]
    },
    {
     "name": "stdout",
     "output_type": "stream",
     "text": [
      "Epoch 68, Loss: 1.0698433605015278\n"
     ]
    },
    {
     "name": "stderr",
     "output_type": "stream",
     "text": [
      "100%|██████████| 10000/10000 [03:56<00:00, 42.36it/s]\n"
     ]
    },
    {
     "name": "stdout",
     "output_type": "stream",
     "text": [
      "Epoch 69, Loss: 1.0698082431793212\n"
     ]
    },
    {
     "name": "stderr",
     "output_type": "stream",
     "text": [
      "100%|██████████| 10000/10000 [03:57<00:00, 42.12it/s]\n"
     ]
    },
    {
     "name": "stdout",
     "output_type": "stream",
     "text": [
      "Epoch 70, Loss: 1.0697836923718453\n"
     ]
    },
    {
     "name": "stderr",
     "output_type": "stream",
     "text": [
      "100%|██████████| 10000/10000 [03:57<00:00, 42.05it/s]\n"
     ]
    },
    {
     "name": "stdout",
     "output_type": "stream",
     "text": [
      "Epoch 71, Loss: 1.0697668787121772\n"
     ]
    },
    {
     "name": "stderr",
     "output_type": "stream",
     "text": [
      "100%|██████████| 10000/10000 [04:02<00:00, 41.22it/s]\n"
     ]
    },
    {
     "name": "stdout",
     "output_type": "stream",
     "text": [
      "Epoch 72, Loss: 1.0697556123614311\n"
     ]
    },
    {
     "name": "stderr",
     "output_type": "stream",
     "text": [
      "100%|██████████| 10000/10000 [04:07<00:00, 40.48it/s]\n"
     ]
    },
    {
     "name": "stdout",
     "output_type": "stream",
     "text": [
      "Epoch 73, Loss: 1.0697481905281543\n"
     ]
    },
    {
     "name": "stderr",
     "output_type": "stream",
     "text": [
      "100%|██████████| 10000/10000 [04:15<00:00, 39.17it/s]\n"
     ]
    },
    {
     "name": "stdout",
     "output_type": "stream",
     "text": [
      "Epoch 74, Loss: 1.0697434236705303\n"
     ]
    },
    {
     "name": "stderr",
     "output_type": "stream",
     "text": [
      "100%|██████████| 10000/10000 [04:18<00:00, 38.67it/s]\n"
     ]
    },
    {
     "name": "stdout",
     "output_type": "stream",
     "text": [
      "Epoch 75, Loss: 1.0697404144108296\n"
     ]
    },
    {
     "name": "stderr",
     "output_type": "stream",
     "text": [
      "100%|██████████| 10000/10000 [04:05<00:00, 40.68it/s]\n"
     ]
    },
    {
     "name": "stdout",
     "output_type": "stream",
     "text": [
      "Epoch 76, Loss: 1.0697385527551173\n"
     ]
    },
    {
     "name": "stderr",
     "output_type": "stream",
     "text": [
      "100%|██████████| 10000/10000 [04:03<00:00, 41.11it/s]\n"
     ]
    },
    {
     "name": "stdout",
     "output_type": "stream",
     "text": [
      "Epoch 77, Loss: 1.0697374215841293\n"
     ]
    },
    {
     "name": "stderr",
     "output_type": "stream",
     "text": [
      "100%|██████████| 10000/10000 [03:01<00:00, 55.01it/s]\n"
     ]
    },
    {
     "name": "stdout",
     "output_type": "stream",
     "text": [
      "Epoch 78, Loss: 1.0697367523908614\n"
     ]
    },
    {
     "name": "stderr",
     "output_type": "stream",
     "text": [
      "100%|██████████| 10000/10000 [02:37<00:00, 63.32it/s]\n"
     ]
    },
    {
     "name": "stdout",
     "output_type": "stream",
     "text": [
      "Epoch 79, Loss: 1.0697363703846932\n"
     ]
    },
    {
     "name": "stderr",
     "output_type": "stream",
     "text": [
      "100%|██████████| 10000/10000 [02:38<00:00, 62.96it/s]\n"
     ]
    },
    {
     "name": "stdout",
     "output_type": "stream",
     "text": [
      "Epoch 80, Loss: 1.0697361611127854\n"
     ]
    },
    {
     "name": "stderr",
     "output_type": "stream",
     "text": [
      "100%|██████████| 10000/10000 [02:36<00:00, 63.72it/s]\n"
     ]
    },
    {
     "name": "stdout",
     "output_type": "stream",
     "text": [
      "Epoch 81, Loss: 1.0697360473275184\n"
     ]
    },
    {
     "name": "stderr",
     "output_type": "stream",
     "text": [
      "100%|██████████| 10000/10000 [02:36<00:00, 64.00it/s]\n"
     ]
    },
    {
     "name": "stdout",
     "output_type": "stream",
     "text": [
      "Epoch 82, Loss: 1.0697359851360322\n"
     ]
    },
    {
     "name": "stderr",
     "output_type": "stream",
     "text": [
      "100%|██████████| 10000/10000 [02:37<00:00, 63.51it/s]\n"
     ]
    },
    {
     "name": "stdout",
     "output_type": "stream",
     "text": [
      "Epoch 83, Loss: 1.0697359519779681\n"
     ]
    },
    {
     "name": "stderr",
     "output_type": "stream",
     "text": [
      "100%|██████████| 10000/10000 [02:38<00:00, 63.29it/s]\n"
     ]
    },
    {
     "name": "stdout",
     "output_type": "stream",
     "text": [
      "Epoch 84, Loss: 1.0697359340548516\n"
     ]
    },
    {
     "name": "stderr",
     "output_type": "stream",
     "text": [
      "100%|██████████| 10000/10000 [02:35<00:00, 64.34it/s]\n"
     ]
    },
    {
     "name": "stdout",
     "output_type": "stream",
     "text": [
      "Epoch 85, Loss: 1.0697359245836735\n"
     ]
    },
    {
     "name": "stderr",
     "output_type": "stream",
     "text": [
      "100%|██████████| 10000/10000 [02:41<00:00, 61.78it/s]\n"
     ]
    },
    {
     "name": "stdout",
     "output_type": "stream",
     "text": [
      "Epoch 86, Loss: 1.0697359192371367\n"
     ]
    },
    {
     "name": "stderr",
     "output_type": "stream",
     "text": [
      "100%|██████████| 10000/10000 [02:34<00:00, 64.59it/s]\n"
     ]
    },
    {
     "name": "stdout",
     "output_type": "stream",
     "text": [
      "Epoch 87, Loss: 1.0697359166264535\n"
     ]
    },
    {
     "name": "stderr",
     "output_type": "stream",
     "text": [
      "100%|██████████| 10000/10000 [02:38<00:00, 63.26it/s]\n"
     ]
    },
    {
     "name": "stdout",
     "output_type": "stream",
     "text": [
      "Epoch 88, Loss: 1.0697359154760837\n"
     ]
    },
    {
     "name": "stderr",
     "output_type": "stream",
     "text": [
      "100%|██████████| 10000/10000 [02:36<00:00, 63.92it/s]\n"
     ]
    },
    {
     "name": "stdout",
     "output_type": "stream",
     "text": [
      "Epoch 89, Loss: 1.0697359147429466\n"
     ]
    },
    {
     "name": "stderr",
     "output_type": "stream",
     "text": [
      "100%|██████████| 10000/10000 [02:35<00:00, 64.38it/s]\n"
     ]
    },
    {
     "name": "stdout",
     "output_type": "stream",
     "text": [
      "Epoch 90, Loss: 1.0697359142661094\n"
     ]
    },
    {
     "name": "stderr",
     "output_type": "stream",
     "text": [
      "100%|██████████| 10000/10000 [02:35<00:00, 64.36it/s]\n"
     ]
    },
    {
     "name": "stdout",
     "output_type": "stream",
     "text": [
      "Epoch 91, Loss: 1.0697359140098095\n"
     ]
    },
    {
     "name": "stderr",
     "output_type": "stream",
     "text": [
      "100%|██████████| 10000/10000 [02:35<00:00, 64.29it/s]\n"
     ]
    },
    {
     "name": "stdout",
     "output_type": "stream",
     "text": [
      "Epoch 92, Loss: 1.0697359137952327\n"
     ]
    },
    {
     "name": "stderr",
     "output_type": "stream",
     "text": [
      "100%|██████████| 10000/10000 [02:40<00:00, 62.46it/s]\n"
     ]
    },
    {
     "name": "stdout",
     "output_type": "stream",
     "text": [
      "Epoch 93, Loss: 1.0697359137237072\n"
     ]
    },
    {
     "name": "stderr",
     "output_type": "stream",
     "text": [
      "100%|██████████| 10000/10000 [02:34<00:00, 64.83it/s]\n"
     ]
    },
    {
     "name": "stdout",
     "output_type": "stream",
     "text": [
      "Epoch 94, Loss: 1.0697359136879445\n"
     ]
    },
    {
     "name": "stderr",
     "output_type": "stream",
     "text": [
      "100%|██████████| 10000/10000 [02:38<00:00, 63.19it/s]\n"
     ]
    },
    {
     "name": "stdout",
     "output_type": "stream",
     "text": [
      "Epoch 95, Loss: 1.069735913592577\n"
     ]
    },
    {
     "name": "stderr",
     "output_type": "stream",
     "text": [
      "100%|██████████| 10000/10000 [02:35<00:00, 64.40it/s]\n"
     ]
    },
    {
     "name": "stdout",
     "output_type": "stream",
     "text": [
      "Epoch 96, Loss: 1.0697359135568143\n"
     ]
    },
    {
     "name": "stderr",
     "output_type": "stream",
     "text": [
      "100%|██████████| 10000/10000 [02:38<00:00, 63.16it/s]\n"
     ]
    },
    {
     "name": "stdout",
     "output_type": "stream",
     "text": [
      "Epoch 97, Loss: 1.0697359135329723\n"
     ]
    },
    {
     "name": "stderr",
     "output_type": "stream",
     "text": [
      "100%|██████████| 10000/10000 [02:36<00:00, 63.86it/s]\n"
     ]
    },
    {
     "name": "stdout",
     "output_type": "stream",
     "text": [
      "Epoch 98, Loss: 1.0697359135329723\n"
     ]
    },
    {
     "name": "stderr",
     "output_type": "stream",
     "text": [
      "100%|██████████| 10000/10000 [02:36<00:00, 63.95it/s]\n"
     ]
    },
    {
     "name": "stdout",
     "output_type": "stream",
     "text": [
      "Epoch 99, Loss: 1.0697359135210514\n"
     ]
    },
    {
     "name": "stderr",
     "output_type": "stream",
     "text": [
      "100%|██████████| 10000/10000 [02:36<00:00, 63.86it/s]\n"
     ]
    },
    {
     "name": "stdout",
     "output_type": "stream",
     "text": [
      "Epoch 100, Loss: 1.0697359135091304\n"
     ]
    },
    {
     "data": {
      "text/plain": [
       "[<matplotlib.lines.Line2D at 0x2041c4f7f40>]"
      ]
     },
     "execution_count": 22,
     "metadata": {},
     "output_type": "execute_result"
    },
    {
     "data": {
      "image/png": "[encoded data removed]",
      "text/plain": [
       "<Figure size 640x480 with 1 Axes>"
      ]
     },
     "metadata": {},
     "output_type": "display_data"
    }
   ],
   "source": [
    "# Train\n",
    "model.train()\n",
    "losses = []\n",
    "for epoch in range(EPOCHS):\n",
    "    epoch_loss = 0\n",
    "    for batch in tqdm(train_loader):\n",
    "        for data in batch:\n",
    "            input_tensor = torch.tensor([char_to_idx(char) for char in data[:-1]], dtype=torch.long).unsqueeze(0).to(device)\n",
    "            target_tensor = torch.tensor([char_to_idx(char) for char in data[1:]], dtype=torch.long).unsqueeze(0).to(device)\n",
    "\n",
    "            optimizer.zero_grad()\n",
    "            output = model(input_tensor)  # (batch=1, seq_len) -> (batch=1, seq_len, VOCAB_SIZE)\n",
    "\n",
    "            output_onehot = np.argmax(output.cpu().detach(), axis=2)  # (batch=1, seq_len)\n",
    "            \n",
    "            pred = output.view(-1, VOCAB_SIZE)  # (seq_len, VOCAB_SIZE)\n",
    "            true = target_tensor.view(-1)  # (seq_len)\n",
    "            # loss = F.cross_entropy(pred, true)  # Compare all (inefficient)\n",
    "            \n",
    "            eqi = data[:-1].index('=')\n",
    "            lhs = torch.zeros_like(pred[:eqi])\n",
    "            for i in range(eqi):\n",
    "                lhs[i][true[i]] = 1\n",
    "            rhs_pred = torch.cat((lhs, pred[eqi:]), dim=0)  # (seq_len, VOCAB_SIZE)\n",
    "            loss = F.cross_entropy(rhs_pred, true)  # Compare RHS\n",
    "            \n",
    "            loss.backward()\n",
    "            optimizer.step()\n",
    "\n",
    "            epoch_loss += loss.item()/len(batch)\n",
    "    losses.append(epoch_loss/len(train_loader))\n",
    "    print(f\"Epoch {epoch+1}, Loss: {losses[-1]}\")\n",
    "    \n",
    "    data = emb_func(torch.tensor([char_to_idx(token) for token in TOKENS]).to(device))\n",
    "    vis_pca(data, TOKENS, title=f'{PCA_TITLE_PREFIX} (Epoch:{epoch+1}, Loss:{losses[-1]:.2f})')\n",
    "\n",
    "plt.title('Loss'); plt.plot(losses)"
   ]
  },
  {
   "cell_type": "code",
   "execution_count": 23,
   "id": "fb516ab7-ed61-4f80-b9d4-a3756898761e",
   "metadata": {},
   "outputs": [
    {
     "name": "stdout",
     "output_type": "stream",
     "text": [
      "sentence:  822+147=969\n",
      "target_char:  ['9', '6', '9']\n",
      "output_char:  ['9', '6', '9']\n",
      "sentence:  46+883=254\n",
      "target_char:  ['2', '5', '4']\n",
      "output_char:  ['2', '5', '4']\n",
      "sentence:  516+629=1451\n",
      "target_char:  ['1', '4', '5', '1']\n",
      "output_char:  ['1', '4', '5', '1']\n",
      "sentence:  894+645=4401\n",
      "target_char:  ['4', '4', '0', '1']\n",
      "output_char:  ['4', '4', '0', '1']\n",
      "sentence:  296+203=499\n",
      "target_char:  ['4', '9', '9']\n",
      "output_char:  ['4', '9', '9']\n",
      "sentence:  9+826=736\n",
      "target_char:  ['7', '3', '6']\n",
      "output_char:  ['7', '3', '6']\n",
      "sentence:  186+479=5561\n",
      "target_char:  ['5', '5', '6', '1']\n",
      "output_char:  ['5', '5', '6', '1']\n",
      "sentence:  705+421=136\n",
      "target_char:  ['1', '3', '6']\n",
      "output_char:  ['1', '3', '6']\n",
      "sentence:  583+8=393\n",
      "target_char:  ['3', '9', '3']\n",
      "output_char:  ['3', '9', '3']\n",
      "sentence:  338+475=7041\n",
      "target_char:  ['7', '0', '4', '1']\n",
      "output_char:  ['7', '0', '4', '1']\n",
      "sentence:  349+32=669\n",
      "target_char:  ['6', '6', '9']\n",
      "output_char:  ['6', '6', '9']\n",
      "sentence:  338+693=9221\n",
      "target_char:  ['9', '2', '2', '1']\n",
      "output_char:  ['9', '2', '2', '1']\n",
      "sentence:  059+897=8471\n",
      "target_char:  ['8', '4', '7', '1']\n",
      "output_char:  ['8', '4', '7', '1']\n",
      "sentence:  458+375=7241\n",
      "target_char:  ['7', '2', '4', '1']\n",
      "output_char:  ['7', '2', '4', '1']\n",
      "sentence:  002+788=7801\n",
      "target_char:  ['7', '8', '0', '1']\n",
      "output_char:  ['7', '8', '0', '1']\n",
      "sentence:  871+754=536\n",
      "target_char:  ['5', '3', '6']\n",
      "output_char:  ['5', '3', '6']\n",
      "sentence:  158+049=1971\n",
      "target_char:  ['1', '9', '7', '1']\n",
      "output_char:  ['1', '9', '7', '1']\n",
      "sentence:  146+417=5531\n",
      "target_char:  ['5', '5', '3', '1']\n",
      "output_char:  ['5', '5', '3', '1']\n",
      "sentence:  844+068=8031\n",
      "target_char:  ['8', '0', '3', '1']\n",
      "output_char:  ['8', '0', '3', '1']\n",
      "sentence:  303+999=2031\n",
      "target_char:  ['2', '0', '3', '1']\n",
      "output_char:  ['2', '0', '3', '1']\n",
      "sentence:  935+153=098\n",
      "target_char:  ['0', '9', '8']\n",
      "output_char:  ['0', '9', '8']\n",
      "sentence:  542+284=727\n",
      "target_char:  ['7', '2', '7']\n",
      "output_char:  ['7', '2', '7']\n",
      "sentence:  335+304=639\n",
      "target_char:  ['6', '3', '9']\n",
      "output_char:  ['6', '3', '9']\n",
      "sentence:  059+864=8141\n",
      "target_char:  ['8', '1', '4', '1']\n",
      "output_char:  ['8', '1', '4', '1']\n",
      "sentence:  425+166=5811\n",
      "target_char:  ['5', '8', '1', '1']\n",
      "output_char:  ['5', '8', '1', '1']\n",
      "sentence:  92+139=069\n",
      "target_char:  ['0', '6', '9']\n",
      "output_char:  ['0', '6', '9']\n",
      "sentence:  655+604=269\n",
      "target_char:  ['2', '6', '9']\n",
      "output_char:  ['2', '6', '9']\n",
      "sentence:  657+216=8631\n",
      "target_char:  ['8', '6', '3', '1']\n",
      "output_char:  ['8', '6', '3', '1']\n",
      "sentence:  326+695=9121\n",
      "target_char:  ['9', '1', '2', '1']\n",
      "output_char:  ['9', '1', '2', '1']\n",
      "sentence:  819+147=9561\n",
      "target_char:  ['9', '5', '6', '1']\n",
      "output_char:  ['9', '5', '6', '1']\n",
      "sentence:  187+277=3551\n",
      "target_char:  ['3', '5', '5', '1']\n",
      "output_char:  ['3', '5', '5', '1']\n",
      "sentence:  651+557=119\n",
      "target_char:  ['1', '1', '9']\n",
      "output_char:  ['1', '1', '9']\n",
      "sentence:  992+77=673\n",
      "target_char:  ['6', '7', '3']\n",
      "output_char:  ['6', '7', '3']\n",
      "sentence:  543+822=375\n",
      "target_char:  ['3', '7', '5']\n",
      "output_char:  ['3', '7', '5']\n",
      "sentence:  323+763=096\n",
      "target_char:  ['0', '9', '6']\n",
      "output_char:  ['0', '9', '6']\n",
      "sentence:  6+989=599\n",
      "target_char:  ['5', '9', '9']\n",
      "output_char:  ['5', '9', '9']\n",
      "sentence:  589+593=0831\n",
      "target_char:  ['0', '8', '3', '1']\n",
      "output_char:  ['0', '8', '3', '1']\n",
      "sentence:  352+676=929\n",
      "target_char:  ['9', '2', '9']\n",
      "output_char:  ['9', '2', '9']\n",
      "sentence:  521+12=641\n",
      "target_char:  ['6', '4', '1']\n",
      "output_char:  ['6', '4', '1']\n",
      "sentence:  765+783=459\n",
      "target_char:  ['4', '5', '9']\n",
      "output_char:  ['4', '5', '9']\n",
      "sentence:  448+816=2641\n",
      "target_char:  ['2', '6', '4', '1']\n",
      "output_char:  ['2', '6', '4', '1']\n",
      "sentence:  863+641=415\n",
      "target_char:  ['4', '1', '5']\n",
      "output_char:  ['4', '1', '5']\n",
      "sentence:  553+389=8331\n",
      "target_char:  ['8', '3', '3', '1']\n",
      "output_char:  ['8', '3', '3', '1']\n",
      "sentence:  797+692=3901\n",
      "target_char:  ['3', '9', '0', '1']\n",
      "output_char:  ['3', '9', '0', '1']\n",
      "sentence:  151+546=697\n",
      "target_char:  ['6', '9', '7']\n",
      "output_char:  ['6', '9', '7']\n",
      "sentence:  361+255=517\n",
      "target_char:  ['5', '1', '7']\n",
      "output_char:  ['5', '1', '7']\n",
      "sentence:  073+037=0011\n",
      "target_char:  ['0', '0', '1', '1']\n",
      "output_char:  ['0', '0', '1', '1']\n",
      "sentence:  403+382=785\n",
      "target_char:  ['7', '8', '5']\n",
      "output_char:  ['7', '8', '5']\n",
      "sentence:  813+095=809\n",
      "target_char:  ['8', '0', '9']\n",
      "output_char:  ['8', '0', '9']\n",
      "sentence:  888+921=7101\n",
      "target_char:  ['7', '1', '0', '1']\n",
      "output_char:  ['7', '1', '0', '1']\n",
      "sentence:  291+833=035\n",
      "target_char:  ['0', '3', '5']\n",
      "output_char:  ['0', '3', '5']\n",
      "sentence:  546+557=0041\n",
      "target_char:  ['0', '0', '4', '1']\n",
      "output_char:  ['0', '0', '4', '1']\n",
      "sentence:  679+954=5341\n",
      "target_char:  ['5', '3', '4', '1']\n",
      "output_char:  ['5', '3', '4', '1']\n",
      "sentence:  15+312=462\n",
      "target_char:  ['4', '6', '2']\n",
      "output_char:  ['4', '6', '2']\n",
      "sentence:  089+665=6451\n",
      "target_char:  ['6', '4', '5', '1']\n",
      "output_char:  ['6', '4', '5', '1']\n",
      "sentence:  55+193=644\n",
      "target_char:  ['6', '4', '4']\n",
      "output_char:  ['6', '4', '4']\n",
      "sentence:  605+17=775\n",
      "target_char:  ['7', '7', '5']\n",
      "output_char:  ['7', '7', '5']\n",
      "sentence:  648+393=9321\n",
      "target_char:  ['9', '3', '2', '1']\n",
      "output_char:  ['9', '3', '2', '1']\n",
      "sentence:  173+809=9721\n",
      "target_char:  ['9', '7', '2', '1']\n",
      "output_char:  ['9', '7', '2', '1']\n",
      "sentence:  105+181=286\n",
      "target_char:  ['2', '8', '6']\n",
      "output_char:  ['2', '8', '6']\n",
      "sentence:  162+672=735\n",
      "target_char:  ['7', '3', '5']\n",
      "output_char:  ['7', '3', '5']\n",
      "sentence:  762+838=5011\n",
      "target_char:  ['5', '0', '1', '1']\n",
      "output_char:  ['5', '0', '1', '1']\n",
      "sentence:  556+568=0251\n",
      "target_char:  ['0', '2', '5', '1']\n",
      "output_char:  ['0', '2', '5', '1']\n",
      "sentence:  665+894=4601\n",
      "target_char:  ['4', '6', '0', '1']\n",
      "output_char:  ['4', '6', '0', '1']\n",
      "sentence:  166+076=1331\n",
      "target_char:  ['1', '3', '3', '1']\n",
      "output_char:  ['1', '3', '3', '1']\n",
      "sentence:  056+024=0701\n",
      "target_char:  ['0', '7', '0', '1']\n",
      "output_char:  ['0', '7', '0', '1']\n",
      "sentence:  19+311=402\n",
      "target_char:  ['4', '0', '2']\n",
      "output_char:  ['4', '0', '2']\n",
      "sentence:  962+318=2801\n",
      "target_char:  ['2', '8', '0', '1']\n",
      "output_char:  ['2', '8', '0', '1']\n",
      "sentence:  974+164=049\n",
      "target_char:  ['0', '4', '9']\n",
      "output_char:  ['0', '4', '9']\n",
      "sentence:  321+98=212\n",
      "target_char:  ['2', '1', '2']\n",
      "output_char:  ['2', '1', '2']\n",
      "sentence:  945+982=838\n",
      "target_char:  ['8', '3', '8']\n",
      "output_char:  ['8', '3', '8']\n",
      "sentence:  285+79=976\n",
      "target_char:  ['9', '7', '6']\n",
      "output_char:  ['9', '7', '6']\n",
      "sentence:  002+253=255\n",
      "target_char:  ['2', '5', '5']\n",
      "output_char:  ['2', '5', '5']\n",
      "sentence:  978+141=0201\n",
      "target_char:  ['0', '2', '0', '1']\n",
      "output_char:  ['0', '2', '0', '1']\n",
      "sentence:  619+21=829\n",
      "target_char:  ['8', '2', '9']\n",
      "output_char:  ['8', '2', '9']\n",
      "sentence:  327+68=908\n",
      "target_char:  ['9', '0', '8']\n",
      "output_char:  ['9', '0', '8']\n",
      "sentence:  464+197=5521\n",
      "target_char:  ['5', '5', '2', '1']\n",
      "output_char:  ['5', '5', '2', '1']\n",
      "sentence:  037+837=8641\n",
      "target_char:  ['8', '6', '4', '1']\n",
      "output_char:  ['8', '6', '4', '1']\n",
      "sentence:  62+413=043\n",
      "target_char:  ['0', '4', '3']\n",
      "output_char:  ['0', '4', '3']\n",
      "sentence:  829+284=0141\n",
      "target_char:  ['0', '1', '4', '1']\n",
      "output_char:  ['0', '1', '4', '1']\n",
      "sentence:  867+296=0641\n",
      "target_char:  ['0', '6', '4', '1']\n",
      "output_char:  ['0', '6', '4', '1']\n",
      "sentence:  76+711=481\n",
      "target_char:  ['4', '8', '1']\n",
      "output_char:  ['4', '8', '1']\n",
      "sentence:  649+388=9281\n",
      "target_char:  ['9', '2', '8', '1']\n",
      "output_char:  ['9', '2', '8', '1']\n",
      "sentence:  845+519=3641\n",
      "target_char:  ['3', '6', '4', '1']\n",
      "output_char:  ['3', '6', '4', '1']\n",
      "sentence:  297+441=639\n",
      "target_char:  ['6', '3', '9']\n",
      "output_char:  ['6', '3', '9']\n",
      "sentence:  957+48=348\n",
      "target_char:  ['3', '4', '8']\n",
      "output_char:  ['3', '4', '8']\n",
      "sentence:  257+028=2751\n",
      "target_char:  ['2', '7', '5', '1']\n",
      "output_char:  ['2', '7', '5', '1']\n",
      "sentence:  858+443=2021\n",
      "target_char:  ['2', '0', '2', '1']\n",
      "output_char:  ['2', '0', '2', '1']\n",
      "sentence:  318+613=9211\n",
      "target_char:  ['9', '2', '1', '1']\n",
      "output_char:  ['9', '2', '1', '1']\n",
      "sentence:  173+765=839\n",
      "target_char:  ['8', '3', '9']\n",
      "output_char:  ['8', '3', '9']\n",
      "sentence:  173+44=514\n",
      "target_char:  ['5', '1', '4']\n",
      "output_char:  ['5', '1', '4']\n",
      "sentence:  199+643=7331\n",
      "target_char:  ['7', '3', '3', '1']\n",
      "output_char:  ['7', '3', '3', '1']\n",
      "sentence:  979+201=1801\n",
      "target_char:  ['1', '8', '0', '1']\n",
      "output_char:  ['1', '8', '0', '1']\n",
      "sentence:  556+015=5611\n",
      "target_char:  ['5', '6', '1', '1']\n",
      "output_char:  ['5', '6', '1', '1']\n",
      "sentence:  573+366=8301\n",
      "target_char:  ['8', '3', '0', '1']\n",
      "output_char:  ['8', '3', '0', '1']\n",
      "sentence:  741+83=581\n",
      "target_char:  ['5', '8', '1']\n",
      "output_char:  ['5', '8', '1']\n",
      "sentence:  171+214=385\n",
      "target_char:  ['3', '8', '5']\n",
      "output_char:  ['3', '8', '5']\n",
      "sentence:  474+464=839\n",
      "target_char:  ['8', '3', '9']\n",
      "output_char:  ['8', '3', '9']\n",
      "sentence:  969+002=9611\n",
      "target_char:  ['9', '6', '1', '1']\n",
      "output_char:  ['9', '6', '1', '1']\n",
      "sentence:  965+476=3421\n",
      "target_char:  ['3', '4', '2', '1']\n",
      "output_char:  ['3', '4', '2', '1']\n"
     ]
    }
   ],
   "source": [
    "test_dataset = AdditionDataset(num_samples=TEST_SAMPLE_SIZE)\n",
    "test_loader = DataLoader(test_dataset, batch_size=1)\n",
    "\n",
    "def evaluate_model(model, data):\n",
    "    model.eval()  # 모델을 평가 모드로 설정\n",
    "    \n",
    "    pred_total = pred_correct = 0\n",
    "    with torch.no_grad():\n",
    "        for batch in test_loader:\n",
    "            for data in batch:\n",
    "                input_tensor = torch.tensor([char_to_idx(char) for char in data[:-1]], dtype=torch.long).unsqueeze(0).to(device)\n",
    "                target_tensor = torch.tensor([char_to_idx(char) for char in data[1:]], dtype=torch.long).unsqueeze(0).to(device)\n",
    "    \n",
    "                output = model(input_tensor)\n",
    "\n",
    "                output_onehot = np.argmax(output.cpu().detach(), axis=2)\n",
    "                eqi = data[:-1].index('=')\n",
    "                pred_total += len(target_tensor[0][eqi:])\n",
    "                pred_correct += sum(1 for i, j in zip(target_tensor[0][eqi:], output_onehot[0][eqi:]) if i == j)\n",
    "                print('sentence: ', data)\n",
    "                print('target_char: ', [idx_to_char(i) for i in target_tensor[0][eqi:]])\n",
    "                print('output_char: ', [idx_to_char(i) for i in output_onehot[0][eqi:]])\n",
    "\n",
    "    return {'accuracy': pred_correct/pred_total}\n",
    "\n",
    "accuracy = evaluate_model(model, test_dataset)['accuracy']"
   ]
  },
  {
   "cell_type": "code",
   "execution_count": 24,
   "id": "4ffe4ce5-4391-4466-94c7-3427b827d11d",
   "metadata": {},
   "outputs": [
    {
     "name": "stdout",
     "output_type": "stream",
     "text": [
      "Accuracy:  1.0\n"
     ]
    }
   ],
   "source": [
    "print(\"Accuracy: \", accuracy)"
   ]
  },
  {
   "cell_type": "code",
   "execution_count": 25,
   "id": "1bb164fa",
   "metadata": {},
   "outputs": [],
   "source": [
    "# Write experimental results\n",
    "if not os.path.exists('emb_vis'): os.makedirs('emb_vis')\n",
    "filename=f'exp_res/{accuracy*100:.0f}-InRev{REVERSE_INPUT}-OutRev{REVERSE_OUTPUT}-{NUM1_RANGE}-{NUM2_RANGE}-Train{TRAINING_SAMPLE_SIZE}-Test{TEST_SAMPLE_SIZE}-Epoch{TRAINING_EPOCH}-{time.strftime(\"%Y%m%d-%H%M%S\")}.txt'\n",
    "with open(filename, 'w') as f:\n",
    "    f.write(f'Accuracy: {accuracy}\\n')\n",
    "    f.write(f'Loss: {losses}\\n')"
   ]
  },
  {
   "cell_type": "code",
   "execution_count": 26,
   "id": "504502a9",
   "metadata": {},
   "outputs": [
    {
     "data": {
      "image/png": "[encoded data removed]",
      "text/plain": [
       "<Figure size 1400x1400 with 4 Axes>"
      ]
     },
     "metadata": {},
     "output_type": "display_data"
    }
   ],
   "source": [
    "vis_pca(data, TOKENS, title=f'log: {filename}\\n\\n{PCA_TITLE_PREFIX} (Test Accuracy: {accuracy*100:.2f}%)', show=True)"
   ]
  },
  {
   "cell_type": "code",
   "execution_count": null,
   "id": "3095785a",
   "metadata": {},
   "outputs": [],
   "source": []
  },
  {
   "cell_type": "code",
   "execution_count": null,
   "id": "fd987e11",
   "metadata": {},
   "outputs": [],
   "source": []
  }
 ],
 "metadata": {
  "kernelspec": {
   "display_name": "Python 3 (ipykernel)",
   "language": "python",
   "name": "python3"
  },
  "language_info": {
   "codemirror_mode": {
    "name": "ipython",
    "version": 3
   },
   "file_extension": ".py",
   "mimetype": "text/x-python",
   "name": "python",
   "nbconvert_exporter": "python",
   "pygments_lexer": "ipython3",
   "version": "3.8.10"
  }
 },
 "nbformat": 4,
 "nbformat_minor": 5
}
